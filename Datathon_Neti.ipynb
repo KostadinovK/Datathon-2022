{
 "cells": [
  {
   "cell_type": "code",
   "execution_count": 3,
   "outputs": [],
   "source": [
    "import pandas as pd\n",
    "from sklearn.cluster import KMeans\n",
    "from sklearn.cluster import MiniBatchKMeans\n",
    "from sklearn.mixture import GaussianMixture\n",
    "import matplotlib.pyplot as plt\n",
    "from tqdm.auto import tqdm\n",
    "from sklearn.model_selection import train_test_split\n",
    "from sklearn.manifold import TSNE\n",
    "from matplotlib import cm as CM\n",
    "import numpy as NP\n",
    "import tensorflow as tf"
   ],
   "metadata": {
    "collapsed": false,
    "pycharm": {
     "name": "#%%\n"
    }
   }
  },
  {
   "cell_type": "code",
   "execution_count": 4,
   "outputs": [],
   "source": [
    "tokens = pd.read_csv (r'Traits.csv')\n",
    "sales = pd.read_csv (r'Sales.csv')"
   ],
   "metadata": {
    "collapsed": false,
    "pycharm": {
     "name": "#%%\n"
    }
   }
  },
  {
   "cell_type": "code",
   "execution_count": 5,
   "outputs": [
    {
     "data": {
      "text/plain": "        Unnamed: 0      collection  \\\n0                0           azuki   \n1                1           azuki   \n2                2           azuki   \n3                3           azuki   \n4                4           azuki   \n...            ...             ...   \n696003       44435  pudgy_penguins   \n696004       44436  pudgy_penguins   \n696005       44437  pudgy_penguins   \n696006       44438  pudgy_penguins   \n696007       44439  pudgy_penguins   \n\n                                          contract  token_id  \\\n0       0xed5af388653567af2f388e6224dc7c4b3241c544         0   \n1       0xed5af388653567af2f388e6224dc7c4b3241c544         0   \n2       0xed5af388653567af2f388e6224dc7c4b3241c544         0   \n3       0xed5af388653567af2f388e6224dc7c4b3241c544         0   \n4       0xed5af388653567af2f388e6224dc7c4b3241c544         0   \n...                                            ...       ...   \n696003  0xbd3531da5cf5857e7cfaa92426877b022e612cf8      8887   \n696004  0xbd3531da5cf5857e7cfaa92426877b022e612cf8      8887   \n696005  0xbd3531da5cf5857e7cfaa92426877b022e612cf8      8887   \n696006  0xbd3531da5cf5857e7cfaa92426877b022e612cf8      8887   \n696007  0xbd3531da5cf5857e7cfaa92426877b022e612cf8      8887   \n\n                                                  nft_url  trait_type  \\\n0       https://ikzttp.mypinata.cloud/ipfs/QmQFkLSQysj...        Type   \n1       https://ikzttp.mypinata.cloud/ipfs/QmQFkLSQysj...        Hair   \n2       https://ikzttp.mypinata.cloud/ipfs/QmQFkLSQysj...    Clothing   \n3       https://ikzttp.mypinata.cloud/ipfs/QmQFkLSQysj...        Eyes   \n4       https://ikzttp.mypinata.cloud/ipfs/QmQFkLSQysj...       Mouth   \n...                                                   ...         ...   \n696003  https://ipfs.io/ipfs/QmWXJXRdExse2YHRY21Wvh4pj...  Background   \n696004  https://ipfs.io/ipfs/QmWXJXRdExse2YHRY21Wvh4pj...        Skin   \n696005  https://ipfs.io/ipfs/QmWXJXRdExse2YHRY21Wvh4pj...        Body   \n696006  https://ipfs.io/ipfs/QmWXJXRdExse2YHRY21Wvh4pj...        Face   \n696007  https://ipfs.io/ipfs/QmWXJXRdExse2YHRY21Wvh4pj...        Head   \n\n                        value  \n0                       Human  \n1                       Water  \n2       Pink Oversized Kimono  \n3                    Striking  \n4                       Frown  \n...                       ...  \n696003                   Blue  \n696004            Olive Green  \n696005           Puffer Green  \n696006         Handlebar Bear  \n696007           Flat Cap Tan  \n\n[696008 rows x 7 columns]",
      "text/html": "<div>\n<style scoped>\n    .dataframe tbody tr th:only-of-type {\n        vertical-align: middle;\n    }\n\n    .dataframe tbody tr th {\n        vertical-align: top;\n    }\n\n    .dataframe thead th {\n        text-align: right;\n    }\n</style>\n<table border=\"1\" class=\"dataframe\">\n  <thead>\n    <tr style=\"text-align: right;\">\n      <th></th>\n      <th>Unnamed: 0</th>\n      <th>collection</th>\n      <th>contract</th>\n      <th>token_id</th>\n      <th>nft_url</th>\n      <th>trait_type</th>\n      <th>value</th>\n    </tr>\n  </thead>\n  <tbody>\n    <tr>\n      <th>0</th>\n      <td>0</td>\n      <td>azuki</td>\n      <td>0xed5af388653567af2f388e6224dc7c4b3241c544</td>\n      <td>0</td>\n      <td>https://ikzttp.mypinata.cloud/ipfs/QmQFkLSQysj...</td>\n      <td>Type</td>\n      <td>Human</td>\n    </tr>\n    <tr>\n      <th>1</th>\n      <td>1</td>\n      <td>azuki</td>\n      <td>0xed5af388653567af2f388e6224dc7c4b3241c544</td>\n      <td>0</td>\n      <td>https://ikzttp.mypinata.cloud/ipfs/QmQFkLSQysj...</td>\n      <td>Hair</td>\n      <td>Water</td>\n    </tr>\n    <tr>\n      <th>2</th>\n      <td>2</td>\n      <td>azuki</td>\n      <td>0xed5af388653567af2f388e6224dc7c4b3241c544</td>\n      <td>0</td>\n      <td>https://ikzttp.mypinata.cloud/ipfs/QmQFkLSQysj...</td>\n      <td>Clothing</td>\n      <td>Pink Oversized Kimono</td>\n    </tr>\n    <tr>\n      <th>3</th>\n      <td>3</td>\n      <td>azuki</td>\n      <td>0xed5af388653567af2f388e6224dc7c4b3241c544</td>\n      <td>0</td>\n      <td>https://ikzttp.mypinata.cloud/ipfs/QmQFkLSQysj...</td>\n      <td>Eyes</td>\n      <td>Striking</td>\n    </tr>\n    <tr>\n      <th>4</th>\n      <td>4</td>\n      <td>azuki</td>\n      <td>0xed5af388653567af2f388e6224dc7c4b3241c544</td>\n      <td>0</td>\n      <td>https://ikzttp.mypinata.cloud/ipfs/QmQFkLSQysj...</td>\n      <td>Mouth</td>\n      <td>Frown</td>\n    </tr>\n    <tr>\n      <th>...</th>\n      <td>...</td>\n      <td>...</td>\n      <td>...</td>\n      <td>...</td>\n      <td>...</td>\n      <td>...</td>\n      <td>...</td>\n    </tr>\n    <tr>\n      <th>696003</th>\n      <td>44435</td>\n      <td>pudgy_penguins</td>\n      <td>0xbd3531da5cf5857e7cfaa92426877b022e612cf8</td>\n      <td>8887</td>\n      <td>https://ipfs.io/ipfs/QmWXJXRdExse2YHRY21Wvh4pj...</td>\n      <td>Background</td>\n      <td>Blue</td>\n    </tr>\n    <tr>\n      <th>696004</th>\n      <td>44436</td>\n      <td>pudgy_penguins</td>\n      <td>0xbd3531da5cf5857e7cfaa92426877b022e612cf8</td>\n      <td>8887</td>\n      <td>https://ipfs.io/ipfs/QmWXJXRdExse2YHRY21Wvh4pj...</td>\n      <td>Skin</td>\n      <td>Olive Green</td>\n    </tr>\n    <tr>\n      <th>696005</th>\n      <td>44437</td>\n      <td>pudgy_penguins</td>\n      <td>0xbd3531da5cf5857e7cfaa92426877b022e612cf8</td>\n      <td>8887</td>\n      <td>https://ipfs.io/ipfs/QmWXJXRdExse2YHRY21Wvh4pj...</td>\n      <td>Body</td>\n      <td>Puffer Green</td>\n    </tr>\n    <tr>\n      <th>696006</th>\n      <td>44438</td>\n      <td>pudgy_penguins</td>\n      <td>0xbd3531da5cf5857e7cfaa92426877b022e612cf8</td>\n      <td>8887</td>\n      <td>https://ipfs.io/ipfs/QmWXJXRdExse2YHRY21Wvh4pj...</td>\n      <td>Face</td>\n      <td>Handlebar Bear</td>\n    </tr>\n    <tr>\n      <th>696007</th>\n      <td>44439</td>\n      <td>pudgy_penguins</td>\n      <td>0xbd3531da5cf5857e7cfaa92426877b022e612cf8</td>\n      <td>8887</td>\n      <td>https://ipfs.io/ipfs/QmWXJXRdExse2YHRY21Wvh4pj...</td>\n      <td>Head</td>\n      <td>Flat Cap Tan</td>\n    </tr>\n  </tbody>\n</table>\n<p>696008 rows × 7 columns</p>\n</div>"
     },
     "execution_count": 5,
     "metadata": {},
     "output_type": "execute_result"
    }
   ],
   "source": [
    "tokens"
   ],
   "metadata": {
    "collapsed": false,
    "pycharm": {
     "name": "#%%\n"
    }
   }
  },
  {
   "cell_type": "code",
   "execution_count": 6,
   "outputs": [
    {
     "name": "stdout",
     "output_type": "stream",
     "text": [
      "[    0     1     2 ... 19997 19999 20000]\n",
      "collection\n",
      "BAYC              10000\n",
      "MAYC              18502\n",
      "azuki             10000\n",
      "clone_x           18895\n",
      "cool_cats          9933\n",
      "doodles           10000\n",
      "meebits           20000\n",
      "pudgy_penguins     8888\n",
      "Name: token_id, dtype: int64\n"
     ]
    }
   ],
   "source": [
    "print(pd.unique(tokens['token_id']))\n",
    "print(tokens.groupby('collection')['token_id'].nunique())"
   ],
   "metadata": {
    "collapsed": false,
    "pycharm": {
     "name": "#%%\n"
    }
   }
  },
  {
   "cell_type": "code",
   "execution_count": 7,
   "outputs": [],
   "source": [
    "grouped_tokens = tokens.groupby('collection')\n",
    "bayc = grouped_tokens.get_group('BAYC')\n",
    "mayc = grouped_tokens.get_group('MAYC')\n",
    "azuki = grouped_tokens.get_group('azuki')\n",
    "clone_x = grouped_tokens.get_group('clone_x')\n",
    "cool_cats = grouped_tokens.get_group('cool_cats')\n",
    "doodles = grouped_tokens.get_group('doodles')\n",
    "meebits = grouped_tokens.get_group('meebits')\n",
    "pudgy_penguins = grouped_tokens.get_group('pudgy_penguins')"
   ],
   "metadata": {
    "collapsed": false,
    "pycharm": {
     "name": "#%%\n"
    }
   }
  },
  {
   "cell_type": "code",
   "execution_count": 8,
   "outputs": [],
   "source": [
    "grouped_sales = sales.groupby('tokenSymbol')\n",
    "bayc_sales = grouped_sales.get_group('BAYC')\n",
    "mayc_sales = grouped_sales.get_group('MAYC')\n",
    "azuki_sales = grouped_sales.get_group('AZUKI')\n",
    "clone_x_sales = grouped_sales.get_group('CloneX')\n",
    "cool_cats_sales = grouped_sales.get_group('COOL')\n",
    "doodles_sales = grouped_sales.get_group('DOODLE')\n",
    "meebits_sales = grouped_sales.get_group('⚇')\n",
    "pudgy_penguins_sales = grouped_sales.get_group('PPG')"
   ],
   "metadata": {
    "collapsed": false,
    "pycharm": {
     "name": "#%%\n"
    }
   }
  },
  {
   "cell_type": "code",
   "execution_count": 9,
   "outputs": [
    {
     "name": "stdout",
     "output_type": "stream",
     "text": [
      "trait_type\n",
      "Background    10000\n",
      "Clothes        8114\n",
      "Earring        2977\n",
      "Eyes          10000\n",
      "Fur           10000\n",
      "Hat            7744\n",
      "Mouth         10000\n",
      "Name: token_id, dtype: int64\n",
      "trait_type\n",
      "Background     8\n",
      "Clothes       43\n",
      "Earring        6\n",
      "Eyes          23\n",
      "Fur           19\n",
      "Hat           36\n",
      "Mouth         33\n",
      "Name: value, dtype: int64\n",
      "['Orange' 'Aquamarine' 'Purple' 'Blue' 'Army Green' 'Yellow' 'Gray'\n",
      " 'New Punk Blue']\n",
      "Purple           0.1291\n",
      "Yellow           0.1283\n",
      "Orange           0.1273\n",
      "Aquamarine       0.1266\n",
      "Army Green       0.1243\n",
      "Blue             0.1242\n",
      "New Punk Blue    0.1232\n",
      "Gray             0.1170\n",
      "Name: value, dtype: float64\n"
     ]
    }
   ],
   "source": [
    "# bayc\n",
    "print(bayc.groupby('trait_type')['token_id'].nunique())\n",
    "print(bayc.groupby('trait_type')['value'].nunique())\n",
    "print(pd.unique(bayc.groupby('trait_type').get_group('Background')['value']))\n",
    "print(bayc.groupby('trait_type').get_group('Background')['value'].value_counts()/10000)"
   ],
   "metadata": {
    "collapsed": false,
    "pycharm": {
     "name": "#%%\n"
    }
   }
  },
  {
   "cell_type": "code",
   "execution_count": 10,
   "outputs": [
    {
     "data": {
      "text/plain": "        blockNumber   timeStamp  \\\n200        13992202  1642010411   \n201        13992202  1642010411   \n202        13992202  1642010411   \n203        13992202  1642010411   \n204        13992202  1642010411   \n...             ...         ...   \n431366     14471743  1648430919   \n431368     14471918  1648433160   \n431378     14472353  1648438868   \n431396     14473259  1648451159   \n431398     14473393  1648452996   \n\n                                                     hash  \\\n200     0xe3034e18aa6fa00ac39ffb6904baf9570cc31c1716c5...   \n201     0xe3034e18aa6fa00ac39ffb6904baf9570cc31c1716c5...   \n202     0xe3034e18aa6fa00ac39ffb6904baf9570cc31c1716c5...   \n203     0xe3034e18aa6fa00ac39ffb6904baf9570cc31c1716c5...   \n204     0xe3034e18aa6fa00ac39ffb6904baf9570cc31c1716c5...   \n...                                                   ...   \n431366  0xb362fed9aece8fa0ce819778062ddbb05533a68a6401...   \n431368  0xcf8b9cf7a66f81ca0ca7648e4afa9183f171fb286bd8...   \n431378  0xb7e933b307f2aee8795311d6226e3f656aeee5d0683a...   \n431396  0x695045f3093a9ee40769135159118f1fc2bd603a22a7...   \n431398  0xa0742c124b822bab20b0b85436ce781b62327eb863e8...   \n\n                                              from  \\\n200     0x0000000000000000000000000000000000000000   \n201     0x0000000000000000000000000000000000000000   \n202     0x0000000000000000000000000000000000000000   \n203     0x0000000000000000000000000000000000000000   \n204     0x0000000000000000000000000000000000000000   \n...                                            ...   \n431366  0x88341d1a8f672d2780c8dc725902aae72f143b0c   \n431368  0xf6a325cef74fb60a685bdd5a79ded1ffe45996e8   \n431378  0x23324ed44904260fe555b18e5ba95c6030b9227d   \n431396  0x24415add68ea0d8c6efa9ff6e4ca213417969d38   \n431398  0x8b4ad8680a98b3dc0210eb4f21a69124211346e5   \n\n                                   contractAddress  \\\n200     0xed5af388653567af2f388e6224dc7c4b3241c544   \n201     0xed5af388653567af2f388e6224dc7c4b3241c544   \n202     0xed5af388653567af2f388e6224dc7c4b3241c544   \n203     0xed5af388653567af2f388e6224dc7c4b3241c544   \n204     0xed5af388653567af2f388e6224dc7c4b3241c544   \n...                                            ...   \n431366  0x49cf6f5d44e70224e2e23fdcdd2c053f30ada28b   \n431368  0x49cf6f5d44e70224e2e23fdcdd2c053f30ada28b   \n431378  0x49cf6f5d44e70224e2e23fdcdd2c053f30ada28b   \n431396  0x49cf6f5d44e70224e2e23fdcdd2c053f30ada28b   \n431398  0x49cf6f5d44e70224e2e23fdcdd2c053f30ada28b   \n\n                                                to  tokenID tokenName  \\\n200     0xdec08cb92a506b88411da9ba290f3694be223c26      200     Azuki   \n201     0xdec08cb92a506b88411da9ba290f3694be223c26      201     Azuki   \n202     0xdec08cb92a506b88411da9ba290f3694be223c26      202     Azuki   \n203     0xdec08cb92a506b88411da9ba290f3694be223c26      203     Azuki   \n204     0xdec08cb92a506b88411da9ba290f3694be223c26      204     Azuki   \n...                                            ...      ...       ...   \n431366  0xf6a325cef74fb60a685bdd5a79ded1ffe45996e8      550    CloneX   \n431368  0x88341d1a8f672d2780c8dc725902aae72f143b0c      550    CloneX   \n431378  0xac7ebc289354503e1ddda06f30e75ca688382051    11018    CloneX   \n431396  0x2310abf1ef6beb30b74bff98ac1b326b647f4224      911    CloneX   \n431398  0x9cfb3e1c528253dcb1754a266f9f95540b41e446    17241    CloneX   \n\n       tokenSymbol      gasPrice currency     amount     amountUsd  \n200          AZUKI  619374837712      ETH   1.000000   3384.137681  \n201          AZUKI  619374837712      ETH   1.000000   3384.137681  \n202          AZUKI  619374837712      ETH   1.000000   3384.137681  \n203          AZUKI  619374837712      ETH   1.000000   3384.137681  \n204          AZUKI  619374837712      ETH   1.000000   3384.137681  \n...            ...           ...      ...        ...           ...  \n431366      CloneX   23623743142      ETH   5.745767  18978.246953  \n431368      CloneX   25970855725      ETH  11.000000  36254.122921  \n431378      CloneX   38783642325      ETH  14.990000  49689.068827  \n431396      CloneX   23543438533      ETH  16.000000  53186.027771  \n431398      CloneX   21145077548      ETH  14.990000  49797.533594  \n\n[270685 rows x 13 columns]",
      "text/html": "<div>\n<style scoped>\n    .dataframe tbody tr th:only-of-type {\n        vertical-align: middle;\n    }\n\n    .dataframe tbody tr th {\n        vertical-align: top;\n    }\n\n    .dataframe thead th {\n        text-align: right;\n    }\n</style>\n<table border=\"1\" class=\"dataframe\">\n  <thead>\n    <tr style=\"text-align: right;\">\n      <th></th>\n      <th>blockNumber</th>\n      <th>timeStamp</th>\n      <th>hash</th>\n      <th>from</th>\n      <th>contractAddress</th>\n      <th>to</th>\n      <th>tokenID</th>\n      <th>tokenName</th>\n      <th>tokenSymbol</th>\n      <th>gasPrice</th>\n      <th>currency</th>\n      <th>amount</th>\n      <th>amountUsd</th>\n    </tr>\n  </thead>\n  <tbody>\n    <tr>\n      <th>200</th>\n      <td>13992202</td>\n      <td>1642010411</td>\n      <td>0xe3034e18aa6fa00ac39ffb6904baf9570cc31c1716c5...</td>\n      <td>0x0000000000000000000000000000000000000000</td>\n      <td>0xed5af388653567af2f388e6224dc7c4b3241c544</td>\n      <td>0xdec08cb92a506b88411da9ba290f3694be223c26</td>\n      <td>200</td>\n      <td>Azuki</td>\n      <td>AZUKI</td>\n      <td>619374837712</td>\n      <td>ETH</td>\n      <td>1.000000</td>\n      <td>3384.137681</td>\n    </tr>\n    <tr>\n      <th>201</th>\n      <td>13992202</td>\n      <td>1642010411</td>\n      <td>0xe3034e18aa6fa00ac39ffb6904baf9570cc31c1716c5...</td>\n      <td>0x0000000000000000000000000000000000000000</td>\n      <td>0xed5af388653567af2f388e6224dc7c4b3241c544</td>\n      <td>0xdec08cb92a506b88411da9ba290f3694be223c26</td>\n      <td>201</td>\n      <td>Azuki</td>\n      <td>AZUKI</td>\n      <td>619374837712</td>\n      <td>ETH</td>\n      <td>1.000000</td>\n      <td>3384.137681</td>\n    </tr>\n    <tr>\n      <th>202</th>\n      <td>13992202</td>\n      <td>1642010411</td>\n      <td>0xe3034e18aa6fa00ac39ffb6904baf9570cc31c1716c5...</td>\n      <td>0x0000000000000000000000000000000000000000</td>\n      <td>0xed5af388653567af2f388e6224dc7c4b3241c544</td>\n      <td>0xdec08cb92a506b88411da9ba290f3694be223c26</td>\n      <td>202</td>\n      <td>Azuki</td>\n      <td>AZUKI</td>\n      <td>619374837712</td>\n      <td>ETH</td>\n      <td>1.000000</td>\n      <td>3384.137681</td>\n    </tr>\n    <tr>\n      <th>203</th>\n      <td>13992202</td>\n      <td>1642010411</td>\n      <td>0xe3034e18aa6fa00ac39ffb6904baf9570cc31c1716c5...</td>\n      <td>0x0000000000000000000000000000000000000000</td>\n      <td>0xed5af388653567af2f388e6224dc7c4b3241c544</td>\n      <td>0xdec08cb92a506b88411da9ba290f3694be223c26</td>\n      <td>203</td>\n      <td>Azuki</td>\n      <td>AZUKI</td>\n      <td>619374837712</td>\n      <td>ETH</td>\n      <td>1.000000</td>\n      <td>3384.137681</td>\n    </tr>\n    <tr>\n      <th>204</th>\n      <td>13992202</td>\n      <td>1642010411</td>\n      <td>0xe3034e18aa6fa00ac39ffb6904baf9570cc31c1716c5...</td>\n      <td>0x0000000000000000000000000000000000000000</td>\n      <td>0xed5af388653567af2f388e6224dc7c4b3241c544</td>\n      <td>0xdec08cb92a506b88411da9ba290f3694be223c26</td>\n      <td>204</td>\n      <td>Azuki</td>\n      <td>AZUKI</td>\n      <td>619374837712</td>\n      <td>ETH</td>\n      <td>1.000000</td>\n      <td>3384.137681</td>\n    </tr>\n    <tr>\n      <th>...</th>\n      <td>...</td>\n      <td>...</td>\n      <td>...</td>\n      <td>...</td>\n      <td>...</td>\n      <td>...</td>\n      <td>...</td>\n      <td>...</td>\n      <td>...</td>\n      <td>...</td>\n      <td>...</td>\n      <td>...</td>\n      <td>...</td>\n    </tr>\n    <tr>\n      <th>431366</th>\n      <td>14471743</td>\n      <td>1648430919</td>\n      <td>0xb362fed9aece8fa0ce819778062ddbb05533a68a6401...</td>\n      <td>0x88341d1a8f672d2780c8dc725902aae72f143b0c</td>\n      <td>0x49cf6f5d44e70224e2e23fdcdd2c053f30ada28b</td>\n      <td>0xf6a325cef74fb60a685bdd5a79ded1ffe45996e8</td>\n      <td>550</td>\n      <td>CloneX</td>\n      <td>CloneX</td>\n      <td>23623743142</td>\n      <td>ETH</td>\n      <td>5.745767</td>\n      <td>18978.246953</td>\n    </tr>\n    <tr>\n      <th>431368</th>\n      <td>14471918</td>\n      <td>1648433160</td>\n      <td>0xcf8b9cf7a66f81ca0ca7648e4afa9183f171fb286bd8...</td>\n      <td>0xf6a325cef74fb60a685bdd5a79ded1ffe45996e8</td>\n      <td>0x49cf6f5d44e70224e2e23fdcdd2c053f30ada28b</td>\n      <td>0x88341d1a8f672d2780c8dc725902aae72f143b0c</td>\n      <td>550</td>\n      <td>CloneX</td>\n      <td>CloneX</td>\n      <td>25970855725</td>\n      <td>ETH</td>\n      <td>11.000000</td>\n      <td>36254.122921</td>\n    </tr>\n    <tr>\n      <th>431378</th>\n      <td>14472353</td>\n      <td>1648438868</td>\n      <td>0xb7e933b307f2aee8795311d6226e3f656aeee5d0683a...</td>\n      <td>0x23324ed44904260fe555b18e5ba95c6030b9227d</td>\n      <td>0x49cf6f5d44e70224e2e23fdcdd2c053f30ada28b</td>\n      <td>0xac7ebc289354503e1ddda06f30e75ca688382051</td>\n      <td>11018</td>\n      <td>CloneX</td>\n      <td>CloneX</td>\n      <td>38783642325</td>\n      <td>ETH</td>\n      <td>14.990000</td>\n      <td>49689.068827</td>\n    </tr>\n    <tr>\n      <th>431396</th>\n      <td>14473259</td>\n      <td>1648451159</td>\n      <td>0x695045f3093a9ee40769135159118f1fc2bd603a22a7...</td>\n      <td>0x24415add68ea0d8c6efa9ff6e4ca213417969d38</td>\n      <td>0x49cf6f5d44e70224e2e23fdcdd2c053f30ada28b</td>\n      <td>0x2310abf1ef6beb30b74bff98ac1b326b647f4224</td>\n      <td>911</td>\n      <td>CloneX</td>\n      <td>CloneX</td>\n      <td>23543438533</td>\n      <td>ETH</td>\n      <td>16.000000</td>\n      <td>53186.027771</td>\n    </tr>\n    <tr>\n      <th>431398</th>\n      <td>14473393</td>\n      <td>1648452996</td>\n      <td>0xa0742c124b822bab20b0b85436ce781b62327eb863e8...</td>\n      <td>0x8b4ad8680a98b3dc0210eb4f21a69124211346e5</td>\n      <td>0x49cf6f5d44e70224e2e23fdcdd2c053f30ada28b</td>\n      <td>0x9cfb3e1c528253dcb1754a266f9f95540b41e446</td>\n      <td>17241</td>\n      <td>CloneX</td>\n      <td>CloneX</td>\n      <td>21145077548</td>\n      <td>ETH</td>\n      <td>14.990000</td>\n      <td>49797.533594</td>\n    </tr>\n  </tbody>\n</table>\n<p>270685 rows × 13 columns</p>\n</div>"
     },
     "execution_count": 10,
     "metadata": {},
     "output_type": "execute_result"
    }
   ],
   "source": [
    "sales[sales['amount'] != 0]"
   ],
   "metadata": {
    "collapsed": false,
    "pycharm": {
     "name": "#%%\n"
    }
   }
  },
  {
   "cell_type": "code",
   "execution_count": 11,
   "outputs": [
    {
     "name": "stdout",
     "output_type": "stream",
     "text": [
      "tokenSymbol\n",
      "AZUKI     10000\n",
      "BAYC      10000\n",
      "COOL       9938\n",
      "CloneX    18554\n",
      "DOODLE     9784\n",
      "MAYC      17990\n",
      "PPG        8887\n",
      "⚇         19999\n",
      "Name: tokenID, dtype: int64\n"
     ]
    }
   ],
   "source": [
    "print(sales.groupby('tokenSymbol')['tokenID'].nunique())"
   ],
   "metadata": {
    "collapsed": false,
    "pycharm": {
     "name": "#%%\n"
    }
   }
  },
  {
   "cell_type": "code",
   "execution_count": 12,
   "outputs": [
    {
     "name": "stdout",
     "output_type": "stream",
     "text": [
      "<pandas.core.groupby.generic.DataFrameGroupBy object at 0x000001C780B1F6D0>\n"
     ]
    }
   ],
   "source": [
    "bayc_features = bayc.groupby('token_id')#.filter('trait_type')\n",
    "print(bayc_features)"
   ],
   "metadata": {
    "collapsed": false,
    "pycharm": {
     "name": "#%%\n"
    }
   }
  },
  {
   "cell_type": "code",
   "execution_count": 13,
   "outputs": [],
   "source": [
    "def get_features(df):\n",
    "    \"\"\"\n",
    "    :param df: dataframe to have features extracted\n",
    "    :return: dataframe with rows of token id and columns of features\n",
    "    \"\"\"\n",
    "    columns = {}\n",
    "\n",
    "    for trait in df['trait_type'].unique():\n",
    "        columns[trait] = ['None' for i in range(df.token_id.nunique())]\n",
    "\n",
    "    for id in df['token_id'].unique():\n",
    "        for _, row in df[df.token_id == id].iterrows():\n",
    "                columns[row.trait_type][id] = row.value\n",
    "    #%%\n",
    "\n",
    "    return pd.DataFrame(columns)"
   ],
   "metadata": {
    "collapsed": false,
    "pycharm": {
     "name": "#%%\n"
    }
   }
  },
  {
   "cell_type": "code",
   "execution_count": 159,
   "outputs": [],
   "source": [
    "def process_sales(df):\n",
    "    df = df[df.amount != 0]\n",
    "    df = df.sort_values(['tokenID', 'timeStamp'], ascending=[True, False]).drop_duplicates('tokenID')\n",
    "    print(df['tokenID'], df['timeStamp'], df['amount'])\n",
    "    df = df[df.amount < 1e4]\n",
    "    return df"
   ],
   "metadata": {
    "collapsed": false,
    "pycharm": {
     "name": "#%%\n"
    }
   }
  },
  {
   "cell_type": "code",
   "execution_count": 160,
   "outputs": [
    {
     "name": "stdout",
     "output_type": "stream",
     "text": [
      "93872        6\n",
      "65561        9\n",
      "98503       10\n",
      "93873       11\n",
      "101833      13\n",
      "          ... \n",
      "101886    9995\n",
      "59084     9996\n",
      "77268     9997\n",
      "80372     9998\n",
      "51534     9999\n",
      "Name: tokenID, Length: 9985, dtype: int64 93872     1640201192\n",
      "65561     1623398673\n",
      "98503     1643770560\n",
      "93873     1640201192\n",
      "101833    1647468884\n",
      "             ...    \n",
      "101886    1647477024\n",
      "59084     1621664553\n",
      "77268     1628068878\n",
      "80372     1629471251\n",
      "51534     1619858117\n",
      "Name: timeStamp, Length: 9985, dtype: int64 93872       0.0025\n",
      "65561       2.0050\n",
      "98503       0.0050\n",
      "93873       0.0025\n",
      "101833     99.0000\n",
      "            ...   \n",
      "101886    105.0000\n",
      "59084       0.3900\n",
      "77268      20.0000\n",
      "80372      21.2000\n",
      "51534       0.0800\n",
      "Name: amount, Length: 9985, dtype: float64\n",
      "93872        6\n",
      "65561        9\n",
      "98503       10\n",
      "93873       11\n",
      "101833      13\n",
      "          ... \n",
      "101886    9995\n",
      "59084     9996\n",
      "77268     9997\n",
      "80372     9998\n",
      "51534     9999\n",
      "Name: tokenID, Length: 9970, dtype: int64\n"
     ]
    }
   ],
   "source": [
    "print(process_sales(bayc_sales)['tokenID'])"
   ],
   "metadata": {
    "collapsed": false,
    "pycharm": {
     "name": "#%%\n"
    }
   }
  },
  {
   "cell_type": "markdown",
   "source": [
    "# BAYC"
   ],
   "metadata": {
    "collapsed": false,
    "pycharm": {
     "name": "#%% md\n"
    }
   }
  },
  {
   "cell_type": "code",
   "execution_count": 161,
   "outputs": [
    {
     "name": "stdout",
     "output_type": "stream",
     "text": [
      "93872        6\n",
      "65561        9\n",
      "98503       10\n",
      "93873       11\n",
      "101833      13\n",
      "          ... \n",
      "101886    9995\n",
      "59084     9996\n",
      "77268     9997\n",
      "80372     9998\n",
      "51534     9999\n",
      "Name: tokenID, Length: 9985, dtype: int64 93872     1640201192\n",
      "65561     1623398673\n",
      "98503     1643770560\n",
      "93873     1640201192\n",
      "101833    1647468884\n",
      "             ...    \n",
      "101886    1647477024\n",
      "59084     1621664553\n",
      "77268     1628068878\n",
      "80372     1629471251\n",
      "51534     1619858117\n",
      "Name: timeStamp, Length: 9985, dtype: int64 93872       0.0025\n",
      "65561       2.0050\n",
      "98503       0.0050\n",
      "93873       0.0025\n",
      "101833     99.0000\n",
      "            ...   \n",
      "101886    105.0000\n",
      "59084       0.3900\n",
      "77268      20.0000\n",
      "80372      21.2000\n",
      "51534       0.0800\n",
      "Name: amount, Length: 9985, dtype: float64\n",
      "count    9970.000000\n",
      "mean       30.569627\n",
      "std        50.452453\n",
      "min         0.000100\n",
      "25%         0.490000\n",
      "50%         4.900000\n",
      "75%        50.000000\n",
      "max      1080.690000\n",
      "Name: amount, dtype: float64\n",
      "        blockNumber   timeStamp  \\\n",
      "93872      13856860  1640201192   \n",
      "65561      12612091  1623398673   \n",
      "98503      14124061  1643770560   \n",
      "93873      13856860  1640201192   \n",
      "101833     14400209  1647468884   \n",
      "...             ...         ...   \n",
      "101886     14400794  1647477024   \n",
      "59084      12482480  1621664553   \n",
      "77268      12957809  1628068878   \n",
      "80372      13062767  1629471251   \n",
      "51534      12347249  1619858117   \n",
      "\n",
      "                                                     hash  \\\n",
      "93872   0xd3366e50c18fdf3dc5050310c913c882ba3e5c406394...   \n",
      "65561   0xafa350dedc999d876e29e486cca0af8466f9c9306632...   \n",
      "98503   0x961324eb4f4643b2a467d059d0ebaac94e87888dddc4...   \n",
      "93873   0xd3366e50c18fdf3dc5050310c913c882ba3e5c406394...   \n",
      "101833  0xe4a748808dddf081acf8f73ef9c9c4174d8f67b081c7...   \n",
      "...                                                   ...   \n",
      "101886  0x3c50ff20be5bfcd9e32a8c057e59bc1e9524f213b231...   \n",
      "59084   0x7b221d71ce8391f5b471fd914c70937ca47c143456a7...   \n",
      "77268   0xe0ff09484b1dc27225f42279d722f0b9d2a6d008e6f1...   \n",
      "80372   0x7240bf8bd8bd8b4e75e0c0f28fcf7a341141cfe405da...   \n",
      "51534   0xe26d43ab6702c03ed0fe9eb85a011f1edda55125c0cd...   \n",
      "\n",
      "                                              from  \\\n",
      "93872   0xc310e760778ecbca4c65b6c559874757a4c4ece0   \n",
      "65561   0xfd1b8d2b036f7c78a794be2c6f9ba4de698459e8   \n",
      "98503   0x1d3a44f4ac3a7f603c58c0d8e4a4749ea1757af8   \n",
      "93873   0x5cb68cd0d285a907b927a7db534d89718addfd86   \n",
      "101833  0x5d94df1c12a5d796cb889edda6c40f659f39f43f   \n",
      "...                                            ...   \n",
      "101886  0x313f287e4a48c489d84cbff3baccc5c87aa1e4e4   \n",
      "59084   0x1a1f01f50e00cb2305395ee73141b70fa5b2f4d5   \n",
      "77268   0xee5280e9eb7b9d33ca03332db7382b24f4a2d009   \n",
      "80372   0xd1c44141ef925d5a02e5414f3e1755ff89243ebd   \n",
      "51534   0x0000000000000000000000000000000000000000   \n",
      "\n",
      "                                   contractAddress  \\\n",
      "93872   0xbc4ca0eda7647a8ab7c2061c2e118a18a936f13d   \n",
      "65561   0xbc4ca0eda7647a8ab7c2061c2e118a18a936f13d   \n",
      "98503   0xbc4ca0eda7647a8ab7c2061c2e118a18a936f13d   \n",
      "93873   0xbc4ca0eda7647a8ab7c2061c2e118a18a936f13d   \n",
      "101833  0xbc4ca0eda7647a8ab7c2061c2e118a18a936f13d   \n",
      "...                                            ...   \n",
      "101886  0xbc4ca0eda7647a8ab7c2061c2e118a18a936f13d   \n",
      "59084   0xbc4ca0eda7647a8ab7c2061c2e118a18a936f13d   \n",
      "77268   0xbc4ca0eda7647a8ab7c2061c2e118a18a936f13d   \n",
      "80372   0xbc4ca0eda7647a8ab7c2061c2e118a18a936f13d   \n",
      "51534   0xbc4ca0eda7647a8ab7c2061c2e118a18a936f13d   \n",
      "\n",
      "                                                to  tokenID  \\\n",
      "93872   0x5cb68cd0d285a907b927a7db534d89718addfd86        6   \n",
      "65561   0x357931791284f40765b462aa7ad217ebf82920cb        9   \n",
      "98503   0x6b92686c40747c85809a6772d0eda8e22a77c60c       10   \n",
      "93873   0x2c2ed4b3876c442fee80bee76ce0ee2ca2a512af       11   \n",
      "101833  0xa1be3e603acc2fd5d25fab20268f674b45f30bbe       13   \n",
      "...                                            ...      ...   \n",
      "101886  0x56e094616618e5275e04ca9339e0df1c2aa77cf4     9995   \n",
      "59084   0x759a00eaa7d37f7af529211701e19fde61f364c0     9996   \n",
      "77268   0x2e7444ade51b2dbc723c6298679bac3ef8389c31     9997   \n",
      "80372   0x2311c8a1c7a31694adff5e53a3dd5cd922d806cb     9998   \n",
      "51534   0xb0e984d4bf1830dcb6c8c4e0f81d0869d2f037b1     9999   \n",
      "\n",
      "                tokenName tokenSymbol      gasPrice currency    amount  \\\n",
      "93872   BoredApeYachtClub        BAYC  100592093700      ETH    0.0025   \n",
      "65561   BoredApeYachtClub        BAYC   10000000000      ETH    2.0050   \n",
      "98503   BoredApeYachtClub        BAYC  102148845222      ETH    0.0050   \n",
      "93873   BoredApeYachtClub        BAYC  100592093700      ETH    0.0025   \n",
      "101833  BoredApeYachtClub        BAYC   47389895400      ETH   99.0000   \n",
      "...                   ...         ...           ...      ...       ...   \n",
      "101886  BoredApeYachtClub        BAYC   57178527256      ETH  105.0000   \n",
      "59084   BoredApeYachtClub        BAYC   73000000000      ETH    0.3900   \n",
      "77268   BoredApeYachtClub        BAYC   32000000000      ETH   20.0000   \n",
      "80372   BoredApeYachtClub        BAYC   64264011506      ETH   21.2000   \n",
      "51534   BoredApeYachtClub        BAYC   36000000000      ETH    0.0800   \n",
      "\n",
      "            amountUsd  \n",
      "93872        9.969412  \n",
      "65561     4919.549561  \n",
      "98503       13.900530  \n",
      "93873        9.969412  \n",
      "101833  273223.459687  \n",
      "...               ...  \n",
      "101886  290454.472414  \n",
      "59084      866.468171  \n",
      "77268    49669.151845  \n",
      "80372    69802.943472  \n",
      "51534      228.418422  \n",
      "\n",
      "[9970 rows x 13 columns]\n"
     ]
    }
   ],
   "source": [
    "bayc_sales_processed = process_sales(bayc_sales)\n",
    "token_ids = bayc_sales_processed['tokenID'].unique()\n",
    "prices = bayc_sales_processed.groupby('tokenID')['amount'].max()\n",
    "print(prices.describe())\n",
    "print(bayc_sales_processed)\n",
    "# print(token_ids)"
   ],
   "metadata": {
    "collapsed": false,
    "pycharm": {
     "name": "#%%\n"
    }
   }
  },
  {
   "cell_type": "code",
   "execution_count": 162,
   "outputs": [],
   "source": [
    "bayc_features = get_features(bayc)"
   ],
   "metadata": {
    "collapsed": false,
    "pycharm": {
     "name": "#%%\n"
    }
   }
  },
  {
   "cell_type": "code",
   "execution_count": 163,
   "outputs": [
    {
     "name": "stdout",
     "output_type": "stream",
     "text": [
      "          Earring     Background           Fur           Clothes  \\\n",
      "0     Silver Hoop         Orange         Robot       Striped Tee   \n",
      "1            None         Orange         Robot    Vietnam Jacket   \n",
      "2            None     Aquamarine         Robot              None   \n",
      "3            None         Purple       Cheetah     Bone Necklace   \n",
      "4            None           Blue  Golden Brown  Navy Striped Tee   \n",
      "...           ...            ...           ...               ...   \n",
      "9995         None           Gray          Pink    Smoking Jacket   \n",
      "9996  Silver Hoop  New Punk Blue    Dark Brown         Guayabera   \n",
      "9997         None         Purple         Black      Sailor Shirt   \n",
      "9998         None         Yellow         Brown        Bayc T Red   \n",
      "9999    Gold Hoop         Purple          Gray              None   \n",
      "\n",
      "                         Mouth        Eyes                Hat  \n",
      "0                   Discomfort      X Eyes               None  \n",
      "1                         Grin  Blue Beams               None  \n",
      "2              Bored Cigarette          3d  Sea Captain's Hat  \n",
      "3                   Tongue Out       Bored               None  \n",
      "4                    Phoneme L      Closed        Party Hat 2  \n",
      "...                        ...         ...                ...  \n",
      "9995                     Bored      Closed               None  \n",
      "9996               Dumbfounded          3d               None  \n",
      "9997         Grin Multicolored       Bored               Halo  \n",
      "9998  Bored Unshaven Cigarette       Heart               None  \n",
      "9999            Bored Unshaven     Scumbag           Army Hat  \n",
      "\n",
      "[10000 rows x 7 columns]\n",
      "Earring       Silver Hoop\n",
      "Background         Orange\n",
      "Fur                 Robot\n",
      "Clothes       Striped Tee\n",
      "Mouth          Discomfort\n",
      "Eyes               X Eyes\n",
      "Hat                  None\n",
      "Name: 0, dtype: object\n"
     ]
    }
   ],
   "source": [
    "print(bayc_features)\n",
    "print(bayc_features.iloc[0])"
   ],
   "metadata": {
    "collapsed": false,
    "pycharm": {
     "name": "#%%\n"
    }
   }
  },
  {
   "cell_type": "code",
   "execution_count": 164,
   "outputs": [],
   "source": [
    "def price_querrry(token_id, prices=bayc_sales_processed, features=bayc_features):\n",
    "    out = []  # list of prices per category\n",
    "    frequency_percent = []\n",
    "    num_tokens = len(features.index)\n",
    "    for (colname,colval) in features.iloc[token_id].iteritems():\n",
    "        print(colname, \": \", colval)\n",
    "        similar_tokens = features[features[colname] == colval]\n",
    "        frequency_percent.append(features[colname].value_counts()[colval]/num_tokens*100)\n",
    "        similar_ids = similar_tokens.index.tolist()\n",
    "        out.append(prices.loc[prices['tokenID'].isin(similar_ids)]['amount'].mean())\n",
    "\n",
    "    print(frequency_percent)\n",
    "    return out#sum(out) / len(out)"
   ],
   "metadata": {
    "collapsed": false,
    "pycharm": {
     "name": "#%%\n"
    }
   }
  },
  {
   "cell_type": "code",
   "execution_count": 165,
   "outputs": [
    {
     "name": "stdout",
     "output_type": "stream",
     "text": [
      "Earring :  None\n",
      "Background :  Blue\n",
      "Fur :  Cream\n",
      "Clothes :  Lab Coat\n",
      "Mouth :  Phoneme Vuh\n",
      "Eyes :  Holographic\n",
      "Hat :  Halo\n",
      "[70.23, 12.42, 6.36, 1.44, 3.3300000000000005, 1.51, 3.2399999999999998]\n"
     ]
    },
    {
     "data": {
      "text/plain": "[30.1071454455799,\n 28.127228684803388,\n 31.405344305631445,\n 26.19711098957495,\n 29.991701872423025,\n 32.350109584918286,\n 30.05079965824389]"
     },
     "execution_count": 165,
     "metadata": {},
     "output_type": "execute_result"
    }
   ],
   "source": [
    "price_querrry(2121)"
   ],
   "metadata": {
    "collapsed": false,
    "pycharm": {
     "name": "#%%\n"
    }
   }
  },
  {
   "cell_type": "code",
   "execution_count": 166,
   "outputs": [
    {
     "data": {
      "text/plain": "        blockNumber   timeStamp  \\\n43502      12346736  1619851391   \n56745      12367810  1620132151   \n81424      13084487  1629760544   \n81426      13084521  1629761017   \n85327      13238300  1631815769   \n100968     14318159  1646366250   \n\n                                                     hash  \\\n43502   0xf5159c28c76d3650bf3a9741a72acc65b699d2713c4b...   \n56745   0x1c29147e0f9c424968bb63303a9a52da12b617dfb95a...   \n81424   0xa9441e4f6ab15b70c1b7881f41b734574fb2a91b8173...   \n81426   0x13a6358df62d303964a59fb7f874fdeb16fadaf42b16...   \n85327   0x0a56f7f210701a1d100acd5b776d849e9975c6b5b64b...   \n100968  0x019261e503027c3632469d18da634ae7da4341726008...   \n\n                                              from  \\\n43502   0x0000000000000000000000000000000000000000   \n56745   0x090c847ae5623cb7c538be34fe470b0c824b181f   \n81424   0x7b15e6c439b27a553b65a9904ce571da6691a0fb   \n81426   0xb7692c097a20f6767e0464bbe958d69bf082baf5   \n85327   0xd3fc6fec4b219c2d74b366fee6b585df71611533   \n100968  0xd27b7c6bd93f604bcd3497565f023652c2d13ce0   \n\n                                   contractAddress  \\\n43502   0xbc4ca0eda7647a8ab7c2061c2e118a18a936f13d   \n56745   0xbc4ca0eda7647a8ab7c2061c2e118a18a936f13d   \n81424   0xbc4ca0eda7647a8ab7c2061c2e118a18a936f13d   \n81426   0xbc4ca0eda7647a8ab7c2061c2e118a18a936f13d   \n85327   0xbc4ca0eda7647a8ab7c2061c2e118a18a936f13d   \n100968  0xbc4ca0eda7647a8ab7c2061c2e118a18a936f13d   \n\n                                                to  tokenID  \\\n43502   0x090c847ae5623cb7c538be34fe470b0c824b181f     2121   \n56745   0x7b15e6c439b27a553b65a9904ce571da6691a0fb     2121   \n81424   0xb7692c097a20f6767e0464bbe958d69bf082baf5     2121   \n81426   0xd3fc6fec4b219c2d74b366fee6b585df71611533     2121   \n85327   0xd27b7c6bd93f604bcd3497565f023652c2d13ce0     2121   \n100968  0x4a8bdd15bdb8b1ab534d39c9f8d65a36011029f4     2121   \n\n                tokenName tokenSymbol      gasPrice currency  amount  \\\n43502   BoredApeYachtClub        BAYC   39000000000      ETH   0.080   \n56745   BoredApeYachtClub        BAYC   43000000000      ETH   1.500   \n81424   BoredApeYachtClub        BAYC   72000000000      ETH  27.825   \n81426   BoredApeYachtClub        BAYC   81000000000      ETH   0.000   \n85327   BoredApeYachtClub        BAYC  136000000000      ETH  62.690   \n100968  BoredApeYachtClub        BAYC   47256082362      ETH   0.000   \n\n            amountUsd  \n43502      228.905656  \n56745     5198.710792  \n81424    92727.061558  \n81426        0.000000  \n85327   223233.123143  \n100968       0.000000  ",
      "text/html": "<div>\n<style scoped>\n    .dataframe tbody tr th:only-of-type {\n        vertical-align: middle;\n    }\n\n    .dataframe tbody tr th {\n        vertical-align: top;\n    }\n\n    .dataframe thead th {\n        text-align: right;\n    }\n</style>\n<table border=\"1\" class=\"dataframe\">\n  <thead>\n    <tr style=\"text-align: right;\">\n      <th></th>\n      <th>blockNumber</th>\n      <th>timeStamp</th>\n      <th>hash</th>\n      <th>from</th>\n      <th>contractAddress</th>\n      <th>to</th>\n      <th>tokenID</th>\n      <th>tokenName</th>\n      <th>tokenSymbol</th>\n      <th>gasPrice</th>\n      <th>currency</th>\n      <th>amount</th>\n      <th>amountUsd</th>\n    </tr>\n  </thead>\n  <tbody>\n    <tr>\n      <th>43502</th>\n      <td>12346736</td>\n      <td>1619851391</td>\n      <td>0xf5159c28c76d3650bf3a9741a72acc65b699d2713c4b...</td>\n      <td>0x0000000000000000000000000000000000000000</td>\n      <td>0xbc4ca0eda7647a8ab7c2061c2e118a18a936f13d</td>\n      <td>0x090c847ae5623cb7c538be34fe470b0c824b181f</td>\n      <td>2121</td>\n      <td>BoredApeYachtClub</td>\n      <td>BAYC</td>\n      <td>39000000000</td>\n      <td>ETH</td>\n      <td>0.080</td>\n      <td>228.905656</td>\n    </tr>\n    <tr>\n      <th>56745</th>\n      <td>12367810</td>\n      <td>1620132151</td>\n      <td>0x1c29147e0f9c424968bb63303a9a52da12b617dfb95a...</td>\n      <td>0x090c847ae5623cb7c538be34fe470b0c824b181f</td>\n      <td>0xbc4ca0eda7647a8ab7c2061c2e118a18a936f13d</td>\n      <td>0x7b15e6c439b27a553b65a9904ce571da6691a0fb</td>\n      <td>2121</td>\n      <td>BoredApeYachtClub</td>\n      <td>BAYC</td>\n      <td>43000000000</td>\n      <td>ETH</td>\n      <td>1.500</td>\n      <td>5198.710792</td>\n    </tr>\n    <tr>\n      <th>81424</th>\n      <td>13084487</td>\n      <td>1629760544</td>\n      <td>0xa9441e4f6ab15b70c1b7881f41b734574fb2a91b8173...</td>\n      <td>0x7b15e6c439b27a553b65a9904ce571da6691a0fb</td>\n      <td>0xbc4ca0eda7647a8ab7c2061c2e118a18a936f13d</td>\n      <td>0xb7692c097a20f6767e0464bbe958d69bf082baf5</td>\n      <td>2121</td>\n      <td>BoredApeYachtClub</td>\n      <td>BAYC</td>\n      <td>72000000000</td>\n      <td>ETH</td>\n      <td>27.825</td>\n      <td>92727.061558</td>\n    </tr>\n    <tr>\n      <th>81426</th>\n      <td>13084521</td>\n      <td>1629761017</td>\n      <td>0x13a6358df62d303964a59fb7f874fdeb16fadaf42b16...</td>\n      <td>0xb7692c097a20f6767e0464bbe958d69bf082baf5</td>\n      <td>0xbc4ca0eda7647a8ab7c2061c2e118a18a936f13d</td>\n      <td>0xd3fc6fec4b219c2d74b366fee6b585df71611533</td>\n      <td>2121</td>\n      <td>BoredApeYachtClub</td>\n      <td>BAYC</td>\n      <td>81000000000</td>\n      <td>ETH</td>\n      <td>0.000</td>\n      <td>0.000000</td>\n    </tr>\n    <tr>\n      <th>85327</th>\n      <td>13238300</td>\n      <td>1631815769</td>\n      <td>0x0a56f7f210701a1d100acd5b776d849e9975c6b5b64b...</td>\n      <td>0xd3fc6fec4b219c2d74b366fee6b585df71611533</td>\n      <td>0xbc4ca0eda7647a8ab7c2061c2e118a18a936f13d</td>\n      <td>0xd27b7c6bd93f604bcd3497565f023652c2d13ce0</td>\n      <td>2121</td>\n      <td>BoredApeYachtClub</td>\n      <td>BAYC</td>\n      <td>136000000000</td>\n      <td>ETH</td>\n      <td>62.690</td>\n      <td>223233.123143</td>\n    </tr>\n    <tr>\n      <th>100968</th>\n      <td>14318159</td>\n      <td>1646366250</td>\n      <td>0x019261e503027c3632469d18da634ae7da4341726008...</td>\n      <td>0xd27b7c6bd93f604bcd3497565f023652c2d13ce0</td>\n      <td>0xbc4ca0eda7647a8ab7c2061c2e118a18a936f13d</td>\n      <td>0x4a8bdd15bdb8b1ab534d39c9f8d65a36011029f4</td>\n      <td>2121</td>\n      <td>BoredApeYachtClub</td>\n      <td>BAYC</td>\n      <td>47256082362</td>\n      <td>ETH</td>\n      <td>0.000</td>\n      <td>0.000000</td>\n    </tr>\n  </tbody>\n</table>\n</div>"
     },
     "execution_count": 166,
     "metadata": {},
     "output_type": "execute_result"
    }
   ],
   "source": [
    "bayc_sales[(bayc_sales['tokenID'] == 2121)]# && (bayc_sales['amount'] != 0)]\n",
    "# print(bayc_features.iloc[2121])"
   ],
   "metadata": {
    "collapsed": false,
    "pycharm": {
     "name": "#%%\n"
    }
   }
  },
  {
   "cell_type": "markdown",
   "source": [
    "# AZUKI"
   ],
   "metadata": {
    "collapsed": false,
    "pycharm": {
     "name": "#%% md\n"
    }
   }
  },
  {
   "cell_type": "code",
   "execution_count": 110,
   "outputs": [
    {
     "name": "stdout",
     "output_type": "stream",
     "text": [
      "32755      58\n",
      "33086      98\n",
      "29836     200\n",
      "201       201\n",
      "40944     202\n",
      "         ... \n",
      "26298    9995\n",
      "18086    9996\n",
      "36759    9997\n",
      "23115    9998\n",
      "18341    9999\n",
      "Name: tokenID, Length: 9802, dtype: int64 32755    1644523193\n",
      "33086    1644729063\n",
      "29836    1643693632\n",
      "201      1642010411\n",
      "40944    1648333308\n",
      "            ...    \n",
      "26298    1643181646\n",
      "18086    1642669429\n",
      "36759    1646271800\n",
      "23115    1642828366\n",
      "18341    1642700044\n",
      "Name: timeStamp, Length: 9802, dtype: int64 32755    11.890000\n",
      "33086    11.825000\n",
      "29836    15.273333\n",
      "201       1.000000\n",
      "40944    19.900000\n",
      "           ...    \n",
      "26298     6.990000\n",
      "18086     0.500000\n",
      "36759    19.350000\n",
      "23115    25.000000\n",
      "18341     0.500000\n",
      "Name: amount, Length: 9802, dtype: float64\n",
      "count    9802.000000\n",
      "mean        9.332306\n",
      "std        10.840894\n",
      "min         0.000010\n",
      "25%         2.640000\n",
      "50%         7.770000\n",
      "75%        13.500000\n",
      "max       204.000000\n",
      "Name: amount, dtype: float64\n",
      "       blockNumber   timeStamp  \\\n",
      "32755     14180331  1644523193   \n",
      "33086     14195778  1644729063   \n",
      "29836     14118292  1643693632   \n",
      "201       13992202  1642010411   \n",
      "40944     14464453  1648333308   \n",
      "...            ...         ...   \n",
      "26298     14079876  1643181646   \n",
      "18086     14041486  1642669429   \n",
      "36759     14311113  1646271800   \n",
      "23115     14053462  1642828366   \n",
      "18341     14043833  1642700044   \n",
      "\n",
      "                                                    hash  \\\n",
      "32755  0xfe769e2a10034ffefdd99ba0ec6bb4df2b2844614dd0...   \n",
      "33086  0xa26f96068e90c748d2d87552cf561c3565547fdb1863...   \n",
      "29836  0x13aca44ce9c2c7a848b52b043c57141c64767ef99af8...   \n",
      "201    0xe3034e18aa6fa00ac39ffb6904baf9570cc31c1716c5...   \n",
      "40944  0x178e890744c99a9a1d04b8c3a10d3524d00dc2b68023...   \n",
      "...                                                  ...   \n",
      "26298  0xa6a3120c38219f2b6ad0941bacc75dce3d379989142c...   \n",
      "18086  0x501dd1c1862b2fedd325b8cddf04a9b06879ac133d31...   \n",
      "36759  0x4d84f3125ccc053e567714a428d78878438fdc0cfdaa...   \n",
      "23115  0xb441fd67165df00bb23c2b79435151380914035cbef7...   \n",
      "18341  0xea1dcc94c092b70d04e79ae2133d0bf7504ae7f56fff...   \n",
      "\n",
      "                                             from  \\\n",
      "32755  0x4eb5a4eb74ea533915e0937df3c6955f9e77daa4   \n",
      "33086  0x679a634d7961faf36365aa8ee33ecaab1da0afe1   \n",
      "29836  0x91ec3fb9ef2406947cf5dfb2460ad404e810698c   \n",
      "201    0x0000000000000000000000000000000000000000   \n",
      "40944  0xe1b90ba8ff79e34f4aa761d22e1204a093d05b3a   \n",
      "...                                           ...   \n",
      "26298  0x73430805c56170e69f8c9eb98fc6d601d48a2b57   \n",
      "18086  0x0000000000000000000000000000000000000000   \n",
      "36759  0x857a32c58110761364aa90f2548b7954b76243fc   \n",
      "23115  0xad47a067ea405b85a4534eeec3265a3cd3e36b1f   \n",
      "18341  0x0000000000000000000000000000000000000000   \n",
      "\n",
      "                                  contractAddress  \\\n",
      "32755  0xed5af388653567af2f388e6224dc7c4b3241c544   \n",
      "33086  0xed5af388653567af2f388e6224dc7c4b3241c544   \n",
      "29836  0xed5af388653567af2f388e6224dc7c4b3241c544   \n",
      "201    0xed5af388653567af2f388e6224dc7c4b3241c544   \n",
      "40944  0xed5af388653567af2f388e6224dc7c4b3241c544   \n",
      "...                                           ...   \n",
      "26298  0xed5af388653567af2f388e6224dc7c4b3241c544   \n",
      "18086  0xed5af388653567af2f388e6224dc7c4b3241c544   \n",
      "36759  0xed5af388653567af2f388e6224dc7c4b3241c544   \n",
      "23115  0xed5af388653567af2f388e6224dc7c4b3241c544   \n",
      "18341  0xed5af388653567af2f388e6224dc7c4b3241c544   \n",
      "\n",
      "                                               to  tokenID tokenName  \\\n",
      "32755  0xc5f59709974262c4afacc5386287820bdbc7eb3a       58     Azuki   \n",
      "33086  0x98a12f3600bdbd0dbe7485589a4fe79e91aa539f       98     Azuki   \n",
      "29836  0xb88194f9bcc5ec80cf80c163ca2b123917468793      200     Azuki   \n",
      "201    0xdec08cb92a506b88411da9ba290f3694be223c26      201     Azuki   \n",
      "40944  0xb358dc4d553a54c6efd2faeae7dee2b9361cab6b      202     Azuki   \n",
      "...                                           ...      ...       ...   \n",
      "26298  0x6c7ff3fd409318489df461d7a1377b628af7c688     9995     Azuki   \n",
      "18086  0xb836fbc4d4907c0ee282878fa5705aeaccd2249e     9996     Azuki   \n",
      "36759  0x34d9fa549d526b6c0403ffe0c7800077dd1f8e71     9997     Azuki   \n",
      "23115  0xfe0875e12958a019dea15a795c22845179749f50     9998     Azuki   \n",
      "18341  0x2a5b2981f10c7fe96a312db7cff4660895ecf30c     9999     Azuki   \n",
      "\n",
      "      tokenSymbol      gasPrice currency     amount     amountUsd  \n",
      "32755       AZUKI   91924848063      ETH  11.890000  37143.769074  \n",
      "33086       AZUKI   39569241052      ETH  11.825000  34461.990037  \n",
      "29836       AZUKI  141383007888      ETH  15.273333  41915.940676  \n",
      "201         AZUKI  619374837712      ETH   1.000000   3384.137681  \n",
      "40944       AZUKI   24651318890      ETH  19.900000  62619.647769  \n",
      "...           ...           ...      ...        ...           ...  \n",
      "26298       AZUKI   76507253138      ETH   6.990000  17164.825682  \n",
      "18086       AZUKI   77973853216      ETH   0.500000   1565.426305  \n",
      "36759       AZUKI   75043213824      ETH  19.350000  57040.676617  \n",
      "23115       AZUKI  144812132958      ETH  25.000000  63926.075851  \n",
      "18341       AZUKI  209983600778      ETH   0.500000   1621.774767  \n",
      "\n",
      "[9802 rows x 13 columns]\n"
     ]
    }
   ],
   "source": [
    "azuki_sales_processed = process_sales(azuki_sales)\n",
    "token_ids = azuki_sales_processed['tokenID'].unique()\n",
    "prices = azuki_sales_processed.groupby('tokenID')['amount'].max()\n",
    "print(prices.describe())\n",
    "print(azuki_sales_processed)\n",
    "# print(token_ids)"
   ],
   "metadata": {
    "collapsed": false,
    "pycharm": {
     "name": "#%%\n"
    }
   }
  },
  {
   "cell_type": "code",
   "execution_count": 111,
   "outputs": [],
   "source": [
    "azuki_features = get_features(azuki)"
   ],
   "metadata": {
    "collapsed": false,
    "pycharm": {
     "name": "#%%\n"
    }
   }
  },
  {
   "cell_type": "code",
   "execution_count": 112,
   "outputs": [
    {
     "name": "stdout",
     "output_type": "stream",
     "text": [
      "       Type               Hair               Clothing         Eyes  \\\n",
      "0     Human              Water  Pink Oversized Kimono     Striking   \n",
      "1     Human      Pink Hairband   White Qipao with Fur  Daydreaming   \n",
      "2     Human         Pink Flowy                   Vest         Ruby   \n",
      "3     Human        Green Spiky           Green Yukata     Careless   \n",
      "4     Human   Brown Dreadlocks   White Qipao with Fur    Lightning   \n",
      "...     ...                ...                    ...          ...   \n",
      "9995  Human       Magenta Long           Black Kimono   Suspicious   \n",
      "9996  Human  Blonde Swept Back           Black Kimono      Pensive   \n",
      "9997  Human        Brown Messy     Azuki Track Jacket      Curious   \n",
      "9998  Human  Orange Swept Back   Suit with Turtleneck       Closed   \n",
      "9999  Human   Blue Short Spiky            Dress Shirt       Closed   \n",
      "\n",
      "               Mouth            Offhand   Background         Ear  \\\n",
      "0              Frown  Monkey King Staff  Off White A        None   \n",
      "1           Lipstick             Gloves  Off White D        None   \n",
      "2            Chewing               None          Red  Red Tassel   \n",
      "3              Grass             Katana          Red        None   \n",
      "4              Smirk             Katana  Off White D        None   \n",
      "...              ...                ...          ...         ...   \n",
      "9995  Tactical Knife               None  Off White A        None   \n",
      "9996             Meh         Skateboard  Off White A        None   \n",
      "9997         Not Bad      Sakura Katana  Off White B        None   \n",
      "9998         Chuckle           Fireball  Off White A        None   \n",
      "9999          Closed             Shinai  Off White D        None   \n",
      "\n",
      "           Headgear              Neck             Face Special  \n",
      "0              None              None             None    None  \n",
      "1              None              None             None    None  \n",
      "2              None              None             None    None  \n",
      "3     Frog Headband   Frog Headphones             None    None  \n",
      "4              None              None             None    None  \n",
      "...             ...               ...              ...     ...  \n",
      "9995   Full Bandana              None             None    None  \n",
      "9996           None  Chill Headphones  Reading Glasses    None  \n",
      "9997           None              None             None    None  \n",
      "9998           None              None        Eye Patch    Fire  \n",
      "9999      Straw Hat              None          Bandaid    None  \n",
      "\n",
      "[10000 rows x 12 columns]\n",
      "Type                          Human\n",
      "Hair                          Water\n",
      "Clothing      Pink Oversized Kimono\n",
      "Eyes                       Striking\n",
      "Mouth                         Frown\n",
      "Offhand           Monkey King Staff\n",
      "Background              Off White A\n",
      "Ear                            None\n",
      "Headgear                       None\n",
      "Neck                           None\n",
      "Face                           None\n",
      "Special                        None\n",
      "Name: 0, dtype: object\n"
     ]
    }
   ],
   "source": [
    "print(azuki_features)\n",
    "print(azuki_features.iloc[0])\n"
   ],
   "metadata": {
    "collapsed": false,
    "pycharm": {
     "name": "#%%\n"
    }
   }
  },
  {
   "cell_type": "code",
   "execution_count": 140,
   "outputs": [
    {
     "name": "stdout",
     "output_type": "stream",
     "text": [
      "Type :  Human\n",
      "Hair :  Water\n",
      "Clothing :  Pink Oversized Kimono\n",
      "Eyes :  Striking\n",
      "Mouth :  Frown\n",
      "Offhand :  Monkey King Staff\n",
      "Background :  Off White A\n",
      "Ear :  None\n",
      "Headgear :  None\n",
      "Neck :  None\n",
      "Face :  None\n",
      "Special :  None\n",
      "[90.18, 0.21, 0.7100000000000001, 4.08, 3.63, 1.4500000000000002, 18.14, 81.81, 65.12, 77.46, 67.9, 93.71000000000001]\n"
     ]
    },
    {
     "data": {
      "text/plain": "[8.74819985567065,\n 28.940500000000007,\n 7.532605830867647,\n 11.205717240064535,\n 8.87760524130392,\n 8.389088911159263,\n 8.882410868026527,\n 9.220822510312129,\n 9.267974513733474,\n 9.215779040227359,\n 9.36743621419964,\n 8.775498077069088]"
     },
     "execution_count": 140,
     "metadata": {},
     "output_type": "execute_result"
    }
   ],
   "source": [
    "price_querrry(2121, azuki_sales_processed, azuki_features)"
   ],
   "metadata": {
    "collapsed": false,
    "pycharm": {
     "name": "#%%\n"
    }
   }
  },
  {
   "cell_type": "code",
   "execution_count": 118,
   "outputs": [
    {
     "data": {
      "text/plain": "       blockNumber   timeStamp  \\\n2121      13992207  1642010454   \n14884     14005196  1642184280   \n29924     14118533  1643696582   \n\n                                                    hash  \\\n2121   0xefcaf91ec92b6ca19151ae50b3a1af9180c8c1faaf32...   \n14884  0x3881768fd13355d09d21aa78f04bab9aa0186d7f1f95...   \n29924  0xb680279834465bb06e33e9e1af6b8bf97a92506a42b7...   \n\n                                             from  \\\n2121   0x0000000000000000000000000000000000000000   \n14884  0xae545300740d789791e998c2e655fdafe6341690   \n29924  0xbad2e065edc215cb54a0e78391fb2abcb173f77d   \n\n                                  contractAddress  \\\n2121   0xed5af388653567af2f388e6224dc7c4b3241c544   \n14884  0xed5af388653567af2f388e6224dc7c4b3241c544   \n29924  0xed5af388653567af2f388e6224dc7c4b3241c544   \n\n                                               to  tokenID tokenName  \\\n2121   0xae545300740d789791e998c2e655fdafe6341690     2121     Azuki   \n14884  0xbad2e065edc215cb54a0e78391fb2abcb173f77d     2121     Azuki   \n29924  0x421a5b097b71060113c435e3feee236efba510dc     2121     Azuki   \n\n      tokenSymbol      gasPrice currency    amount     amountUsd  \n2121        AZUKI  777000000000      ETH   1.00000   3384.137681  \n14884       AZUKI  200652041196      ETH   2.79838   9181.602635  \n29924       AZUKI  101411628574      ETH  14.49000  39595.642086  ",
      "text/html": "<div>\n<style scoped>\n    .dataframe tbody tr th:only-of-type {\n        vertical-align: middle;\n    }\n\n    .dataframe tbody tr th {\n        vertical-align: top;\n    }\n\n    .dataframe thead th {\n        text-align: right;\n    }\n</style>\n<table border=\"1\" class=\"dataframe\">\n  <thead>\n    <tr style=\"text-align: right;\">\n      <th></th>\n      <th>blockNumber</th>\n      <th>timeStamp</th>\n      <th>hash</th>\n      <th>from</th>\n      <th>contractAddress</th>\n      <th>to</th>\n      <th>tokenID</th>\n      <th>tokenName</th>\n      <th>tokenSymbol</th>\n      <th>gasPrice</th>\n      <th>currency</th>\n      <th>amount</th>\n      <th>amountUsd</th>\n    </tr>\n  </thead>\n  <tbody>\n    <tr>\n      <th>2121</th>\n      <td>13992207</td>\n      <td>1642010454</td>\n      <td>0xefcaf91ec92b6ca19151ae50b3a1af9180c8c1faaf32...</td>\n      <td>0x0000000000000000000000000000000000000000</td>\n      <td>0xed5af388653567af2f388e6224dc7c4b3241c544</td>\n      <td>0xae545300740d789791e998c2e655fdafe6341690</td>\n      <td>2121</td>\n      <td>Azuki</td>\n      <td>AZUKI</td>\n      <td>777000000000</td>\n      <td>ETH</td>\n      <td>1.00000</td>\n      <td>3384.137681</td>\n    </tr>\n    <tr>\n      <th>14884</th>\n      <td>14005196</td>\n      <td>1642184280</td>\n      <td>0x3881768fd13355d09d21aa78f04bab9aa0186d7f1f95...</td>\n      <td>0xae545300740d789791e998c2e655fdafe6341690</td>\n      <td>0xed5af388653567af2f388e6224dc7c4b3241c544</td>\n      <td>0xbad2e065edc215cb54a0e78391fb2abcb173f77d</td>\n      <td>2121</td>\n      <td>Azuki</td>\n      <td>AZUKI</td>\n      <td>200652041196</td>\n      <td>ETH</td>\n      <td>2.79838</td>\n      <td>9181.602635</td>\n    </tr>\n    <tr>\n      <th>29924</th>\n      <td>14118533</td>\n      <td>1643696582</td>\n      <td>0xb680279834465bb06e33e9e1af6b8bf97a92506a42b7...</td>\n      <td>0xbad2e065edc215cb54a0e78391fb2abcb173f77d</td>\n      <td>0xed5af388653567af2f388e6224dc7c4b3241c544</td>\n      <td>0x421a5b097b71060113c435e3feee236efba510dc</td>\n      <td>2121</td>\n      <td>Azuki</td>\n      <td>AZUKI</td>\n      <td>101411628574</td>\n      <td>ETH</td>\n      <td>14.49000</td>\n      <td>39595.642086</td>\n    </tr>\n  </tbody>\n</table>\n</div>"
     },
     "execution_count": 118,
     "metadata": {},
     "output_type": "execute_result"
    }
   ],
   "source": [
    "azuki_sales[(azuki_sales['tokenID'] == 2121)]# && (bayc_sales['amount'] != 0)]\n",
    "# print(bayc_features.iloc[2121])\n"
   ],
   "metadata": {
    "collapsed": false,
    "pycharm": {
     "name": "#%%\n"
    }
   }
  },
  {
   "cell_type": "code",
   "execution_count": null,
   "outputs": [],
   "source": [],
   "metadata": {
    "collapsed": false,
    "pycharm": {
     "name": "#%%\n"
    }
   }
  }
 ],
 "metadata": {
  "kernelspec": {
   "name": "pycharm-ad42fc04",
   "language": "python",
   "display_name": "PyCharm (5LSH0 Computer Vision)"
  },
  "language_info": {
   "codemirror_mode": {
    "name": "ipython",
    "version": 2
   },
   "file_extension": ".py",
   "mimetype": "text/x-python",
   "name": "python",
   "nbconvert_exporter": "python",
   "pygments_lexer": "ipython2",
   "version": "2.7.6"
  }
 },
 "nbformat": 4,
 "nbformat_minor": 0
}