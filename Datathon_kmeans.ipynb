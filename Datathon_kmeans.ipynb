{
 "cells": [
  {
   "cell_type": "code",
   "execution_count": 15,
   "outputs": [],
   "source": [
    "import pandas as pd\n",
    "from sklearn.cluster import KMeans\n",
    "from sklearn.cluster import MiniBatchKMeans\n",
    "from sklearn.mixture import GaussianMixture\n",
    "import matplotlib.pyplot as plt\n",
    "from tqdm.auto import tqdm\n",
    "from sklearn.model_selection import train_test_split\n",
    "from sklearn.manifold import TSNE\n",
    "from matplotlib import cm as CM\n",
    "import numpy as NP\n",
    "import tensorflow as tf"
   ],
   "metadata": {
    "collapsed": false,
    "pycharm": {
     "name": "#%%\n"
    }
   }
  },
  {
   "cell_type": "code",
   "execution_count": 16,
   "outputs": [],
   "source": [
    "tokens = pd.read_csv (r'Traits.csv')\n",
    "sales = pd.read_csv (r'Sales.csv')"
   ],
   "metadata": {
    "collapsed": false,
    "pycharm": {
     "name": "#%%\n"
    }
   }
  },
  {
   "cell_type": "code",
   "execution_count": 17,
   "outputs": [
    {
     "data": {
      "text/plain": "        Unnamed: 0      collection  \\\n0                0           azuki   \n1                1           azuki   \n2                2           azuki   \n3                3           azuki   \n4                4           azuki   \n...            ...             ...   \n696003       44435  pudgy_penguins   \n696004       44436  pudgy_penguins   \n696005       44437  pudgy_penguins   \n696006       44438  pudgy_penguins   \n696007       44439  pudgy_penguins   \n\n                                          contract  token_id  \\\n0       0xed5af388653567af2f388e6224dc7c4b3241c544         0   \n1       0xed5af388653567af2f388e6224dc7c4b3241c544         0   \n2       0xed5af388653567af2f388e6224dc7c4b3241c544         0   \n3       0xed5af388653567af2f388e6224dc7c4b3241c544         0   \n4       0xed5af388653567af2f388e6224dc7c4b3241c544         0   \n...                                            ...       ...   \n696003  0xbd3531da5cf5857e7cfaa92426877b022e612cf8      8887   \n696004  0xbd3531da5cf5857e7cfaa92426877b022e612cf8      8887   \n696005  0xbd3531da5cf5857e7cfaa92426877b022e612cf8      8887   \n696006  0xbd3531da5cf5857e7cfaa92426877b022e612cf8      8887   \n696007  0xbd3531da5cf5857e7cfaa92426877b022e612cf8      8887   \n\n                                                  nft_url  trait_type  \\\n0       https://ikzttp.mypinata.cloud/ipfs/QmQFkLSQysj...        Type   \n1       https://ikzttp.mypinata.cloud/ipfs/QmQFkLSQysj...        Hair   \n2       https://ikzttp.mypinata.cloud/ipfs/QmQFkLSQysj...    Clothing   \n3       https://ikzttp.mypinata.cloud/ipfs/QmQFkLSQysj...        Eyes   \n4       https://ikzttp.mypinata.cloud/ipfs/QmQFkLSQysj...       Mouth   \n...                                                   ...         ...   \n696003  https://ipfs.io/ipfs/QmWXJXRdExse2YHRY21Wvh4pj...  Background   \n696004  https://ipfs.io/ipfs/QmWXJXRdExse2YHRY21Wvh4pj...        Skin   \n696005  https://ipfs.io/ipfs/QmWXJXRdExse2YHRY21Wvh4pj...        Body   \n696006  https://ipfs.io/ipfs/QmWXJXRdExse2YHRY21Wvh4pj...        Face   \n696007  https://ipfs.io/ipfs/QmWXJXRdExse2YHRY21Wvh4pj...        Head   \n\n                        value  \n0                       Human  \n1                       Water  \n2       Pink Oversized Kimono  \n3                    Striking  \n4                       Frown  \n...                       ...  \n696003                   Blue  \n696004            Olive Green  \n696005           Puffer Green  \n696006         Handlebar Bear  \n696007           Flat Cap Tan  \n\n[696008 rows x 7 columns]",
      "text/html": "<div>\n<style scoped>\n    .dataframe tbody tr th:only-of-type {\n        vertical-align: middle;\n    }\n\n    .dataframe tbody tr th {\n        vertical-align: top;\n    }\n\n    .dataframe thead th {\n        text-align: right;\n    }\n</style>\n<table border=\"1\" class=\"dataframe\">\n  <thead>\n    <tr style=\"text-align: right;\">\n      <th></th>\n      <th>Unnamed: 0</th>\n      <th>collection</th>\n      <th>contract</th>\n      <th>token_id</th>\n      <th>nft_url</th>\n      <th>trait_type</th>\n      <th>value</th>\n    </tr>\n  </thead>\n  <tbody>\n    <tr>\n      <th>0</th>\n      <td>0</td>\n      <td>azuki</td>\n      <td>0xed5af388653567af2f388e6224dc7c4b3241c544</td>\n      <td>0</td>\n      <td>https://ikzttp.mypinata.cloud/ipfs/QmQFkLSQysj...</td>\n      <td>Type</td>\n      <td>Human</td>\n    </tr>\n    <tr>\n      <th>1</th>\n      <td>1</td>\n      <td>azuki</td>\n      <td>0xed5af388653567af2f388e6224dc7c4b3241c544</td>\n      <td>0</td>\n      <td>https://ikzttp.mypinata.cloud/ipfs/QmQFkLSQysj...</td>\n      <td>Hair</td>\n      <td>Water</td>\n    </tr>\n    <tr>\n      <th>2</th>\n      <td>2</td>\n      <td>azuki</td>\n      <td>0xed5af388653567af2f388e6224dc7c4b3241c544</td>\n      <td>0</td>\n      <td>https://ikzttp.mypinata.cloud/ipfs/QmQFkLSQysj...</td>\n      <td>Clothing</td>\n      <td>Pink Oversized Kimono</td>\n    </tr>\n    <tr>\n      <th>3</th>\n      <td>3</td>\n      <td>azuki</td>\n      <td>0xed5af388653567af2f388e6224dc7c4b3241c544</td>\n      <td>0</td>\n      <td>https://ikzttp.mypinata.cloud/ipfs/QmQFkLSQysj...</td>\n      <td>Eyes</td>\n      <td>Striking</td>\n    </tr>\n    <tr>\n      <th>4</th>\n      <td>4</td>\n      <td>azuki</td>\n      <td>0xed5af388653567af2f388e6224dc7c4b3241c544</td>\n      <td>0</td>\n      <td>https://ikzttp.mypinata.cloud/ipfs/QmQFkLSQysj...</td>\n      <td>Mouth</td>\n      <td>Frown</td>\n    </tr>\n    <tr>\n      <th>...</th>\n      <td>...</td>\n      <td>...</td>\n      <td>...</td>\n      <td>...</td>\n      <td>...</td>\n      <td>...</td>\n      <td>...</td>\n    </tr>\n    <tr>\n      <th>696003</th>\n      <td>44435</td>\n      <td>pudgy_penguins</td>\n      <td>0xbd3531da5cf5857e7cfaa92426877b022e612cf8</td>\n      <td>8887</td>\n      <td>https://ipfs.io/ipfs/QmWXJXRdExse2YHRY21Wvh4pj...</td>\n      <td>Background</td>\n      <td>Blue</td>\n    </tr>\n    <tr>\n      <th>696004</th>\n      <td>44436</td>\n      <td>pudgy_penguins</td>\n      <td>0xbd3531da5cf5857e7cfaa92426877b022e612cf8</td>\n      <td>8887</td>\n      <td>https://ipfs.io/ipfs/QmWXJXRdExse2YHRY21Wvh4pj...</td>\n      <td>Skin</td>\n      <td>Olive Green</td>\n    </tr>\n    <tr>\n      <th>696005</th>\n      <td>44437</td>\n      <td>pudgy_penguins</td>\n      <td>0xbd3531da5cf5857e7cfaa92426877b022e612cf8</td>\n      <td>8887</td>\n      <td>https://ipfs.io/ipfs/QmWXJXRdExse2YHRY21Wvh4pj...</td>\n      <td>Body</td>\n      <td>Puffer Green</td>\n    </tr>\n    <tr>\n      <th>696006</th>\n      <td>44438</td>\n      <td>pudgy_penguins</td>\n      <td>0xbd3531da5cf5857e7cfaa92426877b022e612cf8</td>\n      <td>8887</td>\n      <td>https://ipfs.io/ipfs/QmWXJXRdExse2YHRY21Wvh4pj...</td>\n      <td>Face</td>\n      <td>Handlebar Bear</td>\n    </tr>\n    <tr>\n      <th>696007</th>\n      <td>44439</td>\n      <td>pudgy_penguins</td>\n      <td>0xbd3531da5cf5857e7cfaa92426877b022e612cf8</td>\n      <td>8887</td>\n      <td>https://ipfs.io/ipfs/QmWXJXRdExse2YHRY21Wvh4pj...</td>\n      <td>Head</td>\n      <td>Flat Cap Tan</td>\n    </tr>\n  </tbody>\n</table>\n<p>696008 rows × 7 columns</p>\n</div>"
     },
     "execution_count": 17,
     "metadata": {},
     "output_type": "execute_result"
    }
   ],
   "source": [
    "tokens"
   ],
   "metadata": {
    "collapsed": false,
    "pycharm": {
     "name": "#%%\n"
    }
   }
  },
  {
   "cell_type": "code",
   "execution_count": 18,
   "outputs": [
    {
     "name": "stdout",
     "output_type": "stream",
     "text": [
      "[    0     1     2 ... 19997 19999 20000]\n",
      "collection\n",
      "BAYC              10000\n",
      "MAYC              18502\n",
      "azuki             10000\n",
      "clone_x           18895\n",
      "cool_cats          9933\n",
      "doodles           10000\n",
      "meebits           20000\n",
      "pudgy_penguins     8888\n",
      "Name: token_id, dtype: int64\n"
     ]
    }
   ],
   "source": [
    "print(pd.unique(tokens['token_id']))\n",
    "print(tokens.groupby('collection')['token_id'].nunique())"
   ],
   "metadata": {
    "collapsed": false,
    "pycharm": {
     "name": "#%%\n"
    }
   }
  },
  {
   "cell_type": "code",
   "execution_count": 19,
   "outputs": [],
   "source": [
    "grouped_tokens = tokens.groupby('collection')\n",
    "bayc = grouped_tokens.get_group('BAYC')\n",
    "mayc = grouped_tokens.get_group('MAYC')\n",
    "azuki = grouped_tokens.get_group('azuki')\n",
    "clone_x = grouped_tokens.get_group('clone_x')\n",
    "cool_cats = grouped_tokens.get_group('cool_cats')\n",
    "doodles = grouped_tokens.get_group('doodles')\n",
    "meebits = grouped_tokens.get_group('meebits')\n",
    "pudgy_penguins = grouped_tokens.get_group('pudgy_penguins')"
   ],
   "metadata": {
    "collapsed": false,
    "pycharm": {
     "name": "#%%\n"
    }
   }
  },
  {
   "cell_type": "code",
   "execution_count": 20,
   "outputs": [],
   "source": [
    "grouped_sales = sales.groupby('tokenSymbol')\n",
    "bayc_sales = grouped_sales.get_group('BAYC')\n",
    "mayc_sales = grouped_sales.get_group('MAYC')\n",
    "azuki_sales = grouped_sales.get_group('AZUKI')\n",
    "clone_x_sales = grouped_sales.get_group('CloneX')\n",
    "cool_cats_sales = grouped_sales.get_group('COOL')\n",
    "doodles_sales = grouped_sales.get_group('DOODLE')\n",
    "meebits_sales = grouped_sales.get_group('⚇')\n",
    "pudgy_penguins_sales = grouped_sales.get_group('PPG')"
   ],
   "metadata": {
    "collapsed": false,
    "pycharm": {
     "name": "#%%\n"
    }
   }
  },
  {
   "cell_type": "code",
   "execution_count": 21,
   "outputs": [
    {
     "name": "stdout",
     "output_type": "stream",
     "text": [
      "trait_type\n",
      "Background    10000\n",
      "Clothes        8114\n",
      "Earring        2977\n",
      "Eyes          10000\n",
      "Fur           10000\n",
      "Hat            7744\n",
      "Mouth         10000\n",
      "Name: token_id, dtype: int64\n",
      "trait_type\n",
      "Background     8\n",
      "Clothes       43\n",
      "Earring        6\n",
      "Eyes          23\n",
      "Fur           19\n",
      "Hat           36\n",
      "Mouth         33\n",
      "Name: value, dtype: int64\n",
      "['Orange' 'Aquamarine' 'Purple' 'Blue' 'Army Green' 'Yellow' 'Gray'\n",
      " 'New Punk Blue']\n",
      "Purple           0.1291\n",
      "Yellow           0.1283\n",
      "Orange           0.1273\n",
      "Aquamarine       0.1266\n",
      "Army Green       0.1243\n",
      "Blue             0.1242\n",
      "New Punk Blue    0.1232\n",
      "Gray             0.1170\n",
      "Name: value, dtype: float64\n"
     ]
    }
   ],
   "source": [
    "# bayc\n",
    "print(bayc.groupby('trait_type')['token_id'].nunique())\n",
    "print(bayc.groupby('trait_type')['value'].nunique())\n",
    "print(pd.unique(bayc.groupby('trait_type').get_group('Background')['value']))\n",
    "print(bayc.groupby('trait_type').get_group('Background')['value'].value_counts()/10000)"
   ],
   "metadata": {
    "collapsed": false,
    "pycharm": {
     "name": "#%%\n"
    }
   }
  },
  {
   "cell_type": "code",
   "execution_count": 22,
   "outputs": [
    {
     "data": {
      "text/plain": "        blockNumber   timeStamp  \\\n200        13992202  1642010411   \n201        13992202  1642010411   \n202        13992202  1642010411   \n203        13992202  1642010411   \n204        13992202  1642010411   \n...             ...         ...   \n431366     14471743  1648430919   \n431368     14471918  1648433160   \n431378     14472353  1648438868   \n431396     14473259  1648451159   \n431398     14473393  1648452996   \n\n                                                     hash  \\\n200     0xe3034e18aa6fa00ac39ffb6904baf9570cc31c1716c5...   \n201     0xe3034e18aa6fa00ac39ffb6904baf9570cc31c1716c5...   \n202     0xe3034e18aa6fa00ac39ffb6904baf9570cc31c1716c5...   \n203     0xe3034e18aa6fa00ac39ffb6904baf9570cc31c1716c5...   \n204     0xe3034e18aa6fa00ac39ffb6904baf9570cc31c1716c5...   \n...                                                   ...   \n431366  0xb362fed9aece8fa0ce819778062ddbb05533a68a6401...   \n431368  0xcf8b9cf7a66f81ca0ca7648e4afa9183f171fb286bd8...   \n431378  0xb7e933b307f2aee8795311d6226e3f656aeee5d0683a...   \n431396  0x695045f3093a9ee40769135159118f1fc2bd603a22a7...   \n431398  0xa0742c124b822bab20b0b85436ce781b62327eb863e8...   \n\n                                              from  \\\n200     0x0000000000000000000000000000000000000000   \n201     0x0000000000000000000000000000000000000000   \n202     0x0000000000000000000000000000000000000000   \n203     0x0000000000000000000000000000000000000000   \n204     0x0000000000000000000000000000000000000000   \n...                                            ...   \n431366  0x88341d1a8f672d2780c8dc725902aae72f143b0c   \n431368  0xf6a325cef74fb60a685bdd5a79ded1ffe45996e8   \n431378  0x23324ed44904260fe555b18e5ba95c6030b9227d   \n431396  0x24415add68ea0d8c6efa9ff6e4ca213417969d38   \n431398  0x8b4ad8680a98b3dc0210eb4f21a69124211346e5   \n\n                                   contractAddress  \\\n200     0xed5af388653567af2f388e6224dc7c4b3241c544   \n201     0xed5af388653567af2f388e6224dc7c4b3241c544   \n202     0xed5af388653567af2f388e6224dc7c4b3241c544   \n203     0xed5af388653567af2f388e6224dc7c4b3241c544   \n204     0xed5af388653567af2f388e6224dc7c4b3241c544   \n...                                            ...   \n431366  0x49cf6f5d44e70224e2e23fdcdd2c053f30ada28b   \n431368  0x49cf6f5d44e70224e2e23fdcdd2c053f30ada28b   \n431378  0x49cf6f5d44e70224e2e23fdcdd2c053f30ada28b   \n431396  0x49cf6f5d44e70224e2e23fdcdd2c053f30ada28b   \n431398  0x49cf6f5d44e70224e2e23fdcdd2c053f30ada28b   \n\n                                                to  tokenID tokenName  \\\n200     0xdec08cb92a506b88411da9ba290f3694be223c26      200     Azuki   \n201     0xdec08cb92a506b88411da9ba290f3694be223c26      201     Azuki   \n202     0xdec08cb92a506b88411da9ba290f3694be223c26      202     Azuki   \n203     0xdec08cb92a506b88411da9ba290f3694be223c26      203     Azuki   \n204     0xdec08cb92a506b88411da9ba290f3694be223c26      204     Azuki   \n...                                            ...      ...       ...   \n431366  0xf6a325cef74fb60a685bdd5a79ded1ffe45996e8      550    CloneX   \n431368  0x88341d1a8f672d2780c8dc725902aae72f143b0c      550    CloneX   \n431378  0xac7ebc289354503e1ddda06f30e75ca688382051    11018    CloneX   \n431396  0x2310abf1ef6beb30b74bff98ac1b326b647f4224      911    CloneX   \n431398  0x9cfb3e1c528253dcb1754a266f9f95540b41e446    17241    CloneX   \n\n       tokenSymbol      gasPrice currency     amount     amountUsd  \n200          AZUKI  619374837712      ETH   1.000000   3384.137681  \n201          AZUKI  619374837712      ETH   1.000000   3384.137681  \n202          AZUKI  619374837712      ETH   1.000000   3384.137681  \n203          AZUKI  619374837712      ETH   1.000000   3384.137681  \n204          AZUKI  619374837712      ETH   1.000000   3384.137681  \n...            ...           ...      ...        ...           ...  \n431366      CloneX   23623743142      ETH   5.745767  18978.246953  \n431368      CloneX   25970855725      ETH  11.000000  36254.122921  \n431378      CloneX   38783642325      ETH  14.990000  49689.068827  \n431396      CloneX   23543438533      ETH  16.000000  53186.027771  \n431398      CloneX   21145077548      ETH  14.990000  49797.533594  \n\n[270685 rows x 13 columns]",
      "text/html": "<div>\n<style scoped>\n    .dataframe tbody tr th:only-of-type {\n        vertical-align: middle;\n    }\n\n    .dataframe tbody tr th {\n        vertical-align: top;\n    }\n\n    .dataframe thead th {\n        text-align: right;\n    }\n</style>\n<table border=\"1\" class=\"dataframe\">\n  <thead>\n    <tr style=\"text-align: right;\">\n      <th></th>\n      <th>blockNumber</th>\n      <th>timeStamp</th>\n      <th>hash</th>\n      <th>from</th>\n      <th>contractAddress</th>\n      <th>to</th>\n      <th>tokenID</th>\n      <th>tokenName</th>\n      <th>tokenSymbol</th>\n      <th>gasPrice</th>\n      <th>currency</th>\n      <th>amount</th>\n      <th>amountUsd</th>\n    </tr>\n  </thead>\n  <tbody>\n    <tr>\n      <th>200</th>\n      <td>13992202</td>\n      <td>1642010411</td>\n      <td>0xe3034e18aa6fa00ac39ffb6904baf9570cc31c1716c5...</td>\n      <td>0x0000000000000000000000000000000000000000</td>\n      <td>0xed5af388653567af2f388e6224dc7c4b3241c544</td>\n      <td>0xdec08cb92a506b88411da9ba290f3694be223c26</td>\n      <td>200</td>\n      <td>Azuki</td>\n      <td>AZUKI</td>\n      <td>619374837712</td>\n      <td>ETH</td>\n      <td>1.000000</td>\n      <td>3384.137681</td>\n    </tr>\n    <tr>\n      <th>201</th>\n      <td>13992202</td>\n      <td>1642010411</td>\n      <td>0xe3034e18aa6fa00ac39ffb6904baf9570cc31c1716c5...</td>\n      <td>0x0000000000000000000000000000000000000000</td>\n      <td>0xed5af388653567af2f388e6224dc7c4b3241c544</td>\n      <td>0xdec08cb92a506b88411da9ba290f3694be223c26</td>\n      <td>201</td>\n      <td>Azuki</td>\n      <td>AZUKI</td>\n      <td>619374837712</td>\n      <td>ETH</td>\n      <td>1.000000</td>\n      <td>3384.137681</td>\n    </tr>\n    <tr>\n      <th>202</th>\n      <td>13992202</td>\n      <td>1642010411</td>\n      <td>0xe3034e18aa6fa00ac39ffb6904baf9570cc31c1716c5...</td>\n      <td>0x0000000000000000000000000000000000000000</td>\n      <td>0xed5af388653567af2f388e6224dc7c4b3241c544</td>\n      <td>0xdec08cb92a506b88411da9ba290f3694be223c26</td>\n      <td>202</td>\n      <td>Azuki</td>\n      <td>AZUKI</td>\n      <td>619374837712</td>\n      <td>ETH</td>\n      <td>1.000000</td>\n      <td>3384.137681</td>\n    </tr>\n    <tr>\n      <th>203</th>\n      <td>13992202</td>\n      <td>1642010411</td>\n      <td>0xe3034e18aa6fa00ac39ffb6904baf9570cc31c1716c5...</td>\n      <td>0x0000000000000000000000000000000000000000</td>\n      <td>0xed5af388653567af2f388e6224dc7c4b3241c544</td>\n      <td>0xdec08cb92a506b88411da9ba290f3694be223c26</td>\n      <td>203</td>\n      <td>Azuki</td>\n      <td>AZUKI</td>\n      <td>619374837712</td>\n      <td>ETH</td>\n      <td>1.000000</td>\n      <td>3384.137681</td>\n    </tr>\n    <tr>\n      <th>204</th>\n      <td>13992202</td>\n      <td>1642010411</td>\n      <td>0xe3034e18aa6fa00ac39ffb6904baf9570cc31c1716c5...</td>\n      <td>0x0000000000000000000000000000000000000000</td>\n      <td>0xed5af388653567af2f388e6224dc7c4b3241c544</td>\n      <td>0xdec08cb92a506b88411da9ba290f3694be223c26</td>\n      <td>204</td>\n      <td>Azuki</td>\n      <td>AZUKI</td>\n      <td>619374837712</td>\n      <td>ETH</td>\n      <td>1.000000</td>\n      <td>3384.137681</td>\n    </tr>\n    <tr>\n      <th>...</th>\n      <td>...</td>\n      <td>...</td>\n      <td>...</td>\n      <td>...</td>\n      <td>...</td>\n      <td>...</td>\n      <td>...</td>\n      <td>...</td>\n      <td>...</td>\n      <td>...</td>\n      <td>...</td>\n      <td>...</td>\n      <td>...</td>\n    </tr>\n    <tr>\n      <th>431366</th>\n      <td>14471743</td>\n      <td>1648430919</td>\n      <td>0xb362fed9aece8fa0ce819778062ddbb05533a68a6401...</td>\n      <td>0x88341d1a8f672d2780c8dc725902aae72f143b0c</td>\n      <td>0x49cf6f5d44e70224e2e23fdcdd2c053f30ada28b</td>\n      <td>0xf6a325cef74fb60a685bdd5a79ded1ffe45996e8</td>\n      <td>550</td>\n      <td>CloneX</td>\n      <td>CloneX</td>\n      <td>23623743142</td>\n      <td>ETH</td>\n      <td>5.745767</td>\n      <td>18978.246953</td>\n    </tr>\n    <tr>\n      <th>431368</th>\n      <td>14471918</td>\n      <td>1648433160</td>\n      <td>0xcf8b9cf7a66f81ca0ca7648e4afa9183f171fb286bd8...</td>\n      <td>0xf6a325cef74fb60a685bdd5a79ded1ffe45996e8</td>\n      <td>0x49cf6f5d44e70224e2e23fdcdd2c053f30ada28b</td>\n      <td>0x88341d1a8f672d2780c8dc725902aae72f143b0c</td>\n      <td>550</td>\n      <td>CloneX</td>\n      <td>CloneX</td>\n      <td>25970855725</td>\n      <td>ETH</td>\n      <td>11.000000</td>\n      <td>36254.122921</td>\n    </tr>\n    <tr>\n      <th>431378</th>\n      <td>14472353</td>\n      <td>1648438868</td>\n      <td>0xb7e933b307f2aee8795311d6226e3f656aeee5d0683a...</td>\n      <td>0x23324ed44904260fe555b18e5ba95c6030b9227d</td>\n      <td>0x49cf6f5d44e70224e2e23fdcdd2c053f30ada28b</td>\n      <td>0xac7ebc289354503e1ddda06f30e75ca688382051</td>\n      <td>11018</td>\n      <td>CloneX</td>\n      <td>CloneX</td>\n      <td>38783642325</td>\n      <td>ETH</td>\n      <td>14.990000</td>\n      <td>49689.068827</td>\n    </tr>\n    <tr>\n      <th>431396</th>\n      <td>14473259</td>\n      <td>1648451159</td>\n      <td>0x695045f3093a9ee40769135159118f1fc2bd603a22a7...</td>\n      <td>0x24415add68ea0d8c6efa9ff6e4ca213417969d38</td>\n      <td>0x49cf6f5d44e70224e2e23fdcdd2c053f30ada28b</td>\n      <td>0x2310abf1ef6beb30b74bff98ac1b326b647f4224</td>\n      <td>911</td>\n      <td>CloneX</td>\n      <td>CloneX</td>\n      <td>23543438533</td>\n      <td>ETH</td>\n      <td>16.000000</td>\n      <td>53186.027771</td>\n    </tr>\n    <tr>\n      <th>431398</th>\n      <td>14473393</td>\n      <td>1648452996</td>\n      <td>0xa0742c124b822bab20b0b85436ce781b62327eb863e8...</td>\n      <td>0x8b4ad8680a98b3dc0210eb4f21a69124211346e5</td>\n      <td>0x49cf6f5d44e70224e2e23fdcdd2c053f30ada28b</td>\n      <td>0x9cfb3e1c528253dcb1754a266f9f95540b41e446</td>\n      <td>17241</td>\n      <td>CloneX</td>\n      <td>CloneX</td>\n      <td>21145077548</td>\n      <td>ETH</td>\n      <td>14.990000</td>\n      <td>49797.533594</td>\n    </tr>\n  </tbody>\n</table>\n<p>270685 rows × 13 columns</p>\n</div>"
     },
     "execution_count": 22,
     "metadata": {},
     "output_type": "execute_result"
    }
   ],
   "source": [
    "sales[sales['amount'] != 0]"
   ],
   "metadata": {
    "collapsed": false,
    "pycharm": {
     "name": "#%%\n"
    }
   }
  },
  {
   "cell_type": "code",
   "execution_count": 23,
   "outputs": [
    {
     "name": "stdout",
     "output_type": "stream",
     "text": [
      "tokenSymbol\n",
      "AZUKI     10000\n",
      "BAYC      10000\n",
      "COOL       9938\n",
      "CloneX    18554\n",
      "DOODLE     9784\n",
      "MAYC      17990\n",
      "PPG        8887\n",
      "⚇         19999\n",
      "Name: tokenID, dtype: int64\n"
     ]
    }
   ],
   "source": [
    "print(sales.groupby('tokenSymbol')['tokenID'].nunique())"
   ],
   "metadata": {
    "collapsed": false,
    "pycharm": {
     "name": "#%%\n"
    }
   }
  },
  {
   "cell_type": "code",
   "execution_count": 24,
   "outputs": [
    {
     "name": "stdout",
     "output_type": "stream",
     "text": [
      "<pandas.core.groupby.generic.DataFrameGroupBy object at 0x00000262A2E91100>\n"
     ]
    }
   ],
   "source": [
    "bayc_features = bayc.groupby('token_id')#.filter('trait_type')\n",
    "print(bayc_features)"
   ],
   "metadata": {
    "collapsed": false,
    "pycharm": {
     "name": "#%%\n"
    }
   }
  },
  {
   "cell_type": "code",
   "execution_count": 25,
   "outputs": [],
   "source": [
    "def get_features(df):\n",
    "    \"\"\"\n",
    "    :param df: dataframe to have features extracted\n",
    "    :return: dataframe with rows of token id and columns of features\n",
    "    \"\"\"\n",
    "    columns = {}\n",
    "\n",
    "    for trait in df['trait_type'].unique():\n",
    "        columns[trait] = ['None' for i in range(df.token_id.nunique())]\n",
    "\n",
    "    for id in df['token_id'].unique():\n",
    "        for _, row in df[df.token_id == id].iterrows():\n",
    "                columns[row.trait_type][id] = row.value\n",
    "    #%%\n",
    "\n",
    "    return pd.DataFrame(columns)"
   ],
   "metadata": {
    "collapsed": false,
    "pycharm": {
     "name": "#%%\n"
    }
   }
  },
  {
   "cell_type": "code",
   "execution_count": 26,
   "outputs": [],
   "source": [
    "def process_sales(df):\n",
    "    df = df[df.amount != 0]\n",
    "    df = df.sort_values(['tokenID', 'timeStamp'], ascending=[True, False]).drop_duplicates('tokenID')\n",
    "    # print(df['tokenID'], df['timeStamp'], df['amount'])\n",
    "    df = df[df.amount < 1e4]\n",
    "    return df"
   ],
   "metadata": {
    "collapsed": false,
    "pycharm": {
     "name": "#%%\n"
    }
   }
  },
  {
   "cell_type": "markdown",
   "source": [
    "# Kmeans model"
   ],
   "metadata": {
    "collapsed": false,
    "pycharm": {
     "name": "#%% md\n"
    }
   }
  },
  {
   "cell_type": "code",
   "execution_count": 27,
   "outputs": [],
   "source": [
    "bayc_sales_processed = process_sales(bayc_sales)\n",
    "token_ids = bayc_sales_processed['tokenID'].unique()\n",
    "prices = bayc_sales_processed.groupby('tokenID')['amount'].max()\n",
    "bayc_features = get_features(bayc)\n",
    "one_hot_bayc = pd.get_dummies(bayc_features.iloc[token_ids])\n",
    "train, test = train_test_split(one_hot_bayc, test_size=0.2)\n",
    "model = MiniBatchKMeans(n_clusters=100, batch_size=2048).fit(train)"
   ],
   "metadata": {
    "collapsed": false,
    "pycharm": {
     "name": "#%%\n"
    }
   }
  },
  {
   "cell_type": "code",
   "execution_count": 38,
   "outputs": [],
   "source": [
    "test_indices = test.index.to_list()\n",
    "test_prices = bayc_sales_processed.loc[bayc_sales_processed['tokenID'].isin(test_indices)]['amount']"
   ],
   "metadata": {
    "collapsed": false,
    "pycharm": {
     "name": "#%%\n"
    }
   }
  },
  {
   "cell_type": "code",
   "execution_count": 32,
   "outputs": [
    {
     "name": "stdout",
     "output_type": "stream",
     "text": [
      "[41  4 59 ... 14 56  6]\n"
     ]
    }
   ],
   "source": [
    "print(model.predict(train))\n"
   ],
   "metadata": {
    "collapsed": false,
    "pycharm": {
     "name": "#%%\n"
    }
   }
  },
  {
   "cell_type": "code",
   "execution_count": 33,
   "outputs": [],
   "source": [
    "train_indices = train.index.to_list()\n",
    "train_prices = bayc_sales_processed.loc[bayc_sales_processed['tokenID'].isin(train_indices)]['amount']\n",
    "tokens_in_cluster = [0 for i in range(0, 100)]\n",
    "price_per_cluster = [0 for i in range(0, 100)]\n",
    "for index, item in enumerate(model.predict(train)):\n",
    "    tokens_in_cluster[item] += 1\n",
    "    price_per_cluster[item] += train_prices.iloc[index]"
   ],
   "metadata": {
    "collapsed": false,
    "pycharm": {
     "name": "#%%\n"
    }
   }
  },
  {
   "cell_type": "code",
   "execution_count": 36,
   "outputs": [
    {
     "name": "stdout",
     "output_type": "stream",
     "text": [
      "[0.31614820721830605, 0.7527575308641976, 0.24610974816709283, 0.13010526939627395, 0.3052806414098655, 0.3520267094017095, 0.2139286507257425, 0.4507546252230814, 0.3115282462549856, 0.31501819485452615, 0.42281946313476565, 0.1833044176585553, 0.18607435570834976, 0.355396983092893, 0.21611184921858273, 0.19473409447989903, 0.3604476638965835, 0.4938896617465177, 0.24145741299009368, 0.45431086464463577, 0.30843189021144835, 0.29956332721606654, 0.46126895119907657, 0.7039861753488609, 0.5296530408163265, 0.35956137262539617, 0.3059700424325206, 0.22006881648479962, 0.27679005190311423, 0.40985085381872766, 0.29242328587906746, 0.4014832687974224, 0.6734807535709604, 0.41408881776239914, 1.1832252765043265, 0.44510139757038975, 0.4477908179012345, 0.664244072792516, 0.36747845627066505, 0.3463987433709956, 0.345376791111111, 0.6468866390306122, 0.4205375242384439, 0.23902834946214538, 0.3971405925339924, 0.2856038719700386, 0.28436059968639865, 0.5532846723377441, 0.35569343902850403, 0.39252708227131833, 0.5142537412408964, 0.33673901425542535, 0.5461582598395678, 0.8179086814764235, 0.7955702305861749, 0.2592347440170381, 0.39829476700910615, 0.24442038160664814, 0.33337094847188486, 0.2568951538826612, 0.25494477274441696, 0.7907829402045369, 0.881874826388889, 0.1561068721128814, 0.626755234710744, 0.7684497404844292, 0.6133701790633611, 0.5986026972461613, 0.7018795102040818, 0.38334061063531244, 0.47574675510204084, 0.5509026590706955, 1.0514345244704166, 0.7449317345845079, 0.4067179309026039, 0.5757490924643287, 0.21634279905993942, 1.7323077707249392, 0.4407110388716593, 0.5122063011747954, 0.2776581267489713, 1.0881243576793003, 0.8729812983343247, 0.16938369498123482, 1.7884775408405036, 0.48679462269482454, 0.5283230146485716, 0.23242285973399682, 0.4909377950096038, 0.4761679372575475, 0.36986852004274456, 0.43125697460949564, 0.2713809438791827, 0.49256396798927105, 0.6235764297520663, 0.5986003125000001, 0.3721811572684, 0.26205428992986946, 0.4645117808274743, 1.038137755102041]\n"
     ]
    }
   ],
   "source": [
    "price_per_cluster = [price_per_cluster[i]/tokens_in_cluster[i] for i in range(0, 100)]\n",
    "print(price_per_cluster)"
   ],
   "metadata": {
    "collapsed": false,
    "pycharm": {
     "name": "#%%\n"
    }
   }
  },
  {
   "cell_type": "code",
   "execution_count": 40,
   "outputs": [
    {
     "name": "stdout",
     "output_type": "stream",
     "text": [
      "[57.26222127751202, 0.06891756092203312, 22412.358525614403, 0.05594566009928677, 1568.2950573606984, 3751.2674423208846, 2999.487505814988, 46.838873145940525, 4153.379116524738, 0.026068496209453677, 0.17666845108989762, 48319.37965673977, 2654.6411633556695, 0.05106246007695514, 16822.203273110834, 0.15594184825858937, 13154.720507907386, 10342.39710952451, 2556.30295516973, 6335.923865807537, 1194.7236516860055, 6562.719954118973, 0.0025105380212731873, 1.4124651094497502, 1390.992647208569, 2576.6762429067076, 0.2954753349820031, 703.6827211985204, 0.045123652383660014, 1059.646322635115, 46.43404728560237, 0.14010862339101482, 587.9287673570628, 2995.221743789991, 7364.505240672261, 4243.780677309835, 1244.4012098390883, 9268.431269072717, 0.2989412866836008, 8663.238435030877, 11.14206568874758, 4743.307890774586, 2654.125485298196, 0.15597107498192822, 2458.762587772756, 22238.86770684694, 252.9120866532477, 0.05218112846557518, 0.271776151956337, 2136.504888247695, 19.90026806690243, 593.1476716469493, 34.495004072997645, 0.03872632452803039, 14931.380957270898, 0.013163912436122397, 0.14193530718039024, 0.19589743057527276, 0.009627630517790899, 45.49577001872787, 17.95422374224807, 0.0006110466891076574, 10973.377522893055, 0.007605441442335649, 520.4752033032682, 1514.1340660034311, 1636.1294756959742, 870.7847522179927, 0.5623967800085091, 208.3833201258688, 46.42958268593539, 1282.9954343112943, 11782.166629869203, 0.0781545610641956, 5597.871634566041, 0.14142965974496055, 9749.738723337132, 0.018589358855499012, 0.007989444928498422, 15.81270531722058, 7.380864898224991, 6.7989150166885235, 9.21156023249144, 0.1348220022529615, 1574.8109787637295, 0.011251768938941514, 0.0659149214408475, 3785.181911684536, 0.057322119128673014, 0.05106246007695514, 1261.2154711861017, 2.2916875141870685, 2.285252711452052, 12043.035558968757, 218.5565202349069, 0.055233551912680014, 0.12338146221181585, 15553.990711029055, 0.036124311927826655, 276.2209008563495, 13186.823010906997, 39.865657041643736, 34099.176443648816, 0.07600687232336346, 0.0075236565940028826, 3.4965063035395816, 1734.2729604357883, 4435.36243079627, 92.69489566845763, 244.37572981516178, 0.007989444928498422, 1794.451919177672, 16.754958097194265, 0.0005387016906601308, 322.34043323072694, 97.41482199319918, 20436.901767520132, 8959.30423084892, 0.05106246007695514, 0.09454192972660566, 67.03692644769652, 0.12338146221181585, 13880.773757942112, 12.121192209532937, 0.15661549417379467, 0.03212509346285317, 6335.090550530901, 5533.370696117059, 0.427270890117434, 0.09201552606060422, 0.3413411365931867, 0.8073323162509652, 3764.2045190839603, 0.027034061887675792, 7709.764720739091, 6.3094519373438125, 0.02406577607372835, 2.827671307857842, 9749.738723337132, 1745.8933089970114, 3809.1879381945605, 0.007989444928498422, 1313.5626488866542, 0.051108254962683335, 9585.315245674507, 1803.5941341566545, 0.09531486049371818, 5695.773270139564, 12.768078152667073, 2400.8142785111077, 3945.9372438845553, 2150.941587509081, 5961.26319898661, 4795.647858624931, 1426.398576325244, 0.025290015932654238, 2987.1278381056154, 43842.76074776995, 1.0731119774849038, 4585.239442983759, 0.16548186505342463, 0.7869317554608636, 4305.5459894199, 0.9436850353330646, 0.09201552606060422, 0.14536601314844383, 0.05195924673937601, 0.01067180270777323, 0.03314376448186896, 0.07865089218505106, 0.0659149214408475, 0.08264386281976467, 0.01067180270777323, 0.041763254704184474, 0.053605328813909246, 0.0020797131386596744, 238.75432165963906, 0.0758434982966672, 0.03314376448186896, 0.09201552606060422, 0.0659149214408475, 0.031291895467170386, 0.002656116404628196, 7706.011018868903, 1560.13282396509, 0.03227521507455267, 9957.260035322452, 96.36906597186355, 0.1570206084910824, 0.13745899212430754, 0.11161533815387753, 0.018526435497702196, 0.14536601314844383, 0.055765975772420005, 0.01067180270777323, 1733.9261290801512, 1171.7990331697406, 7525.305155063735, 0.016066889526575805, 0.03314376448186896, 0.05106246007695514, 51.32183063693954, 0.5052123880858063, 61.64883148229731, 73.26142752009346, 1144.8583791655565, 2143.45599856782, 23.873693230198757, 2.8354793043420607, 15.63324812353929, 474.63290483566874, 0.3893587470264994, 1988.4886409183655, 15580.455688050715, 5563.058146884635, 4177.746337330789, 2.673405596175806, 6340.865605248233, 0.17020902768305224, 0.0482080546581895, 0.03314376448186896, 0.03806455533391928, 3884.0966915686063, 45.710737659376555, 4933.96795078172, 2.478932087581209, 1958.5110671765856, 0.4197398006706569, 9.645719879384417, 61.39907095076722, 2456.123122332617, 14362.558720048428, 19481.78932662067, 15560.842206649422, 0.026068496209453677, 0.023232728169489673, 3153.9845705758903, 0.04187065761598591, 0.026472992842621067, 201.21370881230817, 1726.586087912893, 4.563319599724082e-05, 0.15377424431291067, 208.6379920273242, 0.011251768938941514, 216.4530033954156, 0.05106246007695514, 1551.9113894198017, 2678.640021635854, 0.007989444928498422, 15.755715282380672, 0.20218785711536894, 32248.783343083447, 4068.408929933311, 1.5900495034601612, 0.7567168423321291, 26050.411821084126, 3294.1064256147756, 0.0025105380212731873, 58.675165687043624, 27088.522159687403, 43.96271639138122, 0.12952421711632853, 597.1530560052034, 0.16886987136735512, 9339.203075722473, 0.03314376448186896, 0.5409429205415731, 11587.457914878905, 0.04733618990659641, 0.00901450987148898, 0.3893587470264994, 4035.3307503219285, 23541.063061628152, 0.06471689431898288, 0.027592448436135005, 0.41334282583556997, 0.35221940485915504, 0.02151959387849559, 0.11161533815387753, 1985.8842296835842, 0.014934380046824791, 0.20948217673877473, 4687.968771476962, 0.0659149214408475, 1192.9239424614052, 3931.3447589577886, 297.7373808441488, 0.003220194214611, 9744.777462212747, 2.512400073450248, 0.07284316560765786, 13187.21877215349, 0.005792255982806485, 53.92118878107194, 19474.819087604254, 14246.359225090018, 0.14536601314844383, 42.96054960217817, 0.031291895467170386, 37552.105798171455, 0.027592448436135005, 3418.937009479276, 2090.532546374444, 0.15661549417379467, 13747.087240752848, 236.13422078874993, 0.027312819527378934, 0.03787033418934778, 19.98139373471496, 610.4419400524356, 7.622964455073726, 33.30631319630962, 2177.246275372297, 175.66560680763135, 0.09089216136477883, 0.1005781554328118, 44.9605908637303, 0.006482875373874833, 0.5087412337853223, 21846.396629401497, 0.005792255982806485, 9744.532002921616, 0.025290015932654238, 0.20218785711536894, 0.13527008573245902, 0.2539032684979163, 0.007989444928498422, 0.5445092221982739, 0.10335149211667574, 0.26894875759099374, 6.846906359950379, 4.659306099935418, 1.7490632336282232, 5987.110924522421, 0.03262224963863161, 3583.9345616630017, 0.06607690797134938, 0.013086474108247322, 0.9782440453404645, 6001.86730037615, 0.569456187393764, 0.1521211249050777, 7537.138631836943, 51.58243570761172, 14.132253493261402, 1.392237597831581, 5884.052325352748, 1.1355873315007319, 2.931208134221415, 0.03662666568008688, 7183.2219128197385, 10.280627354695028, 0.7990449240838166, 14700.893806369408, 4169.122575878915, 2971.0605827837417, 1182.7683724653755, 0.5020325976066906, 10.922354772341192, 2.4177096638375555, 7181.393818960035, 0.03559188878843091, 1548.6675312013074, 111.09474402374578, 0.21115107671923677, 0.15580337204580716, 0.07874551064238468, 284.70638890936135, 11963.202033018288, 3.835889065131457, 2461.812888960231, 754.7839139928401, 7086.2608140613565, 1.1652392365772681, 26.884036319689613, 0.008971756891726492, 2.937541114160548, 39.17186425787429, 48.25685384357772, 12.61819007338678, 20.845063133695938, 12009.071929641266, 0.16137729600866924, 0.7831927954385415, 0.09931898433878496, 27.696131700848365, 61.10072982699626, 58.36275989606317, 4.841921550932427, 1749.8004604577018, 0.12880070477130526, 0.0781545610641956, 0.8844211355169153, 0.6288193395079913, 43.43818665947215, 0.050751367394040396, 11114.40842895888, 0.7751687347828431, 2.370221395601487, 33.02451011610267, 0.06271852707508697, 2.7047190832199575, 0.01565132843071428, 23.090580422753916, 7695.361563597883, 14.597108950175246, 49041.804021476026, 0.3535527477150333, 1173.4097018682758, 0.039972478141788725, 0.004308530873529206, 0.058051021064089846, 59.112597908134944, 51.86187945668789, 8920.182036184473, 0.26826775858005175, 1.8546467401212174e-05, 1.7336872565574764, 2177.4599258237113, 15525.872572516742, 61.777945176172224, 0.0805953080615319, 0.09016846360552022, 0.05106246007695514, 0.0008793028296547236, 0.0659149214408475, 2.7745896311889293, 41.59085651278143, 2.2234243934909412, 7772.173466282135, 13.35627079894932, 0.03739232371291635, 0.026229300631148755, 18130.07671126567, 67.74011999897995, 92.48013781105603, 1675.876688889769, 0.21015802599532096, 0.09767317715302337, 34.85743682961805, 0.050751367394040396, 14316.984293680369, 4739.481621003943, 1568.7519109286106, 0.023232728169489673, 0.13527008573245902, 0.11752518430400893, 0.01067180270777323, 10.470116420458364, 7318.673384193789, 1825.7348864430912, 10959.676118134668, 0.084023758911771, 252.49683988788541, 0.16664116790805278, 8028.672413994121, 2.7840343646657106, 276.4843594667, 6371.330787313027, 20.964778017253607, 10893.774222834982, 1.5472701136047995, 11041.693434194982, 8892.681208357044, 0.03314376448186896, 0.03933201813929753, 0.04227295216907202, 2.5215715781301316, 19.393822072379265, 9651.53166497925, 0.22399838106984582, 3444.700167185948, 3.75290838422338, 46.29340417304955, 3572.1632772176476, 8600.326574523915, 0.012512527038646314, 0.223962491214611, 13218.180679915075, 35.63964309449013, 4.480246970585691, 4.856105059254982, 1.0950252140036272, 6.269643632141355, 11827.408644907719, 0.5683505118086841, 1479.570113733636, 1580.7417086430803, 0.031291895467170386, 4562.4201207700635, 10952.3762559815, 5263.60249401497, 0.002576031981535449, 16562.009672031963, 26.014454253079244, 0.3213604615114236, 2233.369847448229, 0.13504287711297602, 0.09119162458309715, 0.720851868847036, 1.0734438407869804, 12.397475126381782, 11.204702394810171, 4.637998372554026, 1183.5211263640408, 11405.228819830743, 0.09681320685516592, 191.2859473766509, 39.000714791472284, 1.5900495034601612, 1044.857347840296, 2.8739264904188877, 7196.233462689315, 1576.1246720097276, 1.1588936879321474, 62.6353674274292, 11800.003026529314, 4.054859256379398, 2011.6686975943333, 12597.35645721665, 4331.837417378603, 1.6851168060279946, 0.0002462840285413728, 0.027243228044392158, 11160.632155216434, 0.10930714114426116, 7857.384707417992, 0.08676755374059948, 2963.1581858567934, 0.018526435497702196, 147.36873092099393, 0.1982617266186355, 0.26894875759099374, 0.09767317715302337, 0.005792255982806485, 0.025290015932654238, 0.06419683752954253, 0.007899586565747848, 10.976663721366194, 3298.046286693044, 12.219842531041534, 10661.365852137556, 65.42239545294625, 3364.7088365736377, 5563.058146884635, 0.5325972200546115, 0.15377424431291067, 8961.770655979628, 0.643003237196211, 0.03456296768098243, 89738.7632207864, 2.8391636836712997, 0.0716591296142517, 208.91354104960394, 5497.273607301997, 1978.9816201986994, 9743.18570077407, 0.07600687232336346, 4679.141861992133, 0.6174548291164867, 1.2667237314961433, 1.1588936879321474, 0.0031077007044069183, 7154.776370529387, 311.1538066181315, 5.681821651593404, 2913.6913152058096, 217.35914050360856, 0.17078464233857754, 3438.5970981786113, 3.689779727156145e-05, 134.94677536851478, 6997.925003203081, 198.3661236264194, 0.002052216621830515, 0.041763254704184474, 0.0013081196854658943, 12.195524971534928, 3526.771801488961, 0.0752511104973028, 15.39157629684637, 12.113453038921216, 10894.865365647347, 3090.6130112142264, 0.14536601314844383, 874.9446003549859, 23609.42917913114, 7.6679656623836925, 0.006180955985328215, 0.10131155870538117, 5.136675799775391, 9.888528133941278, 1.1952656826098835, 0.2067093875235322, 0.012218861927332821, 185.41439858215705, 4730.678933609087, 0.026068496209453677, 13.103637860652622, 5.505560710595896, 0.012301290345342313, 0.01207685181446552, 0.18857631178171538, 15239.5426668568, 0.010123640835629196, 43.83453257483113, 0.1005781554328118, 0.581364950269689, 0.13745899212430754, 19260.888466354467, 2099.1662776010594, 0.012979052427267615, 537.7052222742303, 12304.953647208613, 2.8776954020170633, 0.28504187200509107, 0.05813391066119892, 81.16728758510895, 0.26894875759099374, 0.005792255982806485, 6663.478365435109, 1.5144164901780381, 0.018526435497702196, 58.73518158768782, 0.03314376448186896, 20057.32865535126, 22313.315918638124, 0.0025105380212731873, 16.117971528238385, 385.85156799555847, 1.6539795154241093, 0.3413411365931867, 21.65600465569905, 5.479181983616982, 1694.2836522464092, 0.07281948330669631, 3.2181692172472123, 39.89937975085546, 3076.9593917722173, 52.377678557062886, 0.8151551096498705, 162.3323585998093, 8.23970261640826, 1563.8615291901635, 7353.729693323404, 62284.55749527341, 2669.4405575482087, 352.8344540610666, 0.045123652383660014, 493.5346339647661, 7836.468843072629, 5148.863206371588, 13181.31192805231, 2172.9019263808946, 3581.2915447019755, 313.30545840723437, 1806.4930578108215, 0.13588000853540225, 239.58764788450648, 0.0326902374448493, 1033.8701851121705, 0.05883727856670011, 11823.94083724616, 4191.001614759988, 1566.5709524917988, 7.524624196792428, 7837.202054940883, 0.0017187170918311877, 861.0640639008608, 0.3510817797833942, 1.3101160663128508, 2357.3170164622757, 7.2030604456175125, 20.969887389511875, 9447.924889379881, 3407.0446108617607, 0.09506855452136465, 39895.24695647893, 9570.125588056046, 3.0128810238775974, 51.957561782486316, 0.05326076548945082, 2665.431678457912, 1074.5238883959923, 0.06446172038830476, 32132.37949883877, 1058.5579936599145, 2.0796663871951133, 4849.667249572887, 12045.275778237163, 1.4582415204871086, 16.754958097194265, 27.053309508582764, 1.0994895564725815, 78.14823692672947, 53.26256268357901, 0.9894666023539688, 1.533812284824252, 11824.598915503078, 497.91127765897653, 66.84720206088656, 0.03060567351059569, 2354.562278053232, 1334.7215922950886, 0.03060567351059569, 0.004375585318195957, 2.1658331492130687, 0.0077344479197394575, 285.32507320762556, 2.419827949160806, 0.09767317715302337, 0.03780293523431318, 11966.267635462353, 0.02047899698226722, 8.176211056660014e-06, 12711.007690342605, 0.18857631178171538, 53.36690995035442, 250.8552687776291, 3491.793235191903, 19236.738005433217, 0.4243669396719978, 8880.018823703946, 9.522847824659067, 0.09383136414274841, 25341.503585183433, 0.515452356965634, 30434.142897900947, 0.19015822165787147, 11.160712495582906, 182.3868688535326, 13.419481049678312, 0.053605328813909246, 14320.608057276946, 0.3867341252116687, 4681.8781122573955, 205.81899577988673, 11154.878740569075, 15278.80736110703, 0.4730601721436562, 0.000945846972612196, 1.4892467007888386, 0.7046097159668254, 9902.724925025026, 0.00025504225529650825, 10781.835213443077, 4268.761002579628, 3525.5596759934947, 158.39184182515828, 38.9763581196138, 249.80643034419612, 0.07284316560765786, 35.9327849397406, 0.1114846208502437, 57.721594735620776, 0.03715546570486208, 13154.155795482266, 6.31276450770404, 7507.113638717722, 251.02894944790867, 7.179519159014249, 1751.6449147794003, 967.0164526622098, 33.453362140749675, 0.011145073586018156, 64.22825507335747, 966.8386990021038, 2.528574307101029, 6.407006654305148, 0.42687563202023066, 0.026091374338211272, 349.46285599430496, 13251.845268967005, 1697.4759820280794, 0.015348794499221158, 0.01446743269796865, 0.053605328813909246, 3509.9580104121655, 6776.038371595871, 8905.67703146523, 10.008468125380586, 14075.343378511023, 1979.1637881892318, 32.303959177797815, 2978.6686353535815, 0.08264386281976467, 0.5120407549011516, 1537.2259325944278, 23.71166480284986, 183.48569415168433, 3.0924720303274937, 101.59556380028528, 1609.0906161384987, 6091.5091119897015, 19508.78487463195, 13189.119788769556, 9.800758449249347, 4448.185590321098, 4.384388431012901, 7.301934463818878, 0.3538997405000797, 92.21490879955842, 22.515549109705532, 0.6289603906420087, 2460.4436613968387, 9.214188728735193, 55.42904147669683, 8018.430442725699, 0.4027209890676019, 15.548075827474042, 1.8060410089715149, 10696.489038542355, 13614.206340989846, 0.031291895467170386, 9847.733335532823, 6.863848399445169, 0.11875123926147982, 388.1072050983701, 0.16062696515899338, 245.8218192546205, 14331.83431702592, 6.513771709189249, 3329.3403922299494, 5.935503902115809, 25.44801959818829, 8.122107750772349, 10831.844687373587, 4824.355022196001, 7.208590307601217, 0.18680228677519792, 2460.0128619353823, 300.5284335677094, 0.49792696327493885, 0.1816950084032402, 38.52088115629409, 51.36152556995237, 0.2889887235650587, 4706.217341644433, 0.22988426566340076, 3431.5534239491567, 0.3754717916307881, 0.020910032498637064, 13473.232266360705, 387.4985086689083, 28436.927322196334, 122.4938112819556, 4703.142673464387, 1050.4710833319684, 211.1052798345631, 16.48973870035071, 0.03872632452803039, 5987.750974212377, 1095.7993009504607, 1753.0880847518376, 0.9934414443968781, 6353.297785637474, 75.42890895570794, 0.3543414982746659, 3831.6253295071438, 2472.311281360452, 7.593219033304849, 8.528049706022117e-05, 3.7336233571968925e-05, 9174.508986787196, 10966.768887418066, 0.016969206140971874, 0.5709005597314433, 8720.175849470159, 31.691859504927436, 0.07222281369604125, 0.5756909785787355, 18698.676722956243, 0.02478610417528328, 20.16244372009984, 0.2528675836770642, 0.030306916469909823, 0.9493005971741717, 0.058421419655182286, 4.387849191252265, 0.021362236919330608, 14.194637507854953, 0.08536982866270149, 48.1102218367085, 9355.379342663628, 0.2001620449719806, 5728.045422191745, 0.12526336168725977, 45.71208578997722, 346.9956348376264, 1.144460765627499, 3325.051667510092, 9139.638833202896, 0.03662666568008688, 48.905994097959166, 107.29302768416628, 0.002943160968443957, 0.6445832281566688, 7861.782905491606, 2830.7113470884883, 319.8725741703846, 0.6243356732109936, 0.05302238724499206, 0.07603627294930489, 0.4155390814382082, 4.097601199479917, 0.06463530506540889, 11815.78493285391, 8950.573931878767, 2.4177096638375555, 42.25567693687425, 6863.110628584782, 1580.3717901547755, 0.00857052689983123, 0.15244232174616473, 0.06045214495264926, 9943.208741013375, 44.16663110658123, 356.1993679705184, 9757.474804619998, 173.54985121734106, 1.388795431121415, 0.35221940485915504, 0.409284214357468, 223.72910115881277, 0.056116991413458175, 4303.509966237741, 20.873412832054377, 164.14415747429047, 13131.620295367718, 7250.177355496439, 0.127492823821132, 0.33577676081571195, 18105.020737910112, 911.9264811162319, 0.5445092221982739, 2.1172236570192493, 0.055233551912680014, 945.4728712251617, 6028.684377653101, 0.013163912436122397, 248.40822736905793, 39333.40823640418, 1976.14404545923, 14109.557218030439, 25.78486859365946, 5578.741261518736, 2986.0002395294323, 0.4526026953344919, 94.96610138226139, 3.2589849896333103, 1.5680278357324593, 2264.3237722214412, 0.9169531634266422, 0.0010576508065390465, 12048.920991244247, 14.144907756149436, 0.10674460637327864, 0.08648667853132096, 0.3234550058701983, 0.08264386281976467, 0.014144696924823055, 0.09332755083013841, 0.26304058754343307, 306.5672592982232, 14852.271241648436, 1342.041761043963, 1982.3716215512927, 3.399941867069342, 1.3610233438693893, 2781.290917718304, 3.3003828388989214, 0.026068496209453677, 2997.9884977097627, 1511.938797320218, 0.6648579479653428, 2679.1981862077832, 17.19600465411625, 0.0023323845204638502, 0.16886987136735512, 12037.248717738275, 7584.744500308503, 12018.765728312716, 7.500647757666208, 5059.132169223159, 9936.088680750328, 2449.864938616564, 49.12695299342484, 228.85090293850524, 21.012030578874285, 2.4313820642967, 0.44686651789479903, 0.0031326456498981534, 7499.303100044373, 0.22399838106984582, 16832.666169208074, 2459.1828923405033, 0.13139063126036443, 0.0012179124515399975, 4719.749999031196, 2981.976098460471, 0.08954779432537846, 0.018589358855499012, 0.013713116568746176, 23.226773521080727, 2733.6049601634213, 34.32252124380873, 998.7407227280627, 4.02979942261498, 3450.7523669619345, 13.61932283582855, 0.06704535779658238, 1454.988123017373, 0.007043513769768607, 3192.730634763561, 16.554669806663874, 0.16540129669604678, 2046.7268409469552, 0.003348957624825479, 1235.4590438821238, 14079.072127109679, 73.79066235363884, 5.972362450950371, 0.7190587015680927, 0.0067283810552724935, 2465.6765872386013, 188.89459831078278, 0.07042484126043025, 0.28448374791408193, 6.430058122367887, 613.432877399027, 0.4678969828497677, 46.02113844231251, 0.10749179106396158, 11813.183892164629, 0.11161533815387753, 0.04227295216907202, 0.0015723636459812537, 10744.280912576727, 0.5683505118086841, 1491.2463823942076, 0.9436850353330646, 0.25385649912789254, 0.046956975406297854, 8116.234973181186, 1718.872641162338, 13639.644395495732, 0.08174520412850259, 63.11856568675684, 0.20818135582830533, 8.091766323797016, 0.9213978938408, 3516.017255493219, 26.884036319689613, 0.038871379422966534, 10818.925136383612, 9.627736502500303, 33.453362140749675, 3911.9632294165103, 21.65600465569905, 2625.491723604281, 13988.42972716082, 14.132253493261402, 45.61112993354086, 77.18274974464899, 3674.3793955262536, 0.211536693569693, 1.3575725328469481, 0.007142241098631051, 1653.314615565843, 248.22227322072254, 10.982103175893828, 13.350913972439544, 1.6067518065249389, 0.09209406665399583, 75.07045935746065, 18.098596398265382, 5785.336159647368, 0.01581224641869264, 0.0739985306279221, 1477.8859362441856, 12271.705253813776, 12877.363551565508, 5280.404923143913, 120.6857504744337, 2.333386355128917, 0.0739985306279221, 0.11752518430400893, 9939.037067988047, 21.7774267045662, 23.71587468716194, 0.061105655929125965, 639.2443521855419, 9236.498790740998, 2266.2613419352742, 8.053073077092037, 0.03322086031506237, 11531.477951723162, 0.0482080546581895, 0.03662666568008688, 53.3354647631696, 0.1301124535638717, 10.573586922260361, 391.39309224430747, 0.003013856548724409, 1.7792575987950692, 9527.21876938514, 0.3234686289303439, 46.82472487034604, 10.924782706193614, 5518.005994957087, 6.2581479114494565, 35914.460941637684, 0.026068496209453677, 16531.502403270875, 122.21078311000014, 41.34869229074116, 0.4027209890676019, 0.007228093456322174, 0.07095880726196428, 0.002283962275668952, 4866.593165627146, 0.004439430507536225, 8980.893677036267, 8381.264328691113, 1.2961311109982403, 1270.5377242329032, 0.4502151716626539, 5681.605230241429, 1126.608003579747, 0.018589358855499012, 28.796502128677595, 0.027608567312913324, 16818.19450580091, 90.9732192690739, 9730.699216894925, 6183.400791626576, 0.48858167332882846, 0.07571199471600294, 0.0019297263545842752, 113.30126216394082, 19.095979956558214, 3.8255241972034217, 18.351697688405427, 1181.738497481098, 3010.7053477475347, 0.2955643034917871, 0.3544528240582756, 6017.088568516945, 618.511663911311, 13435.562914920818, 0.9362055223653367, 0.21730352321665397, 3.4340291286032603, 0.007989444928498422, 0.005191820697297686, 554.8505518797577, 1.5453096584404127, 159.4416012922147, 0.0011806508108089392, 9956.014711010792, 0.10029609187458677, 1990.4443418687747, 2.3233479545819575, 11828.9489543691, 7.075039977893468, 2180.8801678494697, 20.854377978472662, 25455.961699660773, 237.09758145797835, 0.030237088982180912, 2660.4893008961635, 17.497739625906984, 0.5052123880858063, 38.26747873831184, 9919.86453505564, 18.812506368515812, 0.016734650135159197, 0.04227295216907202, 8381.264328691113, 3323.2888245135337, 0.01067180270777323, 1.9971623574000021, 11958.103401737022, 0.05623566062737302, 73.85735091156731, 13.35627079894932, 0.04227295216907202, 2447.44682374295, 0.6288193395079913, 0.5603502711548314, 0.023496190773689578, 13165.980109727076, 2220.134813173689, 3549.516498057345, 0.1264069311416021, 7758.771721896947, 31.267167412657752, 42.34672371071154, 0.004217823506823964, 0.01207685181446552, 0.15557484299984317, 8.728655262398629, 4843.484784679215, 478.2922955276886, 2.072310928380804, 0.006990688662861725, 11954.307524173888, 11274.63651677528, 7706.011018868903, 12291.176744122316, 0.3413411365931867, 0.003510014432457543, 0.2962016107697854, 134.62634642942245, 6.6421787447172065, 94.19218629685089, 5740.114385333664, 2.6494686309834994, 2093.5730662151336, 1.0061900533222052, 213.97308409577363, 179.87804887611932, 23.470178391425442, 2994.62970702349, 19133.48251652178, 4582.148393162142, 8066.541239638348, 21.17569105133578, 8066.541239638348, 5084.264688189681, 1315.3454996374187, 0.01313759736361384, 0.06607690797134938, 85.5485400028322, 4869.238795976117, 0.03672169338956501, 0.1569490345109001, 1035.6870016337905, 4.271557757680618, 0.0016689709439404355, 793.2067076971889, 185.78048416092176, 15.120212579672828, 0.1882273780998899, 13383.015015256839, 5383.141452779873, 14350.540868033295, 0.2567404131643357, 0.021193425291553956, 1.1422116543208483, 0.01518069131003729, 2527.573795507709, 7751.615805003931, 1203.504897916098, 0.24315238926440436, 0.006168937974208705, 0.00400494975289564, 0.02672595678812907, 16.895427998984903, 0.7141183371119852, 0.3867341252116687, 1.9278538109477559, 13.497186995325267, 4302.067665018304, 3581.2915447019755, 2.2031695582344386, 0.0025105380212731873, 0.0249861992417652, 4351.239486405638, 11987.782226676665, 0.007038056906684434, 0.16555673702162768, 60.8618370841251, 91.29082466383822, 2.2081117462021957, 6986.604548164912, 1995.1077508268152, 213.40951651648206, 0.3731623756689029, 107.92340589319657, 6184.3185875058725, 91.97096064600137, 178.46868045073015, 10.31387650568586, 2.041272409807786, 3565.8091049352797, 45.2743144023922, 2768.5128452964186, 0.0659149214408475, 0.01793688348521793, 465.44840307499015, 12939.947547426047, 0.13745899212430754, 0.011251768938941514, 1.6994226434813302, 1554.3849637976784, 45.614378251133296, 10097.387210894745, 1278.4249066645223, 0.11161533815387753, 0.0005207278977589275, 13.280970310339894, 73.43568712348538, 1.3191572481205005, 4844.55803769548, 0.009582612229372652, 0.08264386281976467, 1914.4029121694387, 0.0057375709084885465, 451.0503379838862, 12.417392406411729, 215.82465106933387, 0.016934202075865573, 2175.7189906048593, 4705.038345010758, 2258.514613927747, 0.03314376448186896, 4560.826721008878, 0.20617248600074056, 1586.4779952376266, 9.693016525707698e-06, 0.015220390926852472, 0.027034061887675792, 1581.6445268833018, 0.1960637084176442, 2.528574307101029, 230.5836724225991, 0.0699664821965218, 220.34116319213445, 18.23200101043747, 0.25385649912789254, 0.5240212606021962, 204.84327548005416, 1862.3215043011712, 9917.353705996515, 0.07154472456893805, 1.6075780602821432, 1992.5486594921663, 0.15482710343077083, 0.02481966672177391, 9.200573806154676, 2987.0222454378672, 99.39880093931993, 7147.973551372145, 0.005792255982806485, 0.031291895467170386, 0.1005781554328118, 1.425707539568597, 94.82758665227325, 0.0013439108285917662, 0.06095700799988646, 6.485758960149871, 3.4965063035395816, 0.07464367573910304, 9871.070468501473, 8060.436043316726, 0.03733008404360128, 0.22392765497785733, 1811.246607901225, 12.019368762549139, 5720.548328959016, 16236.939719346603, 0.011251768938941514, 8025.635482351763, 392.5916494375183, 0.11784436626203239, 0.5862036913125711, 0.01680038652671757, 15520.994171108285, 2399.0532797939, 0.08036133764515956, 92.13152343917582, 11925.966019542779, 41.652073207037034, 0.009127777012282573, 17110.017588613817, 3556.981919665637, 4175.312670641171, 45.2743144023922, 215.35509098135074, 0.018818499694633936, 333.4630856217472, 4.340064179422729, 0.19368924014341024, 0.007116710779448802, 1072.8944970720293, 0.09318727307300721, 351.97405727228505, 0.026847409997775167, 0.6699054848603183, 0.03386702528228828, 4182.707105714691, 36.422086190831, 0.031291895467170386, 35.34280866351073, 7123.596269209125, 0.11161533815387753, 567.1030545918514, 0.026068496209453677, 0.20477574753918035, 1434.1289269070078, 1736.7247729042315, 135.3155574653271, 9.556752027875097, 0.09406218022775786, 4193.983449121768, 0.2142255997025311, 0.059099966205734975, 32.436053734579694, 12003.37053338097, 3576.657868986784, 0.5978536238359888, 0.13329903050785177, 0.04227295216907202, 51.40739044793908, 8.830864105267354, 7243.143472417335, 818.0575422348987, 20.566059973000495, 65.45051320745756, 0.09113123868105631, 491.43179513208497, 11942.103359473818, 0.05594566009928677, 10726.484531859374, 20864.55710978772, 2957.7051549863368, 0.005738960507065619, 0.012971644579911555, 0.00048639170431074164, 0.005622271102873812, 3558.06909389754, 0.37011427477358605, 16.191224469154182, 1269.3984958461756, 1.5884744575235326, 4625.161864809141, 59.05894534541698, 0.11596580541444877, 0.34092537262294315, 1462.6722691101222, 0.045123652383660014, 54717.104710264925, 9974.994597449177, 2214.102007789715, 75.58615690308079, 2481.7031587436777, 45.421565691077014, 3142.0062138371604, 79.10868920054058, 2997.021071835264, 0.00023706708836283296, 1943.7493888725078, 13400.602557476628, 14.167136255756315, 0.22907620088198205, 2008.5362029202631, 202.45360024420444, 1.2134330882975033, 0.04227295216907202, 42.37986310332512, 2536.9202276124743, 114.43050200579552, 9973.995873501872, 2.7776523953975043, 26566.251274887847, 0.4018141877010848, 0.17020902768305224, 16004.131371393287, 57.285870984397405, 1.576480178124795, 0.21345488562337414, 0.3213604615114236, 0.9436850353330646, 0.015438288023437927, 1.6387818364686402, 25.800939042669714, 13008.061295534659, 10429.973654349653, 2449.5543682350244, 0.007652480311498654, 15537.117245453705, 45.910050624561364, 14.665471094955137, 0.11456312808322569, 0.3867341252116687, 0.09767317715302337, 0.16856791424358483, 1588.2706445622769, 837.5508993555853, 0.03060567351059569, 0.17130465210064683, 5139.453491222088, 0.0519635890320304, 3523.32196396263, 9901.465994648675, 0.00854206377268383, 1.7186466685139468, 7.367946339864047, 6152.033318773415, 0.041829742974208134, 0.49977223698656104, 2.2724745976854246, 11.332613482236534, 59.042137113719065, 6331.1848666406295, 4153.68614806058, 2464.921251863961, 0.025290015932654238, 0.2955643034917871, 1740.090844326201, 882.5620383124741, 0.9213978938408, 0.005792255982806485, 0.17130465210064683, 35.74201357408899, 1745.8933089970114, 0.01067180270777323, 1.0134359955057806, 22.20616593039502, 31.379101517317565, 1071.7730893154992, 540.9382675355243, 0.007989444928498422, 0.050751367394040396, 9744.17280154121, 10765.634814018249, 0.01793688348521793, 0.05218112846557518, 0.147349409470267, 12.877129527425817, 0.14499564755081193, 13185.12952225054, 0.01678380778985259, 31.343389589555194, 0.053605328813909246, 0.26109202765337947, 1750.0746142354815, 6046.390945255835, 0.26894875759099374, 70.07666358079133, 0.0939595657521571, 5510.664751992677, 2897.0114714422143, 0.055765975772420005, 8766.018630962055, 0.38171537132379335, 1.6419851591250971, 3.170238312437676, 1.572235494670042, 0.47069389629500025, 7.245041285495874e-05, 1.712098330348554, 0.07865089218505106, 1.5134059323437604e-05, 1580.7417086430803, 0.03008005719962661, 5445.851656408102, 2463.149950717844, 0.7807770684881079, 0.0064901347592879275, 1217.4258315612753, 0.018807542120574536, 21532.852187911492, 8940.120261215361, 1742.486802193945, 0.0034361937404955288, 14.8317919752699, 1423.397887501999, 5548.431410118743, 4563.664325184547, 7909.833098013852, 23957.980536498126, 3883.33690508053, 0.13312903691818267, 13170.080614175553, 0.24086789439581002, 0.11161533815387753, 0.5052123880858063, 93.79887256599889, 13222.9750614563, 0.04456821288048961, 23027.48732438822, 898.9554277159936, 2342.6952608590263, 1.1009158564907564, 19486.28439882259, 0.05525095986017378, 2437.043776117131, 1.5817897435788726, 3.0972294628067614, 6300.387736567174, 13166.427699105932, 1820.4412346207027, 12.289088460894877, 0.47399335570473583, 0.00014899378836981096, 913.3899483036625, 0.018526435497702196, 15550.198906382997, 0.00868724235860011, 16279.246159144783, 2.709679245704994, 247.85093030716357, 425.991120634752, 3090.8206085861407, 4.689994012190655, 0.013016258338421925, 0.6302006689027096, 6160.357621786917, 51.607726580652766, 13.75882459714857, 0.4526026953344919, 51.947665859792394, 614.2411118704437, 3544.8604949014516, 72.08263252440258, 13.731763365156548, 0.004086487998102594, 0.19716260321737758, 7202.899031583759, 0.041763254704184474, 0.11161533815387753, 0.04563002212658252, 0.04733981196633203, 336.8035818635102, 19420.7249049709, 0.10880158576494363, 185.00638524517186, 0.013571220705072327, 13195.092715419984, 0.0659149214408475, 0.16137729600866924, 14.642249543291864, 26705.681657600326, 0.4027209890676019, 11.927361639789437, 10.782404613285513, 70.65419282907128, 2824.8487879121276, 90.86896698166389, 2898.697395752019, 2268.6294247980154, 2253.748128032368, 27.93798387014753, 0.067061423613488, 312.9915821832873, 0.0739985306279221, 22354.554649529466, 0.15661549417379467, 0.13320927354171777, 7181.724385470598, 0.0659149214408475, 5713.229969249111, 0.1501772394937211, 0.0025105380212731873, 3234.184926669949, 0.01067180270777323, 55.71174320746478, 11914.50866729116, 42.06704386387475, 0.020418445997364428, 15548.601107058736, 8.631524995319484, 0.06591272878549409, 3269.3000922654155, 4.422017687568289, 0.11596580541444877, 1.8060487391822235, 2.400161231267675, 1258.7922575689724, 14528.944496317334, 91.72238703571027, 382.8745541622776, 8043.1932723896325, 4.679698092444589, 11617.36654490016, 0.04017485979669361, 0.5308857289423906, 5569.311345223566, 33.47485977074496, 815.3822341950365, 0.03212509346285317, 0.007989444928498422, 0.055233551912680014, 7497.853929157918, 1.8060487391822235, 5566.275015169619, 0.08676755374059948, 40.766930163307585, 217.81457929258505, 2674.3787668868003, 2.4632124628235927, 3.182274691722888, 0.374015552910342, 16824.055457049566, 1970.11447936235, 2283.2999668063885, 0.009350035644351119, 0.48858167332882846, 0.02584546753126726, 0.058062914725138484, 559.3037228573018, 2676.815026298164, 8941.459128834169, 11.495060832158188, 22669.605110370154, 23.3642419361997, 11716.994803784459, 0.1158563599270969, 1697.8050326225564, 6.230566820735914, 9411.562017579192, 782.7966261167369, 0.0010916956475825366, 5261.867502170276, 2460.901369283184, 10.568816672600825, 2.3002557033480664, 7890.878393129466, 15.047123590184956, 12043.549061265901, 0.05226667282157341, 7.190807527434948, 0.646296441549745, 1728.6116059918584, 0.21972002385224304, 1.132939117365174, 12140.093247323468, 11.825106485755565, 10.483644842219546, 310.82153600057984, 2.5654596533904135, 1007.6247052715981, 17262.446495703836, 2069.139375586882, 33.06170861516051, 1992.0885178480971, 17352.321296129892, 1464.416268554519, 0.0008771255229645363, 16514.16111552133, 9523.837210373906, 9556.732648736232, 4801.340414095697, 9449.63188137843, 0.018388410093266624, 0.28503655754480134, 1392.722358913053, 0.019619273351452478, 0.0015380461042814133, 0.5052123880858063, 6643.727221536995, 521.2370408669887, 77.08719158726264, 3533.300019350631, 44.03024579367361, 9.441047677131578e-07, 1858.2542213527115, 18.117141609362168, 2642.1036446755493, 102.41226935850105, 5847.713964057932, 1897.0052028682821, 2449.1088365212177, 0.21788631326599223, 17.361352075903707, 4.5130595612159965e-05, 0.08746614315338652, 0.01067180270777323, 16214.394737553357, 315.45211397120937, 1.7705397511817915, 0.02263119251830027, 9758.210929992836, 9.265285373998427, 0.7644119625578042, 446.49543658524465, 88.32192968901364, 1350.972633084053, 8076.597978889797, 12045.916425411384, 5.986415894617419, 232.25021568749602, 0.050751367394040396, 0.11161533815387753, 2484.413682144233, 7155.2171627849375, 18092.250347905458, 9173.450673671898, 0.05012813271507764, 0.10880158576494363, 1697.0049030330008, 1.0354632363919372, 0.022209928252564723, 10936.86397171922, 8720.218531225748, 0.0025105380212731873, 32.5764319475755, 7486.373514821659, 4718.106151865028, 0.5674021126448884, 0.01067180270777323, 0.005792255982806485, 392.24855758835696, 0.42853154561598605, 3398.9645544853984, 0.055233551912680014, 0.043637008474003286, 3511.1631151390507, 0.33349264328305506, 6.518387833960404, 552.047407945256, 51678.82246665856, 8600.849540265337, 0.00017585374291781148, 0.0075236565940028826, 256.9253227053039, 0.47826645047651023, 2455.1277172098517, 2.7014250907924424, 0.09133038974480481, 0.11851063835835403, 8746.785945015807, 0.08743460988450363, 39282.223649662985, 7348.468723805496, 10355.215564271371, 0.055233551912680014, 2.9127426504973416e-05, 0.16886987136735512, 0.07600687232336346, 0.025290015932654238, 0.5979325520746713, 0.24016269272138926, 2991.436912999289, 274.05554958828264, 30.352264857210596, 10.415093954593752, 4149.506006885425, 60.0197658755814, 0.035127328350869444, 3338.1451153742278, 0.10335149211667574, 0.0025105380212731873, 713.382275947269, 2829.6342505026146, 2985.480679489784, 0.13527008573245902, 1.1009158564907564, 319.3331376828588, 384.45299421946373, 3.0510144358902607, 0.10029609187458677, 1450.8594619783341, 0.0482080546581895, 0.4421342116575625, 0.03872632452803039, 9929.718580923789, 2867.5216802080668, 6.063127500765387, 0.13682211172840306, 0.037594545041850516, 35.94068717784449, 1562.1665945668267, 1868.966937841021, 1575.6707449572305, 8.315478852533465, 0.14536601314844383, 7882.578795170466, 12.612439740375098, 0.007989444928498422, 249.20004864437757, 11998.846277275585, 1941.3692227895003, 81085.74012380716, 132656.13171757208, 0.05661816094077862, 37521.17830489712, 986.4663714725463, 985.1205315165092, 1992.5461972151681, 41.89938322079887, 10.79721229755411, 0.0025105380212731873, 0.17020902768305224, 0.14010862339101482, 15469.494740125727, 0.05710064522291819, 0.4421342116575625, 0.08718195496260518, 0.8377116778075306, 0.27374864978754593, 15087.360301870742, 52.39005311676787, 12012.533789979423, 14.976085225954485, 1984.3184205437171, 1.2902942139324243, 0.0011240652456277487, 0.20186057059178364, 1.4962425771231858, 9513.656233637465, 1743.387351162107, 0.8639004938488014, 7.750033236061179, 382.00306137925486, 9258.90613271553, 258.0278323895928, 34.03021911445824, 10765.220301948762, 0.0326926836221589, 878.802488030018, 24.87960240660702, 21.65600465569905, 4831.180730776283, 9.703932095794081e-05, 0.8390040645890418, 16051.848606704489, 2308.7299810855206, 7.609557204347307, 0.0459656997142396, 2.400161231267675, 0.017561959552406033, 1.522572495640564, 0.22216316147978882, 0.3128041420400186, 1.934227997249353, 1699.582171916066, 1002.6018128251959, 18.022282608571405, 23.17356704671882, 3395.1239577255214, 10.863707132291431, 112.39615384722649, 13.114990463349017, 0.17020902768305224, 4221.08722130573, 126.19942610218449, 3437.492317357075, 12.325472682617113, 12257.274642680111, 0.01067180270777323, 4712.040823236635, 0.5120407549011516, 7172.661708894952, 1577.070097057967, 0.4076461803302343, 0.01606277773443691, 0.15336572202254833, 5.856167194589819e-07, 0.0397184041572139, 195.5491278135649, 20.035214723793874, 323.17320140003756, 553.3706749161099, 2469.4966134236142, 2.412619689836207, 0.04125157851634788, 1532.276736139316, 8790.729501255248, 3567.5079343511993, 0.8797421550389612, 1000.318924748648, 0.0326902374448493, 59.73155251463383, 6687.9571443804825, 1589.6085058294227, 10.74772135575316, 15.037478977044247, 4200.844957423766, 9141.649313547092, 1982.3716215512927, 37.413964847035345, 1164.0464653621964, 7148.574893444235, 249.16847750167904, 2230.031557802037, 1994.806881880733, 0.005762507588710246, 14337.175642867704, 5571.062772933921, 2.059172781098563, 0.012878452296948032, 0.11410458296601303, 92.93805692817632, 2.574815642504875, 1.2002947002389226, 7.2030604456175125, 0.15736738504921788, 7139.032187032235, 186.3425687083235, 15435.767751392264]\n",
      "MeanSquaredError:  2831.7602654660627\n"
     ]
    }
   ],
   "source": [
    "test_prices_predicted = [price_per_cluster[i] for i in model.predict(test)]\n",
    "error = []\n",
    "\n",
    "for index, item in enumerate(test_prices_predicted):\n",
    "    error.append((item - test_prices.iloc[index])**2)\n",
    "\n",
    "print(error)\n",
    "print(\"MeanSquaredError: \", sum(error)/len(error))"
   ],
   "metadata": {
    "collapsed": false,
    "pycharm": {
     "name": "#%%\n"
    }
   }
  },
  {
   "cell_type": "code",
   "execution_count": null,
   "outputs": [],
   "source": [],
   "metadata": {
    "collapsed": false,
    "pycharm": {
     "name": "#%%\n"
    }
   }
  }
 ],
 "metadata": {
  "kernelspec": {
   "display_name": "Python 3",
   "language": "python",
   "name": "python3"
  },
  "language_info": {
   "codemirror_mode": {
    "name": "ipython",
    "version": 2
   },
   "file_extension": ".py",
   "mimetype": "text/x-python",
   "name": "python",
   "nbconvert_exporter": "python",
   "pygments_lexer": "ipython2",
   "version": "2.7.6"
  }
 },
 "nbformat": 4,
 "nbformat_minor": 0
}