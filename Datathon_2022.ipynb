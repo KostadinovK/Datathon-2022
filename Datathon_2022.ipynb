{
 "cells": [
  {
   "cell_type": "code",
   "execution_count": 59,
   "metadata": {
    "collapsed": true
   },
   "outputs": [],
   "source": [
    "import pandas as pd\n",
    "from sklearn.cluster import KMeans\n",
    "from sklearn.cluster import MiniBatchKMeans\n",
    "from sklearn.mixture import GaussianMixture\n",
    "import matplotlib.pyplot as plt\n"
   ]
  },
  {
   "cell_type": "code",
   "execution_count": 3,
   "outputs": [],
   "source": [
    "tokens = pd.read_csv (r'Traits.csv')\n",
    "sales = pd.read_csv (r'Sales.csv')"
   ],
   "metadata": {
    "collapsed": false,
    "pycharm": {
     "name": "#%%\n"
    }
   }
  },
  {
   "cell_type": "code",
   "execution_count": 4,
   "outputs": [
    {
     "data": {
      "text/plain": "        Unnamed: 0      collection  \\\n0                0           azuki   \n1                1           azuki   \n2                2           azuki   \n3                3           azuki   \n4                4           azuki   \n...            ...             ...   \n696003       44435  pudgy_penguins   \n696004       44436  pudgy_penguins   \n696005       44437  pudgy_penguins   \n696006       44438  pudgy_penguins   \n696007       44439  pudgy_penguins   \n\n                                          contract  token_id  \\\n0       0xed5af388653567af2f388e6224dc7c4b3241c544         0   \n1       0xed5af388653567af2f388e6224dc7c4b3241c544         0   \n2       0xed5af388653567af2f388e6224dc7c4b3241c544         0   \n3       0xed5af388653567af2f388e6224dc7c4b3241c544         0   \n4       0xed5af388653567af2f388e6224dc7c4b3241c544         0   \n...                                            ...       ...   \n696003  0xbd3531da5cf5857e7cfaa92426877b022e612cf8      8887   \n696004  0xbd3531da5cf5857e7cfaa92426877b022e612cf8      8887   \n696005  0xbd3531da5cf5857e7cfaa92426877b022e612cf8      8887   \n696006  0xbd3531da5cf5857e7cfaa92426877b022e612cf8      8887   \n696007  0xbd3531da5cf5857e7cfaa92426877b022e612cf8      8887   \n\n                                                  nft_url  trait_type  \\\n0       https://ikzttp.mypinata.cloud/ipfs/QmQFkLSQysj...        Type   \n1       https://ikzttp.mypinata.cloud/ipfs/QmQFkLSQysj...        Hair   \n2       https://ikzttp.mypinata.cloud/ipfs/QmQFkLSQysj...    Clothing   \n3       https://ikzttp.mypinata.cloud/ipfs/QmQFkLSQysj...        Eyes   \n4       https://ikzttp.mypinata.cloud/ipfs/QmQFkLSQysj...       Mouth   \n...                                                   ...         ...   \n696003  https://ipfs.io/ipfs/QmWXJXRdExse2YHRY21Wvh4pj...  Background   \n696004  https://ipfs.io/ipfs/QmWXJXRdExse2YHRY21Wvh4pj...        Skin   \n696005  https://ipfs.io/ipfs/QmWXJXRdExse2YHRY21Wvh4pj...        Body   \n696006  https://ipfs.io/ipfs/QmWXJXRdExse2YHRY21Wvh4pj...        Face   \n696007  https://ipfs.io/ipfs/QmWXJXRdExse2YHRY21Wvh4pj...        Head   \n\n                        value  \n0                       Human  \n1                       Water  \n2       Pink Oversized Kimono  \n3                    Striking  \n4                       Frown  \n...                       ...  \n696003                   Blue  \n696004            Olive Green  \n696005           Puffer Green  \n696006         Handlebar Bear  \n696007           Flat Cap Tan  \n\n[696008 rows x 7 columns]",
      "text/html": "<div>\n<style scoped>\n    .dataframe tbody tr th:only-of-type {\n        vertical-align: middle;\n    }\n\n    .dataframe tbody tr th {\n        vertical-align: top;\n    }\n\n    .dataframe thead th {\n        text-align: right;\n    }\n</style>\n<table border=\"1\" class=\"dataframe\">\n  <thead>\n    <tr style=\"text-align: right;\">\n      <th></th>\n      <th>Unnamed: 0</th>\n      <th>collection</th>\n      <th>contract</th>\n      <th>token_id</th>\n      <th>nft_url</th>\n      <th>trait_type</th>\n      <th>value</th>\n    </tr>\n  </thead>\n  <tbody>\n    <tr>\n      <th>0</th>\n      <td>0</td>\n      <td>azuki</td>\n      <td>0xed5af388653567af2f388e6224dc7c4b3241c544</td>\n      <td>0</td>\n      <td>https://ikzttp.mypinata.cloud/ipfs/QmQFkLSQysj...</td>\n      <td>Type</td>\n      <td>Human</td>\n    </tr>\n    <tr>\n      <th>1</th>\n      <td>1</td>\n      <td>azuki</td>\n      <td>0xed5af388653567af2f388e6224dc7c4b3241c544</td>\n      <td>0</td>\n      <td>https://ikzttp.mypinata.cloud/ipfs/QmQFkLSQysj...</td>\n      <td>Hair</td>\n      <td>Water</td>\n    </tr>\n    <tr>\n      <th>2</th>\n      <td>2</td>\n      <td>azuki</td>\n      <td>0xed5af388653567af2f388e6224dc7c4b3241c544</td>\n      <td>0</td>\n      <td>https://ikzttp.mypinata.cloud/ipfs/QmQFkLSQysj...</td>\n      <td>Clothing</td>\n      <td>Pink Oversized Kimono</td>\n    </tr>\n    <tr>\n      <th>3</th>\n      <td>3</td>\n      <td>azuki</td>\n      <td>0xed5af388653567af2f388e6224dc7c4b3241c544</td>\n      <td>0</td>\n      <td>https://ikzttp.mypinata.cloud/ipfs/QmQFkLSQysj...</td>\n      <td>Eyes</td>\n      <td>Striking</td>\n    </tr>\n    <tr>\n      <th>4</th>\n      <td>4</td>\n      <td>azuki</td>\n      <td>0xed5af388653567af2f388e6224dc7c4b3241c544</td>\n      <td>0</td>\n      <td>https://ikzttp.mypinata.cloud/ipfs/QmQFkLSQysj...</td>\n      <td>Mouth</td>\n      <td>Frown</td>\n    </tr>\n    <tr>\n      <th>...</th>\n      <td>...</td>\n      <td>...</td>\n      <td>...</td>\n      <td>...</td>\n      <td>...</td>\n      <td>...</td>\n      <td>...</td>\n    </tr>\n    <tr>\n      <th>696003</th>\n      <td>44435</td>\n      <td>pudgy_penguins</td>\n      <td>0xbd3531da5cf5857e7cfaa92426877b022e612cf8</td>\n      <td>8887</td>\n      <td>https://ipfs.io/ipfs/QmWXJXRdExse2YHRY21Wvh4pj...</td>\n      <td>Background</td>\n      <td>Blue</td>\n    </tr>\n    <tr>\n      <th>696004</th>\n      <td>44436</td>\n      <td>pudgy_penguins</td>\n      <td>0xbd3531da5cf5857e7cfaa92426877b022e612cf8</td>\n      <td>8887</td>\n      <td>https://ipfs.io/ipfs/QmWXJXRdExse2YHRY21Wvh4pj...</td>\n      <td>Skin</td>\n      <td>Olive Green</td>\n    </tr>\n    <tr>\n      <th>696005</th>\n      <td>44437</td>\n      <td>pudgy_penguins</td>\n      <td>0xbd3531da5cf5857e7cfaa92426877b022e612cf8</td>\n      <td>8887</td>\n      <td>https://ipfs.io/ipfs/QmWXJXRdExse2YHRY21Wvh4pj...</td>\n      <td>Body</td>\n      <td>Puffer Green</td>\n    </tr>\n    <tr>\n      <th>696006</th>\n      <td>44438</td>\n      <td>pudgy_penguins</td>\n      <td>0xbd3531da5cf5857e7cfaa92426877b022e612cf8</td>\n      <td>8887</td>\n      <td>https://ipfs.io/ipfs/QmWXJXRdExse2YHRY21Wvh4pj...</td>\n      <td>Face</td>\n      <td>Handlebar Bear</td>\n    </tr>\n    <tr>\n      <th>696007</th>\n      <td>44439</td>\n      <td>pudgy_penguins</td>\n      <td>0xbd3531da5cf5857e7cfaa92426877b022e612cf8</td>\n      <td>8887</td>\n      <td>https://ipfs.io/ipfs/QmWXJXRdExse2YHRY21Wvh4pj...</td>\n      <td>Head</td>\n      <td>Flat Cap Tan</td>\n    </tr>\n  </tbody>\n</table>\n<p>696008 rows × 7 columns</p>\n</div>"
     },
     "execution_count": 4,
     "metadata": {},
     "output_type": "execute_result"
    }
   ],
   "source": [
    "tokens"
   ],
   "metadata": {
    "collapsed": false,
    "pycharm": {
     "name": "#%%\n"
    }
   }
  },
  {
   "cell_type": "code",
   "execution_count": 5,
   "outputs": [
    {
     "name": "stdout",
     "output_type": "stream",
     "text": [
      "[    0     1     2 ... 19997 19999 20000]\n",
      "collection\n",
      "BAYC              10000\n",
      "MAYC              18502\n",
      "azuki             10000\n",
      "clone_x           18895\n",
      "cool_cats          9933\n",
      "doodles           10000\n",
      "meebits           20000\n",
      "pudgy_penguins     8888\n",
      "Name: token_id, dtype: int64\n"
     ]
    }
   ],
   "source": [
    "print(pd.unique(tokens['token_id']))\n",
    "print(tokens.groupby('collection')['token_id'].nunique())"
   ],
   "metadata": {
    "collapsed": false,
    "pycharm": {
     "name": "#%%\n"
    }
   }
  },
  {
   "cell_type": "code",
   "execution_count": 6,
   "outputs": [],
   "source": [
    "grouped = tokens.groupby('collection')\n",
    "bayc = grouped.get_group('BAYC')\n",
    "mayc = grouped.get_group('MAYC')\n",
    "azuki = grouped.get_group('azuki')\n",
    "clone_x = grouped.get_group('clone_x')\n",
    "cool_cats = grouped.get_group('cool_cats')\n",
    "doodles = grouped.get_group('doodles')\n",
    "meebits = grouped.get_group('meebits')\n",
    "pudgy_penguins = grouped.get_group('pudgy_penguins')"
   ],
   "metadata": {
    "collapsed": false,
    "pycharm": {
     "name": "#%%\n"
    }
   }
  },
  {
   "cell_type": "code",
   "execution_count": 7,
   "outputs": [
    {
     "name": "stdout",
     "output_type": "stream",
     "text": [
      "trait_type\n",
      "Background    10000\n",
      "Clothes        8114\n",
      "Earring        2977\n",
      "Eyes          10000\n",
      "Fur           10000\n",
      "Hat            7744\n",
      "Mouth         10000\n",
      "Name: token_id, dtype: int64\n",
      "trait_type\n",
      "Background     8\n",
      "Clothes       43\n",
      "Earring        6\n",
      "Eyes          23\n",
      "Fur           19\n",
      "Hat           36\n",
      "Mouth         33\n",
      "Name: value, dtype: int64\n",
      "['Orange' 'Aquamarine' 'Purple' 'Blue' 'Army Green' 'Yellow' 'Gray'\n",
      " 'New Punk Blue']\n",
      "Purple           0.1291\n",
      "Yellow           0.1283\n",
      "Orange           0.1273\n",
      "Aquamarine       0.1266\n",
      "Army Green       0.1243\n",
      "Blue             0.1242\n",
      "New Punk Blue    0.1232\n",
      "Gray             0.1170\n",
      "Name: value, dtype: float64\n"
     ]
    }
   ],
   "source": [
    "bayc\n",
    "print(bayc.groupby('trait_type')['token_id'].nunique())\n",
    "print(bayc.groupby('trait_type')['value'].nunique())\n",
    "print(pd.unique(bayc.groupby('trait_type').get_group('Background')['value']))\n",
    "print(bayc.groupby('trait_type').get_group('Background')['value'].value_counts()/10000)"
   ],
   "metadata": {
    "collapsed": false,
    "pycharm": {
     "name": "#%%\n"
    }
   }
  },
  {
   "cell_type": "code",
   "execution_count": 8,
   "outputs": [
    {
     "data": {
      "text/plain": "        blockNumber   timeStamp  \\\n0          13988541  1641961048   \n41274      12292922  1619133220   \n41760      12344148  1619817106   \n104449     13117215  1630197658   \n296448     13449414  1634663005   \n326926     14312286  1646287360   \n344365     12755983  1625333674   \n378259     13911124  1640926643   \n\n                                                     hash  \\\n0       0xc208fdb2f133bda64522fececd6518a565aaa6e8801b...   \n41274   0xcfb197f62ec5c7f0e71a11ec0c4a0e394a3aa41db538...   \n41760   0x8a65c8db391825872ba66a06352cc62ac414ceb6e37b...   \n104449  0x612a5190e324f5455432af3aa2c97e9d35f036929263...   \n296448  0x663e8b5d7bd8871fba2b1fc969de039c0169e6e29222...   \n326926  0x05cf0366a09c22cd845dcf673a99bb8d7ecdfceb796e...   \n344365  0x9b4c1a1e0e72d41b85c2fec185433f95b63fa27178c8...   \n378259  0x6fc306f30007dc1c78141c27a7a8dbe7919814866c90...   \n\n                                              from  \\\n0       0x0000000000000000000000000000000000000000   \n41274   0x0000000000000000000000000000000000000000   \n41760   0xaba7161a7fb69c88e16ed9f455ce62b791ee4d03   \n104449  0x0000000000000000000000000000000000000000   \n296448  0xeff53613068a15a6845943e447fca03936c283c8   \n326926  0xad097fdcd58535250c59807d6683e0a6b688d6cc   \n344365  0xfc86a64a8de22cf25410f7601acbd8d6630da93d   \n378259  0x98bb3a3921200017ebd0af803aeddd464e70e791   \n\n                                   contractAddress  \\\n0       0xed5af388653567af2f388e6224dc7c4b3241c544   \n41274   0xbc4ca0eda7647a8ab7c2061c2e118a18a936f13d   \n41760   0xbc4ca0eda7647a8ab7c2061c2e118a18a936f13d   \n104449  0x60e4d786628fea6478f785a6d7e704777c86a7c6   \n296448  0x8a90cab2b38dba80c64b7734e58ee1db38b8992e   \n326926  0x8a90cab2b38dba80c64b7734e58ee1db38b8992e   \n344365  0x1a92f7381b9f03921564a437210bb9396471050c   \n378259  0x1a92f7381b9f03921564a437210bb9396471050c   \n\n                                                to  tokenID  \\\n0       0xd45058bf25bbd8f586124c479d384c8c708ce23a        0   \n41274   0xaba7161a7fb69c88e16ed9f455ce62b791ee4d03        0   \n41760   0xf7801b8115f3fe46ac55f8c0fdb5243726bdb66a        0   \n104449  0x9056d15c49b19df52ffad1e6c11627f035c0c960        0   \n296448  0xad097fdcd58535250c59807d6683e0a6b688d6cc        0   \n326926  0x620b70123fb810f6c653da7644b5dd0b6312e4d8        0   \n344365  0x98bb3a3921200017ebd0af803aeddd464e70e791        0   \n378259  0xd9463b55af194d4fa22a532a52f5bdd45b66d290        0   \n\n                 tokenName tokenSymbol      gasPrice currency     amount  \\\n0                    Azuki       AZUKI  144500135604      ETH   0.000000   \n41274    BoredApeYachtClub        BAYC   88000000000      ETH   0.000000   \n41760    BoredApeYachtClub        BAYC   46000000000      ETH   0.000000   \n104449  MutantApeYachtClub        MAYC   51851145919      ETH   2.999444   \n296448             Doodles      DOODLE  111000000000      ETH  10.000000   \n326926             Doodles      DOODLE   47742340029      ETH   0.000000   \n344365           Cool Cats        COOL   13000000000      ETH   0.000000   \n378259           Cool Cats        COOL  113793925785      ETH   0.000000   \n\n           amountUsd  \n0           0.000000  \n41274       0.000000  \n41760       0.000000  \n104449   9779.687491  \n296448  38090.531279  \n326926      0.000000  \n344365      0.000000  \n378259      0.000000  ",
      "text/html": "<div>\n<style scoped>\n    .dataframe tbody tr th:only-of-type {\n        vertical-align: middle;\n    }\n\n    .dataframe tbody tr th {\n        vertical-align: top;\n    }\n\n    .dataframe thead th {\n        text-align: right;\n    }\n</style>\n<table border=\"1\" class=\"dataframe\">\n  <thead>\n    <tr style=\"text-align: right;\">\n      <th></th>\n      <th>blockNumber</th>\n      <th>timeStamp</th>\n      <th>hash</th>\n      <th>from</th>\n      <th>contractAddress</th>\n      <th>to</th>\n      <th>tokenID</th>\n      <th>tokenName</th>\n      <th>tokenSymbol</th>\n      <th>gasPrice</th>\n      <th>currency</th>\n      <th>amount</th>\n      <th>amountUsd</th>\n    </tr>\n  </thead>\n  <tbody>\n    <tr>\n      <th>0</th>\n      <td>13988541</td>\n      <td>1641961048</td>\n      <td>0xc208fdb2f133bda64522fececd6518a565aaa6e8801b...</td>\n      <td>0x0000000000000000000000000000000000000000</td>\n      <td>0xed5af388653567af2f388e6224dc7c4b3241c544</td>\n      <td>0xd45058bf25bbd8f586124c479d384c8c708ce23a</td>\n      <td>0</td>\n      <td>Azuki</td>\n      <td>AZUKI</td>\n      <td>144500135604</td>\n      <td>ETH</td>\n      <td>0.000000</td>\n      <td>0.000000</td>\n    </tr>\n    <tr>\n      <th>41274</th>\n      <td>12292922</td>\n      <td>1619133220</td>\n      <td>0xcfb197f62ec5c7f0e71a11ec0c4a0e394a3aa41db538...</td>\n      <td>0x0000000000000000000000000000000000000000</td>\n      <td>0xbc4ca0eda7647a8ab7c2061c2e118a18a936f13d</td>\n      <td>0xaba7161a7fb69c88e16ed9f455ce62b791ee4d03</td>\n      <td>0</td>\n      <td>BoredApeYachtClub</td>\n      <td>BAYC</td>\n      <td>88000000000</td>\n      <td>ETH</td>\n      <td>0.000000</td>\n      <td>0.000000</td>\n    </tr>\n    <tr>\n      <th>41760</th>\n      <td>12344148</td>\n      <td>1619817106</td>\n      <td>0x8a65c8db391825872ba66a06352cc62ac414ceb6e37b...</td>\n      <td>0xaba7161a7fb69c88e16ed9f455ce62b791ee4d03</td>\n      <td>0xbc4ca0eda7647a8ab7c2061c2e118a18a936f13d</td>\n      <td>0xf7801b8115f3fe46ac55f8c0fdb5243726bdb66a</td>\n      <td>0</td>\n      <td>BoredApeYachtClub</td>\n      <td>BAYC</td>\n      <td>46000000000</td>\n      <td>ETH</td>\n      <td>0.000000</td>\n      <td>0.000000</td>\n    </tr>\n    <tr>\n      <th>104449</th>\n      <td>13117215</td>\n      <td>1630197658</td>\n      <td>0x612a5190e324f5455432af3aa2c97e9d35f036929263...</td>\n      <td>0x0000000000000000000000000000000000000000</td>\n      <td>0x60e4d786628fea6478f785a6d7e704777c86a7c6</td>\n      <td>0x9056d15c49b19df52ffad1e6c11627f035c0c960</td>\n      <td>0</td>\n      <td>MutantApeYachtClub</td>\n      <td>MAYC</td>\n      <td>51851145919</td>\n      <td>ETH</td>\n      <td>2.999444</td>\n      <td>9779.687491</td>\n    </tr>\n    <tr>\n      <th>296448</th>\n      <td>13449414</td>\n      <td>1634663005</td>\n      <td>0x663e8b5d7bd8871fba2b1fc969de039c0169e6e29222...</td>\n      <td>0xeff53613068a15a6845943e447fca03936c283c8</td>\n      <td>0x8a90cab2b38dba80c64b7734e58ee1db38b8992e</td>\n      <td>0xad097fdcd58535250c59807d6683e0a6b688d6cc</td>\n      <td>0</td>\n      <td>Doodles</td>\n      <td>DOODLE</td>\n      <td>111000000000</td>\n      <td>ETH</td>\n      <td>10.000000</td>\n      <td>38090.531279</td>\n    </tr>\n    <tr>\n      <th>326926</th>\n      <td>14312286</td>\n      <td>1646287360</td>\n      <td>0x05cf0366a09c22cd845dcf673a99bb8d7ecdfceb796e...</td>\n      <td>0xad097fdcd58535250c59807d6683e0a6b688d6cc</td>\n      <td>0x8a90cab2b38dba80c64b7734e58ee1db38b8992e</td>\n      <td>0x620b70123fb810f6c653da7644b5dd0b6312e4d8</td>\n      <td>0</td>\n      <td>Doodles</td>\n      <td>DOODLE</td>\n      <td>47742340029</td>\n      <td>ETH</td>\n      <td>0.000000</td>\n      <td>0.000000</td>\n    </tr>\n    <tr>\n      <th>344365</th>\n      <td>12755983</td>\n      <td>1625333674</td>\n      <td>0x9b4c1a1e0e72d41b85c2fec185433f95b63fa27178c8...</td>\n      <td>0xfc86a64a8de22cf25410f7601acbd8d6630da93d</td>\n      <td>0x1a92f7381b9f03921564a437210bb9396471050c</td>\n      <td>0x98bb3a3921200017ebd0af803aeddd464e70e791</td>\n      <td>0</td>\n      <td>Cool Cats</td>\n      <td>COOL</td>\n      <td>13000000000</td>\n      <td>ETH</td>\n      <td>0.000000</td>\n      <td>0.000000</td>\n    </tr>\n    <tr>\n      <th>378259</th>\n      <td>13911124</td>\n      <td>1640926643</td>\n      <td>0x6fc306f30007dc1c78141c27a7a8dbe7919814866c90...</td>\n      <td>0x98bb3a3921200017ebd0af803aeddd464e70e791</td>\n      <td>0x1a92f7381b9f03921564a437210bb9396471050c</td>\n      <td>0xd9463b55af194d4fa22a532a52f5bdd45b66d290</td>\n      <td>0</td>\n      <td>Cool Cats</td>\n      <td>COOL</td>\n      <td>113793925785</td>\n      <td>ETH</td>\n      <td>0.000000</td>\n      <td>0.000000</td>\n    </tr>\n  </tbody>\n</table>\n</div>"
     },
     "execution_count": 8,
     "metadata": {},
     "output_type": "execute_result"
    }
   ],
   "source": [
    "sales[sales['tokenID'] == 0]"
   ],
   "metadata": {
    "collapsed": false,
    "pycharm": {
     "name": "#%%\n"
    }
   }
  },
  {
   "cell_type": "code",
   "execution_count": 9,
   "outputs": [
    {
     "name": "stdout",
     "output_type": "stream",
     "text": [
      "tokenName\n",
      "Azuki                 10000\n",
      "BoredApeYachtClub     10000\n",
      "CloneX                18554\n",
      "Cool Cats              9938\n",
      "Doodles                9784\n",
      "Meebits               19999\n",
      "MutantApeYachtClub    17990\n",
      "PudgyPenguins          8887\n",
      "Name: tokenID, dtype: int64\n"
     ]
    }
   ],
   "source": [
    "print(sales.groupby('tokenName')['tokenID'].nunique())"
   ],
   "metadata": {
    "collapsed": false,
    "pycharm": {
     "name": "#%%\n"
    }
   }
  },
  {
   "cell_type": "code",
   "execution_count": 10,
   "outputs": [
    {
     "name": "stdout",
     "output_type": "stream",
     "text": [
      "<pandas.core.groupby.generic.DataFrameGroupBy object at 0x0000025337C345E0>\n"
     ]
    }
   ],
   "source": [
    "bayc_features = bayc.groupby('token_id')#.filter('trait_type')\n",
    "print(bayc_features)"
   ],
   "metadata": {
    "collapsed": false,
    "pycharm": {
     "name": "#%%\n"
    }
   }
  },
  {
   "cell_type": "code",
   "execution_count": 42,
   "outputs": [],
   "source": [
    "def get_features(df):\n",
    "    \"\"\"\n",
    "    :param df: dataframe to have features extracted\n",
    "    :return: dataframe with rows of token id and columns of features\n",
    "    \"\"\"\n",
    "    columns = {}\n",
    "\n",
    "    for trait in df['trait_type'].unique():\n",
    "        columns[trait] = ['None' for i in range(df.token_id.nunique())]\n",
    "\n",
    "    for id in df['token_id'].unique():\n",
    "        for _, row in df[df.token_id == id].iterrows():\n",
    "                columns[row.trait_type][id] = row.value\n",
    "    #%%\n",
    "\n",
    "    return pd.DataFrame(columns)"
   ],
   "metadata": {
    "collapsed": false,
    "pycharm": {
     "name": "#%%\n"
    }
   }
  },
  {
   "cell_type": "code",
   "execution_count": 43,
   "outputs": [
    {
     "name": "stdout",
     "output_type": "stream",
     "text": [
      "          Earring     Background           Fur           Clothes  \\\n",
      "0     Silver Hoop         Orange         Robot       Striped Tee   \n",
      "1            None         Orange         Robot    Vietnam Jacket   \n",
      "2            None     Aquamarine         Robot              None   \n",
      "3            None         Purple       Cheetah     Bone Necklace   \n",
      "4            None           Blue  Golden Brown  Navy Striped Tee   \n",
      "...           ...            ...           ...               ...   \n",
      "9995         None           Gray          Pink    Smoking Jacket   \n",
      "9996  Silver Hoop  New Punk Blue    Dark Brown         Guayabera   \n",
      "9997         None         Purple         Black      Sailor Shirt   \n",
      "9998         None         Yellow         Brown        Bayc T Red   \n",
      "9999    Gold Hoop         Purple          Gray              None   \n",
      "\n",
      "                         Mouth        Eyes                Hat  \n",
      "0                   Discomfort      X Eyes               None  \n",
      "1                         Grin  Blue Beams               None  \n",
      "2              Bored Cigarette          3d  Sea Captain's Hat  \n",
      "3                   Tongue Out       Bored               None  \n",
      "4                    Phoneme L      Closed        Party Hat 2  \n",
      "...                        ...         ...                ...  \n",
      "9995                     Bored      Closed               None  \n",
      "9996               Dumbfounded          3d               None  \n",
      "9997         Grin Multicolored       Bored               Halo  \n",
      "9998  Bored Unshaven Cigarette       Heart               None  \n",
      "9999            Bored Unshaven     Scumbag           Army Hat  \n",
      "\n",
      "[10000 rows x 7 columns]\n"
     ]
    },
    {
     "data": {
      "text/plain": "       Earring_Cross  Earring_Diamond Stud  Earring_Gold Hoop  \\\ncount   10000.000000          10000.000000       10000.000000   \nmean        0.014900              0.022200           0.046200   \nstd         0.121159              0.147341           0.209928   \nmin         0.000000              0.000000           0.000000   \n25%         0.000000              0.000000           0.000000   \n50%         0.000000              0.000000           0.000000   \n75%         0.000000              0.000000           0.000000   \nmax         1.000000              1.000000           1.000000   \n\n       Earring_Gold Stud  Earring_None  Earring_Silver Hoop  \\\ncount       10000.000000   10000.00000           10000.0000   \nmean            0.043900       0.70230               0.0882   \nstd             0.204883       0.45727               0.2836   \nmin             0.000000       0.00000               0.0000   \n25%             0.000000       0.00000               0.0000   \n50%             0.000000       1.00000               0.0000   \n75%             0.000000       1.00000               0.0000   \nmax             1.000000       1.00000               1.0000   \n\n       Earring_Silver Stud  Background_Aquamarine  Background_Army Green  \\\ncount         10000.000000           10000.000000            10000.00000   \nmean              0.082300               0.126600                0.12430   \nstd               0.274835               0.332541                0.32994   \nmin               0.000000               0.000000                0.00000   \n25%               0.000000               0.000000                0.00000   \n50%               0.000000               0.000000                0.00000   \n75%               0.000000               0.000000                0.00000   \nmax               1.000000               1.000000                1.00000   \n\n       Background_Blue  ...    Hat_Safari  Hat_Sea Captain's Hat  \\\ncount     10000.000000  ...  10000.000000           10000.000000   \nmean          0.124200  ...      0.018200               0.030400   \nstd           0.329826  ...      0.133681               0.171694   \nmin           0.000000  ...      0.000000               0.000000   \n25%           0.000000  ...      0.000000               0.000000   \n50%           0.000000  ...      0.000000               0.000000   \n75%           0.000000  ...      0.000000               0.000000   \nmax           1.000000  ...      1.000000               1.000000   \n\n       Hat_Seaman's Hat  Hat_Short Mohawk  Hat_Spinner Hat  \\\ncount      10000.000000      10000.000000      10000.00000   \nmean           0.042000          0.031800          0.01810   \nstd            0.200599          0.175476          0.13332   \nmin            0.000000          0.000000          0.00000   \n25%            0.000000          0.000000          0.00000   \n50%            0.000000          0.000000          0.00000   \n75%            0.000000          0.000000          0.00000   \nmax            1.000000          1.000000          1.00000   \n\n       Hat_Stuntman Helmet  Hat_Sushi Chef Headband  Hat_Trippy Captain's Hat  \\\ncount         10000.000000              10000.00000              10000.000000   \nmean              0.015700                  0.01870                  0.006500   \nstd               0.124318                  0.13547                  0.080364   \nmin               0.000000                  0.00000                  0.000000   \n25%               0.000000                  0.00000                  0.000000   \n50%               0.000000                  0.00000                  0.000000   \n75%               0.000000                  0.00000                  0.000000   \nmax               1.000000                  1.00000                  1.000000   \n\n       Hat_Vietnam Era Helmet  Hat_Ww2 Pilot Helm  \ncount            10000.000000        10000.000000  \nmean                 0.022300            0.011000  \nstd                  0.147665            0.104308  \nmin                  0.000000            0.000000  \n25%                  0.000000            0.000000  \n50%                  0.000000            0.000000  \n75%                  0.000000            0.000000  \nmax                  1.000000            1.000000  \n\n[8 rows x 171 columns]",
      "text/html": "<div>\n<style scoped>\n    .dataframe tbody tr th:only-of-type {\n        vertical-align: middle;\n    }\n\n    .dataframe tbody tr th {\n        vertical-align: top;\n    }\n\n    .dataframe thead th {\n        text-align: right;\n    }\n</style>\n<table border=\"1\" class=\"dataframe\">\n  <thead>\n    <tr style=\"text-align: right;\">\n      <th></th>\n      <th>Earring_Cross</th>\n      <th>Earring_Diamond Stud</th>\n      <th>Earring_Gold Hoop</th>\n      <th>Earring_Gold Stud</th>\n      <th>Earring_None</th>\n      <th>Earring_Silver Hoop</th>\n      <th>Earring_Silver Stud</th>\n      <th>Background_Aquamarine</th>\n      <th>Background_Army Green</th>\n      <th>Background_Blue</th>\n      <th>...</th>\n      <th>Hat_Safari</th>\n      <th>Hat_Sea Captain's Hat</th>\n      <th>Hat_Seaman's Hat</th>\n      <th>Hat_Short Mohawk</th>\n      <th>Hat_Spinner Hat</th>\n      <th>Hat_Stuntman Helmet</th>\n      <th>Hat_Sushi Chef Headband</th>\n      <th>Hat_Trippy Captain's Hat</th>\n      <th>Hat_Vietnam Era Helmet</th>\n      <th>Hat_Ww2 Pilot Helm</th>\n    </tr>\n  </thead>\n  <tbody>\n    <tr>\n      <th>count</th>\n      <td>10000.000000</td>\n      <td>10000.000000</td>\n      <td>10000.000000</td>\n      <td>10000.000000</td>\n      <td>10000.00000</td>\n      <td>10000.0000</td>\n      <td>10000.000000</td>\n      <td>10000.000000</td>\n      <td>10000.00000</td>\n      <td>10000.000000</td>\n      <td>...</td>\n      <td>10000.000000</td>\n      <td>10000.000000</td>\n      <td>10000.000000</td>\n      <td>10000.000000</td>\n      <td>10000.00000</td>\n      <td>10000.000000</td>\n      <td>10000.00000</td>\n      <td>10000.000000</td>\n      <td>10000.000000</td>\n      <td>10000.000000</td>\n    </tr>\n    <tr>\n      <th>mean</th>\n      <td>0.014900</td>\n      <td>0.022200</td>\n      <td>0.046200</td>\n      <td>0.043900</td>\n      <td>0.70230</td>\n      <td>0.0882</td>\n      <td>0.082300</td>\n      <td>0.126600</td>\n      <td>0.12430</td>\n      <td>0.124200</td>\n      <td>...</td>\n      <td>0.018200</td>\n      <td>0.030400</td>\n      <td>0.042000</td>\n      <td>0.031800</td>\n      <td>0.01810</td>\n      <td>0.015700</td>\n      <td>0.01870</td>\n      <td>0.006500</td>\n      <td>0.022300</td>\n      <td>0.011000</td>\n    </tr>\n    <tr>\n      <th>std</th>\n      <td>0.121159</td>\n      <td>0.147341</td>\n      <td>0.209928</td>\n      <td>0.204883</td>\n      <td>0.45727</td>\n      <td>0.2836</td>\n      <td>0.274835</td>\n      <td>0.332541</td>\n      <td>0.32994</td>\n      <td>0.329826</td>\n      <td>...</td>\n      <td>0.133681</td>\n      <td>0.171694</td>\n      <td>0.200599</td>\n      <td>0.175476</td>\n      <td>0.13332</td>\n      <td>0.124318</td>\n      <td>0.13547</td>\n      <td>0.080364</td>\n      <td>0.147665</td>\n      <td>0.104308</td>\n    </tr>\n    <tr>\n      <th>min</th>\n      <td>0.000000</td>\n      <td>0.000000</td>\n      <td>0.000000</td>\n      <td>0.000000</td>\n      <td>0.00000</td>\n      <td>0.0000</td>\n      <td>0.000000</td>\n      <td>0.000000</td>\n      <td>0.00000</td>\n      <td>0.000000</td>\n      <td>...</td>\n      <td>0.000000</td>\n      <td>0.000000</td>\n      <td>0.000000</td>\n      <td>0.000000</td>\n      <td>0.00000</td>\n      <td>0.000000</td>\n      <td>0.00000</td>\n      <td>0.000000</td>\n      <td>0.000000</td>\n      <td>0.000000</td>\n    </tr>\n    <tr>\n      <th>25%</th>\n      <td>0.000000</td>\n      <td>0.000000</td>\n      <td>0.000000</td>\n      <td>0.000000</td>\n      <td>0.00000</td>\n      <td>0.0000</td>\n      <td>0.000000</td>\n      <td>0.000000</td>\n      <td>0.00000</td>\n      <td>0.000000</td>\n      <td>...</td>\n      <td>0.000000</td>\n      <td>0.000000</td>\n      <td>0.000000</td>\n      <td>0.000000</td>\n      <td>0.00000</td>\n      <td>0.000000</td>\n      <td>0.00000</td>\n      <td>0.000000</td>\n      <td>0.000000</td>\n      <td>0.000000</td>\n    </tr>\n    <tr>\n      <th>50%</th>\n      <td>0.000000</td>\n      <td>0.000000</td>\n      <td>0.000000</td>\n      <td>0.000000</td>\n      <td>1.00000</td>\n      <td>0.0000</td>\n      <td>0.000000</td>\n      <td>0.000000</td>\n      <td>0.00000</td>\n      <td>0.000000</td>\n      <td>...</td>\n      <td>0.000000</td>\n      <td>0.000000</td>\n      <td>0.000000</td>\n      <td>0.000000</td>\n      <td>0.00000</td>\n      <td>0.000000</td>\n      <td>0.00000</td>\n      <td>0.000000</td>\n      <td>0.000000</td>\n      <td>0.000000</td>\n    </tr>\n    <tr>\n      <th>75%</th>\n      <td>0.000000</td>\n      <td>0.000000</td>\n      <td>0.000000</td>\n      <td>0.000000</td>\n      <td>1.00000</td>\n      <td>0.0000</td>\n      <td>0.000000</td>\n      <td>0.000000</td>\n      <td>0.00000</td>\n      <td>0.000000</td>\n      <td>...</td>\n      <td>0.000000</td>\n      <td>0.000000</td>\n      <td>0.000000</td>\n      <td>0.000000</td>\n      <td>0.00000</td>\n      <td>0.000000</td>\n      <td>0.00000</td>\n      <td>0.000000</td>\n      <td>0.000000</td>\n      <td>0.000000</td>\n    </tr>\n    <tr>\n      <th>max</th>\n      <td>1.000000</td>\n      <td>1.000000</td>\n      <td>1.000000</td>\n      <td>1.000000</td>\n      <td>1.00000</td>\n      <td>1.0000</td>\n      <td>1.000000</td>\n      <td>1.000000</td>\n      <td>1.00000</td>\n      <td>1.000000</td>\n      <td>...</td>\n      <td>1.000000</td>\n      <td>1.000000</td>\n      <td>1.000000</td>\n      <td>1.000000</td>\n      <td>1.00000</td>\n      <td>1.000000</td>\n      <td>1.00000</td>\n      <td>1.000000</td>\n      <td>1.000000</td>\n      <td>1.000000</td>\n    </tr>\n  </tbody>\n</table>\n<p>8 rows × 171 columns</p>\n</div>"
     },
     "execution_count": 43,
     "metadata": {},
     "output_type": "execute_result"
    }
   ],
   "source": [
    "bayc_features = get_features(bayc)\n",
    "print(bayc_features)\n",
    "pd.get_dummies(bayc_features).describe()"
   ],
   "metadata": {
    "collapsed": false,
    "pycharm": {
     "name": "#%%\n"
    }
   }
  },
  {
   "cell_type": "code",
   "execution_count": 81,
   "outputs": [],
   "source": [
    "one_hot_bayc = pd.get_dummies(bayc_features)\n",
    "def gmm(one_hot_bayc=one_hot_bayc):\n",
    "    Sum_of_squared_distances = []\n",
    "    for k in range (1, 100, 10):\n",
    "        gmm = GaussianMixture(k).fit(pd.get_dummies(bayc_features))\n",
    "        Sum_of_squared_distances.append(gmm.precisions_)\n",
    "        print('Progresss: ', k, \"%\")\n",
    "    plt.plot(range (1, 100, 10), Sum_of_squared_distances, 'bx-')\n",
    "    plt.xlabel('k')\n",
    "    plt.ylabel('Precision')\n",
    "    plt.title('Elbow Method For Optimal k')\n",
    "    plt.savefig('gmm.png')\n",
    "    plt.show()\n",
    "\n",
    "def kmeans(one_hot_bayc=one_hot_bayc):\n",
    "    Sum_of_squared_distances = []\n",
    "    for k in range (1, 1000, 100):\n",
    "        kmeans = MiniBatchKMeans(n_clusters=k, batch_size=2048).fit(one_hot_bayc)\n",
    "        Sum_of_squared_distances.append(kmeans.inertia_)\n",
    "    # gmm = GaussianMixture(100).fit(pd.get_dummies(bayc_features))\n",
    "    plt.plot(range (1, 1000, 100), Sum_of_squared_distances, 'bx-')\n",
    "    plt.xlabel('k')\n",
    "    plt.ylabel('Sum_of_squared_distances')\n",
    "    plt.title('Elbow Method For Optimal k')\n",
    "    plt.savefig('kmeans.png')\n",
    "    plt.show()"
   ],
   "metadata": {
    "collapsed": false,
    "pycharm": {
     "name": "#%%\n"
    }
   }
  },
  {
   "cell_type": "code",
   "execution_count": 66,
   "outputs": [
    {
     "data": {
      "text/plain": "<Figure size 432x288 with 1 Axes>",
      "image/png": "[encoded data removed]"
     },
     "metadata": {
      "needs_background": "light"
     },
     "output_type": "display_data"
    }
   ],
   "source": [
    "kmeans()"
   ],
   "metadata": {
    "collapsed": false,
    "pycharm": {
     "name": "#%%\n"
    }
   }
  },
  {
   "cell_type": "code",
   "execution_count": null,
   "outputs": [
    {
     "name": "stdout",
     "output_type": "stream",
     "text": [
      "Progresss:  1 %\n",
      "Progresss:  11 %\n"
     ]
    }
   ],
   "source": [
    "gmm()"
   ],
   "metadata": {
    "collapsed": false,
    "pycharm": {
     "name": "#%%\n",
     "is_executing": true
    }
   }
  },
  {
   "cell_type": "code",
   "execution_count": 79,
   "outputs": [
    {
     "ename": "ValueError",
     "evalue": "x and y must have same first dimension, but have shapes (20,) and (10,)",
     "output_type": "error",
     "traceback": [
      "\u001B[1;31m---------------------------------------------------------------------------\u001B[0m",
      "\u001B[1;31mValueError\u001B[0m                                Traceback (most recent call last)",
      "\u001B[1;32mC:\\Users\\IVANIV~1\\AppData\\Local\\Temp/ipykernel_17584/3595663050.py\u001B[0m in \u001B[0;36m<module>\u001B[1;34m\u001B[0m\n\u001B[0;32m      1\u001B[0m \u001B[0mSum_of_squared_distances\u001B[0m \u001B[1;33m=\u001B[0m \u001B[1;33m[\u001B[0m\u001B[1;36m59870.837107238796\u001B[0m\u001B[1;33m,\u001B[0m \u001B[1;36m42816.165200366\u001B[0m\u001B[1;33m,\u001B[0m \u001B[1;36m40363.191576060046\u001B[0m\u001B[1;33m,\u001B[0m \u001B[1;36m38967.09418185946\u001B[0m\u001B[1;33m,\u001B[0m \u001B[1;36m38320.23725858088\u001B[0m\u001B[1;33m,\u001B[0m \u001B[1;36m37043.07821201664\u001B[0m\u001B[1;33m,\u001B[0m \u001B[1;36m36219.8331295975\u001B[0m\u001B[1;33m,\u001B[0m \u001B[1;36m35728.8078883875\u001B[0m\u001B[1;33m,\u001B[0m \u001B[1;36m34784.69177862327\u001B[0m\u001B[1;33m,\u001B[0m \u001B[1;36m34234.545065988255\u001B[0m\u001B[1;33m]\u001B[0m\u001B[1;33m\u001B[0m\u001B[1;33m\u001B[0m\u001B[0m\n\u001B[1;32m----> 2\u001B[1;33m \u001B[0mplt\u001B[0m\u001B[1;33m.\u001B[0m\u001B[0mplot\u001B[0m\u001B[1;33m(\u001B[0m\u001B[0mrange\u001B[0m \u001B[1;33m(\u001B[0m\u001B[1;36m1\u001B[0m\u001B[1;33m,\u001B[0m \u001B[1;36m200\u001B[0m\u001B[1;33m,\u001B[0m \u001B[1;36m10\u001B[0m\u001B[1;33m)\u001B[0m\u001B[1;33m,\u001B[0m \u001B[0mSum_of_squared_distances\u001B[0m\u001B[1;33m,\u001B[0m \u001B[1;34m'bx-'\u001B[0m\u001B[1;33m)\u001B[0m\u001B[1;33m\u001B[0m\u001B[1;33m\u001B[0m\u001B[0m\n\u001B[0m\u001B[0;32m      3\u001B[0m \u001B[0mplt\u001B[0m\u001B[1;33m.\u001B[0m\u001B[0mxlabel\u001B[0m\u001B[1;33m(\u001B[0m\u001B[1;34m'k'\u001B[0m\u001B[1;33m)\u001B[0m\u001B[1;33m\u001B[0m\u001B[1;33m\u001B[0m\u001B[0m\n\u001B[0;32m      4\u001B[0m \u001B[0mplt\u001B[0m\u001B[1;33m.\u001B[0m\u001B[0mylabel\u001B[0m\u001B[1;33m(\u001B[0m\u001B[1;34m'Precision'\u001B[0m\u001B[1;33m)\u001B[0m\u001B[1;33m\u001B[0m\u001B[1;33m\u001B[0m\u001B[0m\n\u001B[0;32m      5\u001B[0m \u001B[0mplt\u001B[0m\u001B[1;33m.\u001B[0m\u001B[0mtitle\u001B[0m\u001B[1;33m(\u001B[0m\u001B[1;34m'Elbow Method For Optimal k'\u001B[0m\u001B[1;33m)\u001B[0m\u001B[1;33m\u001B[0m\u001B[1;33m\u001B[0m\u001B[0m\n",
      "\u001B[1;32mD:\\Zmea\\lib\\site-packages\\matplotlib\\pyplot.py\u001B[0m in \u001B[0;36mplot\u001B[1;34m(scalex, scaley, data, *args, **kwargs)\u001B[0m\n\u001B[0;32m   3017\u001B[0m \u001B[1;33m@\u001B[0m\u001B[0m_copy_docstring_and_deprecators\u001B[0m\u001B[1;33m(\u001B[0m\u001B[0mAxes\u001B[0m\u001B[1;33m.\u001B[0m\u001B[0mplot\u001B[0m\u001B[1;33m)\u001B[0m\u001B[1;33m\u001B[0m\u001B[1;33m\u001B[0m\u001B[0m\n\u001B[0;32m   3018\u001B[0m \u001B[1;32mdef\u001B[0m \u001B[0mplot\u001B[0m\u001B[1;33m(\u001B[0m\u001B[1;33m*\u001B[0m\u001B[0margs\u001B[0m\u001B[1;33m,\u001B[0m \u001B[0mscalex\u001B[0m\u001B[1;33m=\u001B[0m\u001B[1;32mTrue\u001B[0m\u001B[1;33m,\u001B[0m \u001B[0mscaley\u001B[0m\u001B[1;33m=\u001B[0m\u001B[1;32mTrue\u001B[0m\u001B[1;33m,\u001B[0m \u001B[0mdata\u001B[0m\u001B[1;33m=\u001B[0m\u001B[1;32mNone\u001B[0m\u001B[1;33m,\u001B[0m \u001B[1;33m**\u001B[0m\u001B[0mkwargs\u001B[0m\u001B[1;33m)\u001B[0m\u001B[1;33m:\u001B[0m\u001B[1;33m\u001B[0m\u001B[1;33m\u001B[0m\u001B[0m\n\u001B[1;32m-> 3019\u001B[1;33m     return gca().plot(\n\u001B[0m\u001B[0;32m   3020\u001B[0m         \u001B[1;33m*\u001B[0m\u001B[0margs\u001B[0m\u001B[1;33m,\u001B[0m \u001B[0mscalex\u001B[0m\u001B[1;33m=\u001B[0m\u001B[0mscalex\u001B[0m\u001B[1;33m,\u001B[0m \u001B[0mscaley\u001B[0m\u001B[1;33m=\u001B[0m\u001B[0mscaley\u001B[0m\u001B[1;33m,\u001B[0m\u001B[1;33m\u001B[0m\u001B[1;33m\u001B[0m\u001B[0m\n\u001B[0;32m   3021\u001B[0m         **({\"data\": data} if data is not None else {}), **kwargs)\n",
      "\u001B[1;32mD:\\Zmea\\lib\\site-packages\\matplotlib\\axes\\_axes.py\u001B[0m in \u001B[0;36mplot\u001B[1;34m(self, scalex, scaley, data, *args, **kwargs)\u001B[0m\n\u001B[0;32m   1603\u001B[0m         \"\"\"\n\u001B[0;32m   1604\u001B[0m         \u001B[0mkwargs\u001B[0m \u001B[1;33m=\u001B[0m \u001B[0mcbook\u001B[0m\u001B[1;33m.\u001B[0m\u001B[0mnormalize_kwargs\u001B[0m\u001B[1;33m(\u001B[0m\u001B[0mkwargs\u001B[0m\u001B[1;33m,\u001B[0m \u001B[0mmlines\u001B[0m\u001B[1;33m.\u001B[0m\u001B[0mLine2D\u001B[0m\u001B[1;33m)\u001B[0m\u001B[1;33m\u001B[0m\u001B[1;33m\u001B[0m\u001B[0m\n\u001B[1;32m-> 1605\u001B[1;33m         \u001B[0mlines\u001B[0m \u001B[1;33m=\u001B[0m \u001B[1;33m[\u001B[0m\u001B[1;33m*\u001B[0m\u001B[0mself\u001B[0m\u001B[1;33m.\u001B[0m\u001B[0m_get_lines\u001B[0m\u001B[1;33m(\u001B[0m\u001B[1;33m*\u001B[0m\u001B[0margs\u001B[0m\u001B[1;33m,\u001B[0m \u001B[0mdata\u001B[0m\u001B[1;33m=\u001B[0m\u001B[0mdata\u001B[0m\u001B[1;33m,\u001B[0m \u001B[1;33m**\u001B[0m\u001B[0mkwargs\u001B[0m\u001B[1;33m)\u001B[0m\u001B[1;33m]\u001B[0m\u001B[1;33m\u001B[0m\u001B[1;33m\u001B[0m\u001B[0m\n\u001B[0m\u001B[0;32m   1606\u001B[0m         \u001B[1;32mfor\u001B[0m \u001B[0mline\u001B[0m \u001B[1;32min\u001B[0m \u001B[0mlines\u001B[0m\u001B[1;33m:\u001B[0m\u001B[1;33m\u001B[0m\u001B[1;33m\u001B[0m\u001B[0m\n\u001B[0;32m   1607\u001B[0m             \u001B[0mself\u001B[0m\u001B[1;33m.\u001B[0m\u001B[0madd_line\u001B[0m\u001B[1;33m(\u001B[0m\u001B[0mline\u001B[0m\u001B[1;33m)\u001B[0m\u001B[1;33m\u001B[0m\u001B[1;33m\u001B[0m\u001B[0m\n",
      "\u001B[1;32mD:\\Zmea\\lib\\site-packages\\matplotlib\\axes\\_base.py\u001B[0m in \u001B[0;36m__call__\u001B[1;34m(self, data, *args, **kwargs)\u001B[0m\n\u001B[0;32m    313\u001B[0m                 \u001B[0mthis\u001B[0m \u001B[1;33m+=\u001B[0m \u001B[0margs\u001B[0m\u001B[1;33m[\u001B[0m\u001B[1;36m0\u001B[0m\u001B[1;33m]\u001B[0m\u001B[1;33m,\u001B[0m\u001B[1;33m\u001B[0m\u001B[1;33m\u001B[0m\u001B[0m\n\u001B[0;32m    314\u001B[0m                 \u001B[0margs\u001B[0m \u001B[1;33m=\u001B[0m \u001B[0margs\u001B[0m\u001B[1;33m[\u001B[0m\u001B[1;36m1\u001B[0m\u001B[1;33m:\u001B[0m\u001B[1;33m]\u001B[0m\u001B[1;33m\u001B[0m\u001B[1;33m\u001B[0m\u001B[0m\n\u001B[1;32m--> 315\u001B[1;33m             \u001B[1;32myield\u001B[0m \u001B[1;32mfrom\u001B[0m \u001B[0mself\u001B[0m\u001B[1;33m.\u001B[0m\u001B[0m_plot_args\u001B[0m\u001B[1;33m(\u001B[0m\u001B[0mthis\u001B[0m\u001B[1;33m,\u001B[0m \u001B[0mkwargs\u001B[0m\u001B[1;33m)\u001B[0m\u001B[1;33m\u001B[0m\u001B[1;33m\u001B[0m\u001B[0m\n\u001B[0m\u001B[0;32m    316\u001B[0m \u001B[1;33m\u001B[0m\u001B[0m\n\u001B[0;32m    317\u001B[0m     \u001B[1;32mdef\u001B[0m \u001B[0mget_next_color\u001B[0m\u001B[1;33m(\u001B[0m\u001B[0mself\u001B[0m\u001B[1;33m)\u001B[0m\u001B[1;33m:\u001B[0m\u001B[1;33m\u001B[0m\u001B[1;33m\u001B[0m\u001B[0m\n",
      "\u001B[1;32mD:\\Zmea\\lib\\site-packages\\matplotlib\\axes\\_base.py\u001B[0m in \u001B[0;36m_plot_args\u001B[1;34m(self, tup, kwargs, return_kwargs)\u001B[0m\n\u001B[0;32m    499\u001B[0m \u001B[1;33m\u001B[0m\u001B[0m\n\u001B[0;32m    500\u001B[0m         \u001B[1;32mif\u001B[0m \u001B[0mx\u001B[0m\u001B[1;33m.\u001B[0m\u001B[0mshape\u001B[0m\u001B[1;33m[\u001B[0m\u001B[1;36m0\u001B[0m\u001B[1;33m]\u001B[0m \u001B[1;33m!=\u001B[0m \u001B[0my\u001B[0m\u001B[1;33m.\u001B[0m\u001B[0mshape\u001B[0m\u001B[1;33m[\u001B[0m\u001B[1;36m0\u001B[0m\u001B[1;33m]\u001B[0m\u001B[1;33m:\u001B[0m\u001B[1;33m\u001B[0m\u001B[1;33m\u001B[0m\u001B[0m\n\u001B[1;32m--> 501\u001B[1;33m             raise ValueError(f\"x and y must have same first dimension, but \"\n\u001B[0m\u001B[0;32m    502\u001B[0m                              f\"have shapes {x.shape} and {y.shape}\")\n\u001B[0;32m    503\u001B[0m         \u001B[1;32mif\u001B[0m \u001B[0mx\u001B[0m\u001B[1;33m.\u001B[0m\u001B[0mndim\u001B[0m \u001B[1;33m>\u001B[0m \u001B[1;36m2\u001B[0m \u001B[1;32mor\u001B[0m \u001B[0my\u001B[0m\u001B[1;33m.\u001B[0m\u001B[0mndim\u001B[0m \u001B[1;33m>\u001B[0m \u001B[1;36m2\u001B[0m\u001B[1;33m:\u001B[0m\u001B[1;33m\u001B[0m\u001B[1;33m\u001B[0m\u001B[0m\n",
      "\u001B[1;31mValueError\u001B[0m: x and y must have same first dimension, but have shapes (20,) and (10,)"
     ]
    },
    {
     "data": {
      "text/plain": "<Figure size 432x288 with 1 Axes>",
      "image/png": "[encoded data removed]"
     },
     "metadata": {
      "needs_background": "light"
     },
     "output_type": "display_data"
    }
   ],
   "source": [
    "Sum_of_squared_distances = [59870.837107238796, 42816.165200366, 40363.191576060046, 38967.09418185946, 38320.23725858088, 37043.07821201664, 36219.8331295975, 35728.8078883875, 34784.69177862327, 34234.545065988255]\n",
    "plt.plot(range (1, 200, 10), Sum_of_squared_distances, 'bx-')\n",
    "plt.xlabel('k')\n",
    "plt.ylabel('Precision')\n",
    "plt.title('Elbow Method For Optimal k')\n",
    "plt.savefig('gmm.png')\n",
    "plt.show()"
   ],
   "metadata": {
    "collapsed": false,
    "pycharm": {
     "name": "#%%\n"
    }
   }
  },
  {
   "cell_type": "code",
   "execution_count": null,
   "outputs": [],
   "source": [],
   "metadata": {
    "collapsed": false,
    "pycharm": {
     "name": "#%%\n"
    }
   }
  }
 ],
 "metadata": {
  "kernelspec": {
   "name": "pycharm-ad42fc04",
   "language": "python",
   "display_name": "PyCharm (5LSH0 Computer Vision)"
  },
  "language_info": {
   "codemirror_mode": {
    "name": "ipython",
    "version": 2
   },
   "file_extension": ".py",
   "mimetype": "text/x-python",
   "name": "python",
   "nbconvert_exporter": "python",
   "pygments_lexer": "ipython2",
   "version": "2.7.6"
  }
 },
 "nbformat": 4,
 "nbformat_minor": 0
}