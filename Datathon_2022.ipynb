{
 "cells": [
  {
   "cell_type": "code",
   "execution_count": 2,
   "metadata": {
    "collapsed": true
   },
   "outputs": [],
   "source": [
    "import pandas as pd\n",
    "\n"
   ]
  },
  {
   "cell_type": "code",
   "execution_count": 3,
   "outputs": [],
   "source": [
    "tokens = pd.read_csv (r'Traits.csv')\n",
    "sales = pd.read_csv (r'Sales.csv')"
   ],
   "metadata": {
    "collapsed": false,
    "pycharm": {
     "name": "#%%\n"
    }
   }
  },
  {
   "cell_type": "code",
   "execution_count": 4,
   "outputs": [
    {
     "data": {
      "text/plain": "        Unnamed: 0      collection  \\\n0                0           azuki   \n1                1           azuki   \n2                2           azuki   \n3                3           azuki   \n4                4           azuki   \n...            ...             ...   \n696003       44435  pudgy_penguins   \n696004       44436  pudgy_penguins   \n696005       44437  pudgy_penguins   \n696006       44438  pudgy_penguins   \n696007       44439  pudgy_penguins   \n\n                                          contract  token_id  \\\n0       0xed5af388653567af2f388e6224dc7c4b3241c544         0   \n1       0xed5af388653567af2f388e6224dc7c4b3241c544         0   \n2       0xed5af388653567af2f388e6224dc7c4b3241c544         0   \n3       0xed5af388653567af2f388e6224dc7c4b3241c544         0   \n4       0xed5af388653567af2f388e6224dc7c4b3241c544         0   \n...                                            ...       ...   \n696003  0xbd3531da5cf5857e7cfaa92426877b022e612cf8      8887   \n696004  0xbd3531da5cf5857e7cfaa92426877b022e612cf8      8887   \n696005  0xbd3531da5cf5857e7cfaa92426877b022e612cf8      8887   \n696006  0xbd3531da5cf5857e7cfaa92426877b022e612cf8      8887   \n696007  0xbd3531da5cf5857e7cfaa92426877b022e612cf8      8887   \n\n                                                  nft_url  trait_type  \\\n0       https://ikzttp.mypinata.cloud/ipfs/QmQFkLSQysj...        Type   \n1       https://ikzttp.mypinata.cloud/ipfs/QmQFkLSQysj...        Hair   \n2       https://ikzttp.mypinata.cloud/ipfs/QmQFkLSQysj...    Clothing   \n3       https://ikzttp.mypinata.cloud/ipfs/QmQFkLSQysj...        Eyes   \n4       https://ikzttp.mypinata.cloud/ipfs/QmQFkLSQysj...       Mouth   \n...                                                   ...         ...   \n696003  https://ipfs.io/ipfs/QmWXJXRdExse2YHRY21Wvh4pj...  Background   \n696004  https://ipfs.io/ipfs/QmWXJXRdExse2YHRY21Wvh4pj...        Skin   \n696005  https://ipfs.io/ipfs/QmWXJXRdExse2YHRY21Wvh4pj...        Body   \n696006  https://ipfs.io/ipfs/QmWXJXRdExse2YHRY21Wvh4pj...        Face   \n696007  https://ipfs.io/ipfs/QmWXJXRdExse2YHRY21Wvh4pj...        Head   \n\n                        value  \n0                       Human  \n1                       Water  \n2       Pink Oversized Kimono  \n3                    Striking  \n4                       Frown  \n...                       ...  \n696003                   Blue  \n696004            Olive Green  \n696005           Puffer Green  \n696006         Handlebar Bear  \n696007           Flat Cap Tan  \n\n[696008 rows x 7 columns]",
      "text/html": "<div>\n<style scoped>\n    .dataframe tbody tr th:only-of-type {\n        vertical-align: middle;\n    }\n\n    .dataframe tbody tr th {\n        vertical-align: top;\n    }\n\n    .dataframe thead th {\n        text-align: right;\n    }\n</style>\n<table border=\"1\" class=\"dataframe\">\n  <thead>\n    <tr style=\"text-align: right;\">\n      <th></th>\n      <th>Unnamed: 0</th>\n      <th>collection</th>\n      <th>contract</th>\n      <th>token_id</th>\n      <th>nft_url</th>\n      <th>trait_type</th>\n      <th>value</th>\n    </tr>\n  </thead>\n  <tbody>\n    <tr>\n      <th>0</th>\n      <td>0</td>\n      <td>azuki</td>\n      <td>0xed5af388653567af2f388e6224dc7c4b3241c544</td>\n      <td>0</td>\n      <td>https://ikzttp.mypinata.cloud/ipfs/QmQFkLSQysj...</td>\n      <td>Type</td>\n      <td>Human</td>\n    </tr>\n    <tr>\n      <th>1</th>\n      <td>1</td>\n      <td>azuki</td>\n      <td>0xed5af388653567af2f388e6224dc7c4b3241c544</td>\n      <td>0</td>\n      <td>https://ikzttp.mypinata.cloud/ipfs/QmQFkLSQysj...</td>\n      <td>Hair</td>\n      <td>Water</td>\n    </tr>\n    <tr>\n      <th>2</th>\n      <td>2</td>\n      <td>azuki</td>\n      <td>0xed5af388653567af2f388e6224dc7c4b3241c544</td>\n      <td>0</td>\n      <td>https://ikzttp.mypinata.cloud/ipfs/QmQFkLSQysj...</td>\n      <td>Clothing</td>\n      <td>Pink Oversized Kimono</td>\n    </tr>\n    <tr>\n      <th>3</th>\n      <td>3</td>\n      <td>azuki</td>\n      <td>0xed5af388653567af2f388e6224dc7c4b3241c544</td>\n      <td>0</td>\n      <td>https://ikzttp.mypinata.cloud/ipfs/QmQFkLSQysj...</td>\n      <td>Eyes</td>\n      <td>Striking</td>\n    </tr>\n    <tr>\n      <th>4</th>\n      <td>4</td>\n      <td>azuki</td>\n      <td>0xed5af388653567af2f388e6224dc7c4b3241c544</td>\n      <td>0</td>\n      <td>https://ikzttp.mypinata.cloud/ipfs/QmQFkLSQysj...</td>\n      <td>Mouth</td>\n      <td>Frown</td>\n    </tr>\n    <tr>\n      <th>...</th>\n      <td>...</td>\n      <td>...</td>\n      <td>...</td>\n      <td>...</td>\n      <td>...</td>\n      <td>...</td>\n      <td>...</td>\n    </tr>\n    <tr>\n      <th>696003</th>\n      <td>44435</td>\n      <td>pudgy_penguins</td>\n      <td>0xbd3531da5cf5857e7cfaa92426877b022e612cf8</td>\n      <td>8887</td>\n      <td>https://ipfs.io/ipfs/QmWXJXRdExse2YHRY21Wvh4pj...</td>\n      <td>Background</td>\n      <td>Blue</td>\n    </tr>\n    <tr>\n      <th>696004</th>\n      <td>44436</td>\n      <td>pudgy_penguins</td>\n      <td>0xbd3531da5cf5857e7cfaa92426877b022e612cf8</td>\n      <td>8887</td>\n      <td>https://ipfs.io/ipfs/QmWXJXRdExse2YHRY21Wvh4pj...</td>\n      <td>Skin</td>\n      <td>Olive Green</td>\n    </tr>\n    <tr>\n      <th>696005</th>\n      <td>44437</td>\n      <td>pudgy_penguins</td>\n      <td>0xbd3531da5cf5857e7cfaa92426877b022e612cf8</td>\n      <td>8887</td>\n      <td>https://ipfs.io/ipfs/QmWXJXRdExse2YHRY21Wvh4pj...</td>\n      <td>Body</td>\n      <td>Puffer Green</td>\n    </tr>\n    <tr>\n      <th>696006</th>\n      <td>44438</td>\n      <td>pudgy_penguins</td>\n      <td>0xbd3531da5cf5857e7cfaa92426877b022e612cf8</td>\n      <td>8887</td>\n      <td>https://ipfs.io/ipfs/QmWXJXRdExse2YHRY21Wvh4pj...</td>\n      <td>Face</td>\n      <td>Handlebar Bear</td>\n    </tr>\n    <tr>\n      <th>696007</th>\n      <td>44439</td>\n      <td>pudgy_penguins</td>\n      <td>0xbd3531da5cf5857e7cfaa92426877b022e612cf8</td>\n      <td>8887</td>\n      <td>https://ipfs.io/ipfs/QmWXJXRdExse2YHRY21Wvh4pj...</td>\n      <td>Head</td>\n      <td>Flat Cap Tan</td>\n    </tr>\n  </tbody>\n</table>\n<p>696008 rows × 7 columns</p>\n</div>"
     },
     "execution_count": 4,
     "metadata": {},
     "output_type": "execute_result"
    }
   ],
   "source": [
    "tokens"
   ],
   "metadata": {
    "collapsed": false,
    "pycharm": {
     "name": "#%%\n"
    }
   }
  },
  {
   "cell_type": "code",
   "execution_count": 5,
   "outputs": [
    {
     "name": "stdout",
     "output_type": "stream",
     "text": [
      "[    0     1     2 ... 19997 19999 20000]\n",
      "collection\n",
      "BAYC              10000\n",
      "MAYC              18502\n",
      "azuki             10000\n",
      "clone_x           18895\n",
      "cool_cats          9933\n",
      "doodles           10000\n",
      "meebits           20000\n",
      "pudgy_penguins     8888\n",
      "Name: token_id, dtype: int64\n"
     ]
    }
   ],
   "source": [
    "print(pd.unique(tokens['token_id']))\n",
    "print(tokens.groupby('collection')['token_id'].nunique())"
   ],
   "metadata": {
    "collapsed": false,
    "pycharm": {
     "name": "#%%\n"
    }
   }
  },
  {
   "cell_type": "code",
   "execution_count": 6,
   "outputs": [],
   "source": [
    "grouped = tokens.groupby('collection')\n",
    "bayc = grouped.get_group('BAYC')\n",
    "mayc = grouped.get_group('MAYC')\n",
    "azuki = grouped.get_group('azuki')\n",
    "clone_x = grouped.get_group('clone_x')\n",
    "cool_cats = grouped.get_group('cool_cats')\n",
    "doodles = grouped.get_group('doodles')\n",
    "meebits = grouped.get_group('meebits')\n",
    "pudgy_penguins = grouped.get_group('pudgy_penguins')"
   ],
   "metadata": {
    "collapsed": false,
    "pycharm": {
     "name": "#%%\n"
    }
   }
  },
  {
   "cell_type": "code",
   "execution_count": 7,
   "outputs": [
    {
     "name": "stdout",
     "output_type": "stream",
     "text": [
      "trait_type\n",
      "Background    10000\n",
      "Clothes        8114\n",
      "Earring        2977\n",
      "Eyes          10000\n",
      "Fur           10000\n",
      "Hat            7744\n",
      "Mouth         10000\n",
      "Name: token_id, dtype: int64\n",
      "trait_type\n",
      "Background     8\n",
      "Clothes       43\n",
      "Earring        6\n",
      "Eyes          23\n",
      "Fur           19\n",
      "Hat           36\n",
      "Mouth         33\n",
      "Name: value, dtype: int64\n",
      "['Orange' 'Aquamarine' 'Purple' 'Blue' 'Army Green' 'Yellow' 'Gray'\n",
      " 'New Punk Blue']\n",
      "Purple           0.1291\n",
      "Yellow           0.1283\n",
      "Orange           0.1273\n",
      "Aquamarine       0.1266\n",
      "Army Green       0.1243\n",
      "Blue             0.1242\n",
      "New Punk Blue    0.1232\n",
      "Gray             0.1170\n",
      "Name: value, dtype: float64\n"
     ]
    }
   ],
   "source": [
    "bayc\n",
    "print(bayc.groupby('trait_type')['token_id'].nunique())\n",
    "print(bayc.groupby('trait_type')['value'].nunique())\n",
    "print(pd.unique(bayc.groupby('trait_type').get_group('Background')['value']))\n",
    "print(bayc.groupby('trait_type').get_group('Background')['value'].value_counts()/10000)"
   ],
   "metadata": {
    "collapsed": false,
    "pycharm": {
     "name": "#%%\n"
    }
   }
  },
  {
   "cell_type": "code",
   "execution_count": 8,
   "outputs": [
    {
     "data": {
      "text/plain": "        blockNumber   timeStamp  \\\n0          13988541  1641961048   \n41274      12292922  1619133220   \n41760      12344148  1619817106   \n104449     13117215  1630197658   \n296448     13449414  1634663005   \n326926     14312286  1646287360   \n344365     12755983  1625333674   \n378259     13911124  1640926643   \n\n                                                     hash  \\\n0       0xc208fdb2f133bda64522fececd6518a565aaa6e8801b...   \n41274   0xcfb197f62ec5c7f0e71a11ec0c4a0e394a3aa41db538...   \n41760   0x8a65c8db391825872ba66a06352cc62ac414ceb6e37b...   \n104449  0x612a5190e324f5455432af3aa2c97e9d35f036929263...   \n296448  0x663e8b5d7bd8871fba2b1fc969de039c0169e6e29222...   \n326926  0x05cf0366a09c22cd845dcf673a99bb8d7ecdfceb796e...   \n344365  0x9b4c1a1e0e72d41b85c2fec185433f95b63fa27178c8...   \n378259  0x6fc306f30007dc1c78141c27a7a8dbe7919814866c90...   \n\n                                              from  \\\n0       0x0000000000000000000000000000000000000000   \n41274   0x0000000000000000000000000000000000000000   \n41760   0xaba7161a7fb69c88e16ed9f455ce62b791ee4d03   \n104449  0x0000000000000000000000000000000000000000   \n296448  0xeff53613068a15a6845943e447fca03936c283c8   \n326926  0xad097fdcd58535250c59807d6683e0a6b688d6cc   \n344365  0xfc86a64a8de22cf25410f7601acbd8d6630da93d   \n378259  0x98bb3a3921200017ebd0af803aeddd464e70e791   \n\n                                   contractAddress  \\\n0       0xed5af388653567af2f388e6224dc7c4b3241c544   \n41274   0xbc4ca0eda7647a8ab7c2061c2e118a18a936f13d   \n41760   0xbc4ca0eda7647a8ab7c2061c2e118a18a936f13d   \n104449  0x60e4d786628fea6478f785a6d7e704777c86a7c6   \n296448  0x8a90cab2b38dba80c64b7734e58ee1db38b8992e   \n326926  0x8a90cab2b38dba80c64b7734e58ee1db38b8992e   \n344365  0x1a92f7381b9f03921564a437210bb9396471050c   \n378259  0x1a92f7381b9f03921564a437210bb9396471050c   \n\n                                                to  tokenID  \\\n0       0xd45058bf25bbd8f586124c479d384c8c708ce23a        0   \n41274   0xaba7161a7fb69c88e16ed9f455ce62b791ee4d03        0   \n41760   0xf7801b8115f3fe46ac55f8c0fdb5243726bdb66a        0   \n104449  0x9056d15c49b19df52ffad1e6c11627f035c0c960        0   \n296448  0xad097fdcd58535250c59807d6683e0a6b688d6cc        0   \n326926  0x620b70123fb810f6c653da7644b5dd0b6312e4d8        0   \n344365  0x98bb3a3921200017ebd0af803aeddd464e70e791        0   \n378259  0xd9463b55af194d4fa22a532a52f5bdd45b66d290        0   \n\n                 tokenName tokenSymbol      gasPrice currency     amount  \\\n0                    Azuki       AZUKI  144500135604      ETH   0.000000   \n41274    BoredApeYachtClub        BAYC   88000000000      ETH   0.000000   \n41760    BoredApeYachtClub        BAYC   46000000000      ETH   0.000000   \n104449  MutantApeYachtClub        MAYC   51851145919      ETH   2.999444   \n296448             Doodles      DOODLE  111000000000      ETH  10.000000   \n326926             Doodles      DOODLE   47742340029      ETH   0.000000   \n344365           Cool Cats        COOL   13000000000      ETH   0.000000   \n378259           Cool Cats        COOL  113793925785      ETH   0.000000   \n\n           amountUsd  \n0           0.000000  \n41274       0.000000  \n41760       0.000000  \n104449   9779.687491  \n296448  38090.531279  \n326926      0.000000  \n344365      0.000000  \n378259      0.000000  ",
      "text/html": "<div>\n<style scoped>\n    .dataframe tbody tr th:only-of-type {\n        vertical-align: middle;\n    }\n\n    .dataframe tbody tr th {\n        vertical-align: top;\n    }\n\n    .dataframe thead th {\n        text-align: right;\n    }\n</style>\n<table border=\"1\" class=\"dataframe\">\n  <thead>\n    <tr style=\"text-align: right;\">\n      <th></th>\n      <th>blockNumber</th>\n      <th>timeStamp</th>\n      <th>hash</th>\n      <th>from</th>\n      <th>contractAddress</th>\n      <th>to</th>\n      <th>tokenID</th>\n      <th>tokenName</th>\n      <th>tokenSymbol</th>\n      <th>gasPrice</th>\n      <th>currency</th>\n      <th>amount</th>\n      <th>amountUsd</th>\n    </tr>\n  </thead>\n  <tbody>\n    <tr>\n      <th>0</th>\n      <td>13988541</td>\n      <td>1641961048</td>\n      <td>0xc208fdb2f133bda64522fececd6518a565aaa6e8801b...</td>\n      <td>0x0000000000000000000000000000000000000000</td>\n      <td>0xed5af388653567af2f388e6224dc7c4b3241c544</td>\n      <td>0xd45058bf25bbd8f586124c479d384c8c708ce23a</td>\n      <td>0</td>\n      <td>Azuki</td>\n      <td>AZUKI</td>\n      <td>144500135604</td>\n      <td>ETH</td>\n      <td>0.000000</td>\n      <td>0.000000</td>\n    </tr>\n    <tr>\n      <th>41274</th>\n      <td>12292922</td>\n      <td>1619133220</td>\n      <td>0xcfb197f62ec5c7f0e71a11ec0c4a0e394a3aa41db538...</td>\n      <td>0x0000000000000000000000000000000000000000</td>\n      <td>0xbc4ca0eda7647a8ab7c2061c2e118a18a936f13d</td>\n      <td>0xaba7161a7fb69c88e16ed9f455ce62b791ee4d03</td>\n      <td>0</td>\n      <td>BoredApeYachtClub</td>\n      <td>BAYC</td>\n      <td>88000000000</td>\n      <td>ETH</td>\n      <td>0.000000</td>\n      <td>0.000000</td>\n    </tr>\n    <tr>\n      <th>41760</th>\n      <td>12344148</td>\n      <td>1619817106</td>\n      <td>0x8a65c8db391825872ba66a06352cc62ac414ceb6e37b...</td>\n      <td>0xaba7161a7fb69c88e16ed9f455ce62b791ee4d03</td>\n      <td>0xbc4ca0eda7647a8ab7c2061c2e118a18a936f13d</td>\n      <td>0xf7801b8115f3fe46ac55f8c0fdb5243726bdb66a</td>\n      <td>0</td>\n      <td>BoredApeYachtClub</td>\n      <td>BAYC</td>\n      <td>46000000000</td>\n      <td>ETH</td>\n      <td>0.000000</td>\n      <td>0.000000</td>\n    </tr>\n    <tr>\n      <th>104449</th>\n      <td>13117215</td>\n      <td>1630197658</td>\n      <td>0x612a5190e324f5455432af3aa2c97e9d35f036929263...</td>\n      <td>0x0000000000000000000000000000000000000000</td>\n      <td>0x60e4d786628fea6478f785a6d7e704777c86a7c6</td>\n      <td>0x9056d15c49b19df52ffad1e6c11627f035c0c960</td>\n      <td>0</td>\n      <td>MutantApeYachtClub</td>\n      <td>MAYC</td>\n      <td>51851145919</td>\n      <td>ETH</td>\n      <td>2.999444</td>\n      <td>9779.687491</td>\n    </tr>\n    <tr>\n      <th>296448</th>\n      <td>13449414</td>\n      <td>1634663005</td>\n      <td>0x663e8b5d7bd8871fba2b1fc969de039c0169e6e29222...</td>\n      <td>0xeff53613068a15a6845943e447fca03936c283c8</td>\n      <td>0x8a90cab2b38dba80c64b7734e58ee1db38b8992e</td>\n      <td>0xad097fdcd58535250c59807d6683e0a6b688d6cc</td>\n      <td>0</td>\n      <td>Doodles</td>\n      <td>DOODLE</td>\n      <td>111000000000</td>\n      <td>ETH</td>\n      <td>10.000000</td>\n      <td>38090.531279</td>\n    </tr>\n    <tr>\n      <th>326926</th>\n      <td>14312286</td>\n      <td>1646287360</td>\n      <td>0x05cf0366a09c22cd845dcf673a99bb8d7ecdfceb796e...</td>\n      <td>0xad097fdcd58535250c59807d6683e0a6b688d6cc</td>\n      <td>0x8a90cab2b38dba80c64b7734e58ee1db38b8992e</td>\n      <td>0x620b70123fb810f6c653da7644b5dd0b6312e4d8</td>\n      <td>0</td>\n      <td>Doodles</td>\n      <td>DOODLE</td>\n      <td>47742340029</td>\n      <td>ETH</td>\n      <td>0.000000</td>\n      <td>0.000000</td>\n    </tr>\n    <tr>\n      <th>344365</th>\n      <td>12755983</td>\n      <td>1625333674</td>\n      <td>0x9b4c1a1e0e72d41b85c2fec185433f95b63fa27178c8...</td>\n      <td>0xfc86a64a8de22cf25410f7601acbd8d6630da93d</td>\n      <td>0x1a92f7381b9f03921564a437210bb9396471050c</td>\n      <td>0x98bb3a3921200017ebd0af803aeddd464e70e791</td>\n      <td>0</td>\n      <td>Cool Cats</td>\n      <td>COOL</td>\n      <td>13000000000</td>\n      <td>ETH</td>\n      <td>0.000000</td>\n      <td>0.000000</td>\n    </tr>\n    <tr>\n      <th>378259</th>\n      <td>13911124</td>\n      <td>1640926643</td>\n      <td>0x6fc306f30007dc1c78141c27a7a8dbe7919814866c90...</td>\n      <td>0x98bb3a3921200017ebd0af803aeddd464e70e791</td>\n      <td>0x1a92f7381b9f03921564a437210bb9396471050c</td>\n      <td>0xd9463b55af194d4fa22a532a52f5bdd45b66d290</td>\n      <td>0</td>\n      <td>Cool Cats</td>\n      <td>COOL</td>\n      <td>113793925785</td>\n      <td>ETH</td>\n      <td>0.000000</td>\n      <td>0.000000</td>\n    </tr>\n  </tbody>\n</table>\n</div>"
     },
     "execution_count": 8,
     "metadata": {},
     "output_type": "execute_result"
    }
   ],
   "source": [
    "sales[sales['tokenID'] == 0]"
   ],
   "metadata": {
    "collapsed": false,
    "pycharm": {
     "name": "#%%\n"
    }
   }
  },
  {
   "cell_type": "code",
   "execution_count": 9,
   "outputs": [
    {
     "name": "stdout",
     "output_type": "stream",
     "text": [
      "tokenName\n",
      "Azuki                 10000\n",
      "BoredApeYachtClub     10000\n",
      "CloneX                18554\n",
      "Cool Cats              9938\n",
      "Doodles                9784\n",
      "Meebits               19999\n",
      "MutantApeYachtClub    17990\n",
      "PudgyPenguins          8887\n",
      "Name: tokenID, dtype: int64\n"
     ]
    }
   ],
   "source": [
    "print(sales.groupby('tokenName')['tokenID'].nunique())"
   ],
   "metadata": {
    "collapsed": false,
    "pycharm": {
     "name": "#%%\n"
    }
   }
  },
  {
   "cell_type": "code",
   "execution_count": 10,
   "outputs": [
    {
     "name": "stdout",
     "output_type": "stream",
     "text": [
      "<pandas.core.groupby.generic.DataFrameGroupBy object at 0x0000025337C345E0>\n"
     ]
    }
   ],
   "source": [
    "# pd.get_dummies(bayc['value'])\n",
    "bayc_features = bayc.groupby('token_id')#.filter('trait_type')\n",
    "print(bayc_features)"
   ],
   "metadata": {
    "collapsed": false,
    "pycharm": {
     "name": "#%%\n"
    }
   }
  },
  {
   "cell_type": "code",
   "execution_count": 13,
   "outputs": [
    {
     "ename": "TypeError",
     "evalue": "unhashable type: 'Series'",
     "output_type": "error",
     "traceback": [
      "\u001B[1;31m---------------------------------------------------------------------------\u001B[0m",
      "\u001B[1;31mTypeError\u001B[0m                                 Traceback (most recent call last)",
      "\u001B[1;32mC:\\Users\\IVANIV~1\\AppData\\Local\\Temp/ipykernel_17584/3916860816.py\u001B[0m in \u001B[0;36m<module>\u001B[1;34m\u001B[0m\n\u001B[1;32m----> 1\u001B[1;33m \u001B[0mdf\u001B[0m \u001B[1;33m=\u001B[0m \u001B[0mpd\u001B[0m\u001B[1;33m.\u001B[0m\u001B[0mDataFrame\u001B[0m\u001B[1;33m(\u001B[0m\u001B[1;33m{\u001B[0m\u001B[0mbayc\u001B[0m\u001B[1;33m[\u001B[0m\u001B[1;34m'trait_type'\u001B[0m\u001B[1;33m]\u001B[0m \u001B[1;33m:\u001B[0m \u001B[0mbayc\u001B[0m\u001B[1;33m[\u001B[0m\u001B[1;34m'value'\u001B[0m\u001B[1;33m]\u001B[0m\u001B[1;33m}\u001B[0m\u001B[1;33m,\u001B[0m \u001B[0mindex\u001B[0m\u001B[1;33m=\u001B[0m\u001B[0mbayc\u001B[0m\u001B[1;33m[\u001B[0m\u001B[1;34m'token_id'\u001B[0m\u001B[1;33m]\u001B[0m\u001B[1;33m)\u001B[0m\u001B[1;33m\u001B[0m\u001B[1;33m\u001B[0m\u001B[0m\n\u001B[0m\u001B[0;32m      2\u001B[0m \u001B[0mprint\u001B[0m\u001B[1;33m(\u001B[0m\u001B[0mdf\u001B[0m\u001B[1;33m)\u001B[0m\u001B[1;33m\u001B[0m\u001B[1;33m\u001B[0m\u001B[0m\n",
      "\u001B[1;31mTypeError\u001B[0m: unhashable type: 'Series'"
     ]
    }
   ],
   "source": [
    "df = pd.DataFrame({bayc['trait_type'] : bayc['value']}, index=bayc['token_id'])\n",
    "print(df)"
   ],
   "metadata": {
    "collapsed": false,
    "pycharm": {
     "name": "#%%\n"
    }
   }
  },
  {
   "cell_type": "code",
   "execution_count": null,
   "outputs": [],
   "source": [
    "bayc_nft = []\n",
    "for id in bayc['token_id'].unique():\n",
    "    for _, row in bayc[bayc.token_id == id].itterrows():\n",
    "        row.trait_type : row.value"
   ],
   "metadata": {
    "collapsed": false,
    "pycharm": {
     "name": "#%%\n"
    }
   }
  }
 ],
 "metadata": {
  "kernelspec": {
   "name": "pycharm-ad42fc04",
   "language": "python",
   "display_name": "PyCharm (5LSH0 Computer Vision)"
  },
  "language_info": {
   "codemirror_mode": {
    "name": "ipython",
    "version": 2
   },
   "file_extension": ".py",
   "mimetype": "text/x-python",
   "name": "python",
   "nbconvert_exporter": "python",
   "pygments_lexer": "ipython2",
   "version": "2.7.6"
  }
 },
 "nbformat": 4,
 "nbformat_minor": 0
}